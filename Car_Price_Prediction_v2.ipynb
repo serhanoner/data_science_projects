{
 "cells": [
  {
   "cell_type": "code",
   "execution_count": null,
   "metadata": {},
   "outputs": [],
   "source": [
    "\"\"\"\"\n",
    "In this project, we'll mostly focus on the effects of different parameters of our functions, \n",
    "approaches and that kind of stuff.\n",
    "\"\"\""
   ]
  },
  {
   "cell_type": "markdown",
   "metadata": {},
   "source": [
    "# Reading & Understanding the Behaviour of Data"
   ]
  },
  {
   "cell_type": "code",
   "execution_count": 111,
   "metadata": {},
   "outputs": [
    {
     "data": {
      "text/html": [
       "<div>\n",
       "<style scoped>\n",
       "    .dataframe tbody tr th:only-of-type {\n",
       "        vertical-align: middle;\n",
       "    }\n",
       "\n",
       "    .dataframe tbody tr th {\n",
       "        vertical-align: top;\n",
       "    }\n",
       "\n",
       "    .dataframe thead th {\n",
       "        text-align: right;\n",
       "    }\n",
       "</style>\n",
       "<table border=\"1\" class=\"dataframe\">\n",
       "  <thead>\n",
       "    <tr style=\"text-align: right;\">\n",
       "      <th></th>\n",
       "      <th>car_ID</th>\n",
       "      <th>symboling</th>\n",
       "      <th>CarName</th>\n",
       "      <th>fueltype</th>\n",
       "      <th>aspiration</th>\n",
       "      <th>doornumber</th>\n",
       "      <th>carbody</th>\n",
       "      <th>drivewheel</th>\n",
       "      <th>enginelocation</th>\n",
       "      <th>wheelbase</th>\n",
       "      <th>...</th>\n",
       "      <th>enginesize</th>\n",
       "      <th>fuelsystem</th>\n",
       "      <th>boreratio</th>\n",
       "      <th>stroke</th>\n",
       "      <th>compressionratio</th>\n",
       "      <th>horsepower</th>\n",
       "      <th>peakrpm</th>\n",
       "      <th>citympg</th>\n",
       "      <th>highwaympg</th>\n",
       "      <th>price</th>\n",
       "    </tr>\n",
       "  </thead>\n",
       "  <tbody>\n",
       "    <tr>\n",
       "      <th>0</th>\n",
       "      <td>1</td>\n",
       "      <td>3</td>\n",
       "      <td>alfa-romero giulia</td>\n",
       "      <td>gas</td>\n",
       "      <td>std</td>\n",
       "      <td>two</td>\n",
       "      <td>convertible</td>\n",
       "      <td>rwd</td>\n",
       "      <td>front</td>\n",
       "      <td>88.600</td>\n",
       "      <td>...</td>\n",
       "      <td>130</td>\n",
       "      <td>mpfi</td>\n",
       "      <td>3.470</td>\n",
       "      <td>2.680</td>\n",
       "      <td>9.000</td>\n",
       "      <td>111</td>\n",
       "      <td>5000</td>\n",
       "      <td>21</td>\n",
       "      <td>27</td>\n",
       "      <td>13495.000</td>\n",
       "    </tr>\n",
       "    <tr>\n",
       "      <th>1</th>\n",
       "      <td>2</td>\n",
       "      <td>3</td>\n",
       "      <td>alfa-romero stelvio</td>\n",
       "      <td>gas</td>\n",
       "      <td>std</td>\n",
       "      <td>two</td>\n",
       "      <td>convertible</td>\n",
       "      <td>rwd</td>\n",
       "      <td>front</td>\n",
       "      <td>88.600</td>\n",
       "      <td>...</td>\n",
       "      <td>130</td>\n",
       "      <td>mpfi</td>\n",
       "      <td>3.470</td>\n",
       "      <td>2.680</td>\n",
       "      <td>9.000</td>\n",
       "      <td>111</td>\n",
       "      <td>5000</td>\n",
       "      <td>21</td>\n",
       "      <td>27</td>\n",
       "      <td>16500.000</td>\n",
       "    </tr>\n",
       "    <tr>\n",
       "      <th>2</th>\n",
       "      <td>3</td>\n",
       "      <td>1</td>\n",
       "      <td>alfa-romero Quadrifoglio</td>\n",
       "      <td>gas</td>\n",
       "      <td>std</td>\n",
       "      <td>two</td>\n",
       "      <td>hatchback</td>\n",
       "      <td>rwd</td>\n",
       "      <td>front</td>\n",
       "      <td>94.500</td>\n",
       "      <td>...</td>\n",
       "      <td>152</td>\n",
       "      <td>mpfi</td>\n",
       "      <td>2.680</td>\n",
       "      <td>3.470</td>\n",
       "      <td>9.000</td>\n",
       "      <td>154</td>\n",
       "      <td>5000</td>\n",
       "      <td>19</td>\n",
       "      <td>26</td>\n",
       "      <td>16500.000</td>\n",
       "    </tr>\n",
       "    <tr>\n",
       "      <th>3</th>\n",
       "      <td>4</td>\n",
       "      <td>2</td>\n",
       "      <td>audi 100 ls</td>\n",
       "      <td>gas</td>\n",
       "      <td>std</td>\n",
       "      <td>four</td>\n",
       "      <td>sedan</td>\n",
       "      <td>fwd</td>\n",
       "      <td>front</td>\n",
       "      <td>99.800</td>\n",
       "      <td>...</td>\n",
       "      <td>109</td>\n",
       "      <td>mpfi</td>\n",
       "      <td>3.190</td>\n",
       "      <td>3.400</td>\n",
       "      <td>10.000</td>\n",
       "      <td>102</td>\n",
       "      <td>5500</td>\n",
       "      <td>24</td>\n",
       "      <td>30</td>\n",
       "      <td>13950.000</td>\n",
       "    </tr>\n",
       "    <tr>\n",
       "      <th>4</th>\n",
       "      <td>5</td>\n",
       "      <td>2</td>\n",
       "      <td>audi 100ls</td>\n",
       "      <td>gas</td>\n",
       "      <td>std</td>\n",
       "      <td>four</td>\n",
       "      <td>sedan</td>\n",
       "      <td>4wd</td>\n",
       "      <td>front</td>\n",
       "      <td>99.400</td>\n",
       "      <td>...</td>\n",
       "      <td>136</td>\n",
       "      <td>mpfi</td>\n",
       "      <td>3.190</td>\n",
       "      <td>3.400</td>\n",
       "      <td>8.000</td>\n",
       "      <td>115</td>\n",
       "      <td>5500</td>\n",
       "      <td>18</td>\n",
       "      <td>22</td>\n",
       "      <td>17450.000</td>\n",
       "    </tr>\n",
       "    <tr>\n",
       "      <th>...</th>\n",
       "      <td>...</td>\n",
       "      <td>...</td>\n",
       "      <td>...</td>\n",
       "      <td>...</td>\n",
       "      <td>...</td>\n",
       "      <td>...</td>\n",
       "      <td>...</td>\n",
       "      <td>...</td>\n",
       "      <td>...</td>\n",
       "      <td>...</td>\n",
       "      <td>...</td>\n",
       "      <td>...</td>\n",
       "      <td>...</td>\n",
       "      <td>...</td>\n",
       "      <td>...</td>\n",
       "      <td>...</td>\n",
       "      <td>...</td>\n",
       "      <td>...</td>\n",
       "      <td>...</td>\n",
       "      <td>...</td>\n",
       "      <td>...</td>\n",
       "    </tr>\n",
       "    <tr>\n",
       "      <th>200</th>\n",
       "      <td>201</td>\n",
       "      <td>-1</td>\n",
       "      <td>volvo 145e (sw)</td>\n",
       "      <td>gas</td>\n",
       "      <td>std</td>\n",
       "      <td>four</td>\n",
       "      <td>sedan</td>\n",
       "      <td>rwd</td>\n",
       "      <td>front</td>\n",
       "      <td>109.100</td>\n",
       "      <td>...</td>\n",
       "      <td>141</td>\n",
       "      <td>mpfi</td>\n",
       "      <td>3.780</td>\n",
       "      <td>3.150</td>\n",
       "      <td>9.500</td>\n",
       "      <td>114</td>\n",
       "      <td>5400</td>\n",
       "      <td>23</td>\n",
       "      <td>28</td>\n",
       "      <td>16845.000</td>\n",
       "    </tr>\n",
       "    <tr>\n",
       "      <th>201</th>\n",
       "      <td>202</td>\n",
       "      <td>-1</td>\n",
       "      <td>volvo 144ea</td>\n",
       "      <td>gas</td>\n",
       "      <td>turbo</td>\n",
       "      <td>four</td>\n",
       "      <td>sedan</td>\n",
       "      <td>rwd</td>\n",
       "      <td>front</td>\n",
       "      <td>109.100</td>\n",
       "      <td>...</td>\n",
       "      <td>141</td>\n",
       "      <td>mpfi</td>\n",
       "      <td>3.780</td>\n",
       "      <td>3.150</td>\n",
       "      <td>8.700</td>\n",
       "      <td>160</td>\n",
       "      <td>5300</td>\n",
       "      <td>19</td>\n",
       "      <td>25</td>\n",
       "      <td>19045.000</td>\n",
       "    </tr>\n",
       "    <tr>\n",
       "      <th>202</th>\n",
       "      <td>203</td>\n",
       "      <td>-1</td>\n",
       "      <td>volvo 244dl</td>\n",
       "      <td>gas</td>\n",
       "      <td>std</td>\n",
       "      <td>four</td>\n",
       "      <td>sedan</td>\n",
       "      <td>rwd</td>\n",
       "      <td>front</td>\n",
       "      <td>109.100</td>\n",
       "      <td>...</td>\n",
       "      <td>173</td>\n",
       "      <td>mpfi</td>\n",
       "      <td>3.580</td>\n",
       "      <td>2.870</td>\n",
       "      <td>8.800</td>\n",
       "      <td>134</td>\n",
       "      <td>5500</td>\n",
       "      <td>18</td>\n",
       "      <td>23</td>\n",
       "      <td>21485.000</td>\n",
       "    </tr>\n",
       "    <tr>\n",
       "      <th>203</th>\n",
       "      <td>204</td>\n",
       "      <td>-1</td>\n",
       "      <td>volvo 246</td>\n",
       "      <td>diesel</td>\n",
       "      <td>turbo</td>\n",
       "      <td>four</td>\n",
       "      <td>sedan</td>\n",
       "      <td>rwd</td>\n",
       "      <td>front</td>\n",
       "      <td>109.100</td>\n",
       "      <td>...</td>\n",
       "      <td>145</td>\n",
       "      <td>idi</td>\n",
       "      <td>3.010</td>\n",
       "      <td>3.400</td>\n",
       "      <td>23.000</td>\n",
       "      <td>106</td>\n",
       "      <td>4800</td>\n",
       "      <td>26</td>\n",
       "      <td>27</td>\n",
       "      <td>22470.000</td>\n",
       "    </tr>\n",
       "    <tr>\n",
       "      <th>204</th>\n",
       "      <td>205</td>\n",
       "      <td>-1</td>\n",
       "      <td>volvo 264gl</td>\n",
       "      <td>gas</td>\n",
       "      <td>turbo</td>\n",
       "      <td>four</td>\n",
       "      <td>sedan</td>\n",
       "      <td>rwd</td>\n",
       "      <td>front</td>\n",
       "      <td>109.100</td>\n",
       "      <td>...</td>\n",
       "      <td>141</td>\n",
       "      <td>mpfi</td>\n",
       "      <td>3.780</td>\n",
       "      <td>3.150</td>\n",
       "      <td>9.500</td>\n",
       "      <td>114</td>\n",
       "      <td>5400</td>\n",
       "      <td>19</td>\n",
       "      <td>25</td>\n",
       "      <td>22625.000</td>\n",
       "    </tr>\n",
       "  </tbody>\n",
       "</table>\n",
       "<p>205 rows × 26 columns</p>\n",
       "</div>"
      ],
      "text/plain": [
       "     car_ID  symboling                   CarName fueltype aspiration  \\\n",
       "0         1          3        alfa-romero giulia      gas        std   \n",
       "1         2          3       alfa-romero stelvio      gas        std   \n",
       "2         3          1  alfa-romero Quadrifoglio      gas        std   \n",
       "3         4          2               audi 100 ls      gas        std   \n",
       "4         5          2                audi 100ls      gas        std   \n",
       "..      ...        ...                       ...      ...        ...   \n",
       "200     201         -1           volvo 145e (sw)      gas        std   \n",
       "201     202         -1               volvo 144ea      gas      turbo   \n",
       "202     203         -1               volvo 244dl      gas        std   \n",
       "203     204         -1                 volvo 246   diesel      turbo   \n",
       "204     205         -1               volvo 264gl      gas      turbo   \n",
       "\n",
       "    doornumber      carbody drivewheel enginelocation  wheelbase  ...  \\\n",
       "0          two  convertible        rwd          front     88.600  ...   \n",
       "1          two  convertible        rwd          front     88.600  ...   \n",
       "2          two    hatchback        rwd          front     94.500  ...   \n",
       "3         four        sedan        fwd          front     99.800  ...   \n",
       "4         four        sedan        4wd          front     99.400  ...   \n",
       "..         ...          ...        ...            ...        ...  ...   \n",
       "200       four        sedan        rwd          front    109.100  ...   \n",
       "201       four        sedan        rwd          front    109.100  ...   \n",
       "202       four        sedan        rwd          front    109.100  ...   \n",
       "203       four        sedan        rwd          front    109.100  ...   \n",
       "204       four        sedan        rwd          front    109.100  ...   \n",
       "\n",
       "     enginesize  fuelsystem  boreratio  stroke compressionratio horsepower  \\\n",
       "0           130        mpfi      3.470   2.680            9.000        111   \n",
       "1           130        mpfi      3.470   2.680            9.000        111   \n",
       "2           152        mpfi      2.680   3.470            9.000        154   \n",
       "3           109        mpfi      3.190   3.400           10.000        102   \n",
       "4           136        mpfi      3.190   3.400            8.000        115   \n",
       "..          ...         ...        ...     ...              ...        ...   \n",
       "200         141        mpfi      3.780   3.150            9.500        114   \n",
       "201         141        mpfi      3.780   3.150            8.700        160   \n",
       "202         173        mpfi      3.580   2.870            8.800        134   \n",
       "203         145         idi      3.010   3.400           23.000        106   \n",
       "204         141        mpfi      3.780   3.150            9.500        114   \n",
       "\n",
       "     peakrpm citympg  highwaympg     price  \n",
       "0       5000      21          27 13495.000  \n",
       "1       5000      21          27 16500.000  \n",
       "2       5000      19          26 16500.000  \n",
       "3       5500      24          30 13950.000  \n",
       "4       5500      18          22 17450.000  \n",
       "..       ...     ...         ...       ...  \n",
       "200     5400      23          28 16845.000  \n",
       "201     5300      19          25 19045.000  \n",
       "202     5500      18          23 21485.000  \n",
       "203     4800      26          27 22470.000  \n",
       "204     5400      19          25 22625.000  \n",
       "\n",
       "[205 rows x 26 columns]"
      ]
     },
     "execution_count": 111,
     "metadata": {},
     "output_type": "execute_result"
    }
   ],
   "source": [
    "import matplotlib.pyplot as plt\n",
    "import numpy as np\n",
    "import pandas as pd\n",
    "import sklearn\n",
    "from sklearn import linear_model\n",
    "from sklearn.linear_model import LinearRegression\n",
    "from sklearn.model_selection import train_test_split\n",
    "from sklearn.metrics import mean_absolute_error\n",
    "import statsmodels.api as sm\n",
    "from statsmodels.tools.eval_measures import mse, rmse\n",
    "import seaborn as sns\n",
    "\n",
    "# Display preferences.\n",
    "%matplotlib inline\n",
    "pd.options.display.float_format = '{:.3f}'.format\n",
    "\n",
    "import warnings\n",
    "warnings.filterwarnings(action=\"ignore\")\n",
    "\n",
    "car_df = pd.read_csv(r'C:\\Users\\aksak\\OneDrive\\Masaüstü\\DataJarlabs_Assignments\\CarPrice_Assignment.csv')\n",
    "car_df"
   ]
  },
  {
   "cell_type": "code",
   "execution_count": 112,
   "metadata": {},
   "outputs": [],
   "source": [
    "car_df = car_df.drop(['car_ID'], axis=1)"
   ]
  },
  {
   "cell_type": "code",
   "execution_count": 113,
   "metadata": {},
   "outputs": [
    {
     "name": "stdout",
     "output_type": "stream",
     "text": [
      "<class 'pandas.core.frame.DataFrame'>\n",
      "RangeIndex: 205 entries, 0 to 204\n",
      "Data columns (total 25 columns):\n",
      " #   Column            Non-Null Count  Dtype  \n",
      "---  ------            --------------  -----  \n",
      " 0   symboling         205 non-null    int64  \n",
      " 1   CarName           205 non-null    object \n",
      " 2   fueltype          205 non-null    object \n",
      " 3   aspiration        205 non-null    object \n",
      " 4   doornumber        205 non-null    object \n",
      " 5   carbody           205 non-null    object \n",
      " 6   drivewheel        205 non-null    object \n",
      " 7   enginelocation    205 non-null    object \n",
      " 8   wheelbase         205 non-null    float64\n",
      " 9   carlength         205 non-null    float64\n",
      " 10  carwidth          205 non-null    float64\n",
      " 11  carheight         205 non-null    float64\n",
      " 12  curbweight        205 non-null    int64  \n",
      " 13  enginetype        205 non-null    object \n",
      " 14  cylindernumber    205 non-null    object \n",
      " 15  enginesize        205 non-null    int64  \n",
      " 16  fuelsystem        205 non-null    object \n",
      " 17  boreratio         205 non-null    float64\n",
      " 18  stroke            205 non-null    float64\n",
      " 19  compressionratio  205 non-null    float64\n",
      " 20  horsepower        205 non-null    int64  \n",
      " 21  peakrpm           205 non-null    int64  \n",
      " 22  citympg           205 non-null    int64  \n",
      " 23  highwaympg        205 non-null    int64  \n",
      " 24  price             205 non-null    float64\n",
      "dtypes: float64(8), int64(7), object(10)\n",
      "memory usage: 40.2+ KB\n"
     ]
    }
   ],
   "source": [
    "car_df.info()"
   ]
  },
  {
   "cell_type": "code",
   "execution_count": 114,
   "metadata": {},
   "outputs": [
    {
     "data": {
      "text/plain": [
       "count     205.000\n",
       "mean    13276.711\n",
       "std      7988.852\n",
       "min      5118.000\n",
       "25%      7788.000\n",
       "50%     10295.000\n",
       "75%     16503.000\n",
       "max     45400.000\n",
       "Name: price, dtype: float64"
      ]
     },
     "execution_count": 114,
     "metadata": {},
     "output_type": "execute_result"
    }
   ],
   "source": [
    "car_df.price.describe()"
   ]
  },
  {
   "cell_type": "code",
   "execution_count": 115,
   "metadata": {},
   "outputs": [],
   "source": [
    "# observe that mean > %50 for car_prices for further intuitions."
   ]
  },
  {
   "cell_type": "code",
   "execution_count": 116,
   "metadata": {},
   "outputs": [
    {
     "data": {
      "text/html": [
       "<div>\n",
       "<style scoped>\n",
       "    .dataframe tbody tr th:only-of-type {\n",
       "        vertical-align: middle;\n",
       "    }\n",
       "\n",
       "    .dataframe tbody tr th {\n",
       "        vertical-align: top;\n",
       "    }\n",
       "\n",
       "    .dataframe thead th {\n",
       "        text-align: right;\n",
       "    }\n",
       "</style>\n",
       "<table border=\"1\" class=\"dataframe\">\n",
       "  <thead>\n",
       "    <tr style=\"text-align: right;\">\n",
       "      <th></th>\n",
       "      <th>CarName</th>\n",
       "      <th>fueltype</th>\n",
       "      <th>aspiration</th>\n",
       "      <th>doornumber</th>\n",
       "      <th>carbody</th>\n",
       "      <th>drivewheel</th>\n",
       "      <th>enginelocation</th>\n",
       "      <th>enginetype</th>\n",
       "      <th>cylindernumber</th>\n",
       "      <th>fuelsystem</th>\n",
       "    </tr>\n",
       "  </thead>\n",
       "  <tbody>\n",
       "    <tr>\n",
       "      <th>count</th>\n",
       "      <td>205</td>\n",
       "      <td>205</td>\n",
       "      <td>205</td>\n",
       "      <td>205</td>\n",
       "      <td>205</td>\n",
       "      <td>205</td>\n",
       "      <td>205</td>\n",
       "      <td>205</td>\n",
       "      <td>205</td>\n",
       "      <td>205</td>\n",
       "    </tr>\n",
       "    <tr>\n",
       "      <th>unique</th>\n",
       "      <td>147</td>\n",
       "      <td>2</td>\n",
       "      <td>2</td>\n",
       "      <td>2</td>\n",
       "      <td>5</td>\n",
       "      <td>3</td>\n",
       "      <td>2</td>\n",
       "      <td>7</td>\n",
       "      <td>7</td>\n",
       "      <td>8</td>\n",
       "    </tr>\n",
       "    <tr>\n",
       "      <th>top</th>\n",
       "      <td>peugeot 504</td>\n",
       "      <td>gas</td>\n",
       "      <td>std</td>\n",
       "      <td>four</td>\n",
       "      <td>sedan</td>\n",
       "      <td>fwd</td>\n",
       "      <td>front</td>\n",
       "      <td>ohc</td>\n",
       "      <td>four</td>\n",
       "      <td>mpfi</td>\n",
       "    </tr>\n",
       "    <tr>\n",
       "      <th>freq</th>\n",
       "      <td>6</td>\n",
       "      <td>185</td>\n",
       "      <td>168</td>\n",
       "      <td>115</td>\n",
       "      <td>96</td>\n",
       "      <td>120</td>\n",
       "      <td>202</td>\n",
       "      <td>148</td>\n",
       "      <td>159</td>\n",
       "      <td>94</td>\n",
       "    </tr>\n",
       "  </tbody>\n",
       "</table>\n",
       "</div>"
      ],
      "text/plain": [
       "            CarName fueltype aspiration doornumber carbody drivewheel  \\\n",
       "count           205      205        205        205     205        205   \n",
       "unique          147        2          2          2       5          3   \n",
       "top     peugeot 504      gas        std       four   sedan        fwd   \n",
       "freq              6      185        168        115      96        120   \n",
       "\n",
       "       enginelocation enginetype cylindernumber fuelsystem  \n",
       "count             205        205            205        205  \n",
       "unique              2          7              7          8  \n",
       "top             front        ohc           four       mpfi  \n",
       "freq              202        148            159         94  "
      ]
     },
     "execution_count": 116,
     "metadata": {},
     "output_type": "execute_result"
    }
   ],
   "source": [
    "car_df.describe(include=['O'])"
   ]
  },
  {
   "cell_type": "code",
   "execution_count": 117,
   "metadata": {},
   "outputs": [
    {
     "name": "stdout",
     "output_type": "stream",
     "text": [
      "symboling : 6\n",
      "CarName : 147\n",
      "fueltype : 2\n",
      "aspiration : 2\n",
      "doornumber : 2\n",
      "carbody : 5\n",
      "drivewheel : 3\n",
      "enginelocation : 2\n",
      "wheelbase : 53\n",
      "carlength : 75\n",
      "carwidth : 44\n",
      "carheight : 49\n",
      "curbweight : 171\n",
      "enginetype : 7\n",
      "cylindernumber : 7\n",
      "enginesize : 44\n",
      "fuelsystem : 8\n",
      "boreratio : 38\n",
      "stroke : 37\n",
      "compressionratio : 32\n",
      "horsepower : 59\n",
      "peakrpm : 23\n",
      "citympg : 29\n",
      "highwaympg : 30\n",
      "price : 189\n"
     ]
    }
   ],
   "source": [
    "for x in car_df.columns:\n",
    "    #printing unique values\n",
    "    print(x ,':', len(car_df[x].unique()))"
   ]
  },
  {
   "cell_type": "code",
   "execution_count": 118,
   "metadata": {},
   "outputs": [
    {
     "data": {
      "text/plain": [
       "array(['alfa-romero giulia', 'alfa-romero stelvio',\n",
       "       'alfa-romero Quadrifoglio', 'audi 100 ls', 'audi 100ls',\n",
       "       'audi fox', 'audi 5000', 'audi 4000', 'audi 5000s (diesel)',\n",
       "       'bmw 320i', 'bmw x1', 'bmw x3', 'bmw z4', 'bmw x4', 'bmw x5',\n",
       "       'chevrolet impala', 'chevrolet monte carlo', 'chevrolet vega 2300',\n",
       "       'dodge rampage', 'dodge challenger se', 'dodge d200',\n",
       "       'dodge monaco (sw)', 'dodge colt hardtop', 'dodge colt (sw)',\n",
       "       'dodge coronet custom', 'dodge dart custom',\n",
       "       'dodge coronet custom (sw)', 'honda civic', 'honda civic cvcc',\n",
       "       'honda accord cvcc', 'honda accord lx', 'honda civic 1500 gl',\n",
       "       'honda accord', 'honda civic 1300', 'honda prelude',\n",
       "       'honda civic (auto)', 'isuzu MU-X', 'isuzu D-Max ',\n",
       "       'isuzu D-Max V-Cross', 'jaguar xj', 'jaguar xf', 'jaguar xk',\n",
       "       'maxda rx3', 'maxda glc deluxe', 'mazda rx2 coupe', 'mazda rx-4',\n",
       "       'mazda glc deluxe', 'mazda 626', 'mazda glc', 'mazda rx-7 gs',\n",
       "       'mazda glc 4', 'mazda glc custom l', 'mazda glc custom',\n",
       "       'buick electra 225 custom', 'buick century luxus (sw)',\n",
       "       'buick century', 'buick skyhawk', 'buick opel isuzu deluxe',\n",
       "       'buick skylark', 'buick century special',\n",
       "       'buick regal sport coupe (turbo)', 'mercury cougar',\n",
       "       'mitsubishi mirage', 'mitsubishi lancer', 'mitsubishi outlander',\n",
       "       'mitsubishi g4', 'mitsubishi mirage g4', 'mitsubishi montero',\n",
       "       'mitsubishi pajero', 'Nissan versa', 'nissan gt-r', 'nissan rogue',\n",
       "       'nissan latio', 'nissan titan', 'nissan leaf', 'nissan juke',\n",
       "       'nissan note', 'nissan clipper', 'nissan nv200', 'nissan dayz',\n",
       "       'nissan fuga', 'nissan otti', 'nissan teana', 'nissan kicks',\n",
       "       'peugeot 504', 'peugeot 304', 'peugeot 504 (sw)', 'peugeot 604sl',\n",
       "       'peugeot 505s turbo diesel', 'plymouth fury iii',\n",
       "       'plymouth cricket', 'plymouth satellite custom (sw)',\n",
       "       'plymouth fury gran sedan', 'plymouth valiant', 'plymouth duster',\n",
       "       'porsche macan', 'porcshce panamera', 'porsche cayenne',\n",
       "       'porsche boxter', 'renault 12tl', 'renault 5 gtl', 'saab 99e',\n",
       "       'saab 99le', 'saab 99gle', 'subaru', 'subaru dl', 'subaru brz',\n",
       "       'subaru baja', 'subaru r1', 'subaru r2', 'subaru trezia',\n",
       "       'subaru tribeca', 'toyota corona mark ii', 'toyota corona',\n",
       "       'toyota corolla 1200', 'toyota corona hardtop',\n",
       "       'toyota corolla 1600 (sw)', 'toyota carina', 'toyota mark ii',\n",
       "       'toyota corolla', 'toyota corolla liftback',\n",
       "       'toyota celica gt liftback', 'toyota corolla tercel',\n",
       "       'toyota corona liftback', 'toyota starlet', 'toyota tercel',\n",
       "       'toyota cressida', 'toyota celica gt', 'toyouta tercel',\n",
       "       'vokswagen rabbit', 'volkswagen 1131 deluxe sedan',\n",
       "       'volkswagen model 111', 'volkswagen type 3', 'volkswagen 411 (sw)',\n",
       "       'volkswagen super beetle', 'volkswagen dasher', 'vw dasher',\n",
       "       'vw rabbit', 'volkswagen rabbit', 'volkswagen rabbit custom',\n",
       "       'volvo 145e (sw)', 'volvo 144ea', 'volvo 244dl', 'volvo 245',\n",
       "       'volvo 264gl', 'volvo diesel', 'volvo 246'], dtype=object)"
      ]
     },
     "execution_count": 118,
     "metadata": {},
     "output_type": "execute_result"
    }
   ],
   "source": [
    "car_df.CarName.unique()"
   ]
  },
  {
   "cell_type": "code",
   "execution_count": 119,
   "metadata": {},
   "outputs": [],
   "source": [
    "#this shows that there are lots of overlapping/non-distinguishable car names for this dataset."
   ]
  },
  {
   "cell_type": "markdown",
   "metadata": {},
   "source": [
    "# Data Cleaning"
   ]
  },
  {
   "cell_type": "code",
   "execution_count": 120,
   "metadata": {},
   "outputs": [
    {
     "data": {
      "text/html": [
       "<div>\n",
       "<style scoped>\n",
       "    .dataframe tbody tr th:only-of-type {\n",
       "        vertical-align: middle;\n",
       "    }\n",
       "\n",
       "    .dataframe tbody tr th {\n",
       "        vertical-align: top;\n",
       "    }\n",
       "\n",
       "    .dataframe thead th {\n",
       "        text-align: right;\n",
       "    }\n",
       "</style>\n",
       "<table border=\"1\" class=\"dataframe\">\n",
       "  <thead>\n",
       "    <tr style=\"text-align: right;\">\n",
       "      <th></th>\n",
       "      <th>symboling</th>\n",
       "      <th>fueltype</th>\n",
       "      <th>BrandName</th>\n",
       "      <th>aspiration</th>\n",
       "      <th>doornumber</th>\n",
       "      <th>carbody</th>\n",
       "      <th>drivewheel</th>\n",
       "      <th>enginelocation</th>\n",
       "      <th>wheelbase</th>\n",
       "      <th>carlength</th>\n",
       "      <th>...</th>\n",
       "      <th>enginesize</th>\n",
       "      <th>fuelsystem</th>\n",
       "      <th>boreratio</th>\n",
       "      <th>stroke</th>\n",
       "      <th>compressionratio</th>\n",
       "      <th>horsepower</th>\n",
       "      <th>peakrpm</th>\n",
       "      <th>citympg</th>\n",
       "      <th>highwaympg</th>\n",
       "      <th>price</th>\n",
       "    </tr>\n",
       "  </thead>\n",
       "  <tbody>\n",
       "    <tr>\n",
       "      <th>0</th>\n",
       "      <td>3</td>\n",
       "      <td>gas</td>\n",
       "      <td>alfa-romero</td>\n",
       "      <td>std</td>\n",
       "      <td>two</td>\n",
       "      <td>convertible</td>\n",
       "      <td>rwd</td>\n",
       "      <td>front</td>\n",
       "      <td>88.600</td>\n",
       "      <td>168.800</td>\n",
       "      <td>...</td>\n",
       "      <td>130</td>\n",
       "      <td>mpfi</td>\n",
       "      <td>3.470</td>\n",
       "      <td>2.680</td>\n",
       "      <td>9.000</td>\n",
       "      <td>111</td>\n",
       "      <td>5000</td>\n",
       "      <td>21</td>\n",
       "      <td>27</td>\n",
       "      <td>13495.000</td>\n",
       "    </tr>\n",
       "    <tr>\n",
       "      <th>1</th>\n",
       "      <td>3</td>\n",
       "      <td>gas</td>\n",
       "      <td>alfa-romero</td>\n",
       "      <td>std</td>\n",
       "      <td>two</td>\n",
       "      <td>convertible</td>\n",
       "      <td>rwd</td>\n",
       "      <td>front</td>\n",
       "      <td>88.600</td>\n",
       "      <td>168.800</td>\n",
       "      <td>...</td>\n",
       "      <td>130</td>\n",
       "      <td>mpfi</td>\n",
       "      <td>3.470</td>\n",
       "      <td>2.680</td>\n",
       "      <td>9.000</td>\n",
       "      <td>111</td>\n",
       "      <td>5000</td>\n",
       "      <td>21</td>\n",
       "      <td>27</td>\n",
       "      <td>16500.000</td>\n",
       "    </tr>\n",
       "    <tr>\n",
       "      <th>2</th>\n",
       "      <td>1</td>\n",
       "      <td>gas</td>\n",
       "      <td>alfa-romero</td>\n",
       "      <td>std</td>\n",
       "      <td>two</td>\n",
       "      <td>hatchback</td>\n",
       "      <td>rwd</td>\n",
       "      <td>front</td>\n",
       "      <td>94.500</td>\n",
       "      <td>171.200</td>\n",
       "      <td>...</td>\n",
       "      <td>152</td>\n",
       "      <td>mpfi</td>\n",
       "      <td>2.680</td>\n",
       "      <td>3.470</td>\n",
       "      <td>9.000</td>\n",
       "      <td>154</td>\n",
       "      <td>5000</td>\n",
       "      <td>19</td>\n",
       "      <td>26</td>\n",
       "      <td>16500.000</td>\n",
       "    </tr>\n",
       "    <tr>\n",
       "      <th>3</th>\n",
       "      <td>2</td>\n",
       "      <td>gas</td>\n",
       "      <td>audi</td>\n",
       "      <td>std</td>\n",
       "      <td>four</td>\n",
       "      <td>sedan</td>\n",
       "      <td>fwd</td>\n",
       "      <td>front</td>\n",
       "      <td>99.800</td>\n",
       "      <td>176.600</td>\n",
       "      <td>...</td>\n",
       "      <td>109</td>\n",
       "      <td>mpfi</td>\n",
       "      <td>3.190</td>\n",
       "      <td>3.400</td>\n",
       "      <td>10.000</td>\n",
       "      <td>102</td>\n",
       "      <td>5500</td>\n",
       "      <td>24</td>\n",
       "      <td>30</td>\n",
       "      <td>13950.000</td>\n",
       "    </tr>\n",
       "    <tr>\n",
       "      <th>4</th>\n",
       "      <td>2</td>\n",
       "      <td>gas</td>\n",
       "      <td>audi</td>\n",
       "      <td>std</td>\n",
       "      <td>four</td>\n",
       "      <td>sedan</td>\n",
       "      <td>4wd</td>\n",
       "      <td>front</td>\n",
       "      <td>99.400</td>\n",
       "      <td>176.600</td>\n",
       "      <td>...</td>\n",
       "      <td>136</td>\n",
       "      <td>mpfi</td>\n",
       "      <td>3.190</td>\n",
       "      <td>3.400</td>\n",
       "      <td>8.000</td>\n",
       "      <td>115</td>\n",
       "      <td>5500</td>\n",
       "      <td>18</td>\n",
       "      <td>22</td>\n",
       "      <td>17450.000</td>\n",
       "    </tr>\n",
       "  </tbody>\n",
       "</table>\n",
       "<p>5 rows × 25 columns</p>\n",
       "</div>"
      ],
      "text/plain": [
       "   symboling fueltype    BrandName aspiration doornumber      carbody  \\\n",
       "0          3      gas  alfa-romero        std        two  convertible   \n",
       "1          3      gas  alfa-romero        std        two  convertible   \n",
       "2          1      gas  alfa-romero        std        two    hatchback   \n",
       "3          2      gas         audi        std       four        sedan   \n",
       "4          2      gas         audi        std       four        sedan   \n",
       "\n",
       "  drivewheel enginelocation  wheelbase  carlength  ...  enginesize  \\\n",
       "0        rwd          front     88.600    168.800  ...         130   \n",
       "1        rwd          front     88.600    168.800  ...         130   \n",
       "2        rwd          front     94.500    171.200  ...         152   \n",
       "3        fwd          front     99.800    176.600  ...         109   \n",
       "4        4wd          front     99.400    176.600  ...         136   \n",
       "\n",
       "   fuelsystem  boreratio stroke compressionratio  horsepower peakrpm  citympg  \\\n",
       "0        mpfi      3.470  2.680            9.000         111    5000       21   \n",
       "1        mpfi      3.470  2.680            9.000         111    5000       21   \n",
       "2        mpfi      2.680  3.470            9.000         154    5000       19   \n",
       "3        mpfi      3.190  3.400           10.000         102    5500       24   \n",
       "4        mpfi      3.190  3.400            8.000         115    5500       18   \n",
       "\n",
       "   highwaympg     price  \n",
       "0          27 13495.000  \n",
       "1          27 16500.000  \n",
       "2          26 16500.000  \n",
       "3          30 13950.000  \n",
       "4          22 17450.000  \n",
       "\n",
       "[5 rows x 25 columns]"
      ]
     },
     "execution_count": 120,
     "metadata": {},
     "output_type": "execute_result"
    }
   ],
   "source": [
    "#since there is no null values in any column, we don't have to deal with fillna or something else.\n",
    "#to get only the brand names of the cars, we can use split function for strings as in the below code;\n",
    "\n",
    "BrandName = car_df['CarName'].apply(lambda x : x.split(' ')[0])\n",
    "car_df.insert(3,\"BrandName\",BrandName)\n",
    "car_df.drop(['CarName'],axis=1,inplace=True)\n",
    "car_df.head()"
   ]
  },
  {
   "cell_type": "code",
   "execution_count": 121,
   "metadata": {},
   "outputs": [
    {
     "data": {
      "text/plain": [
       "array(['alfa-romero', 'audi', 'bmw', 'chevrolet', 'dodge', 'honda',\n",
       "       'isuzu', 'jaguar', 'maxda', 'mazda', 'buick', 'mercury',\n",
       "       'mitsubishi', 'Nissan', 'nissan', 'peugeot', 'plymouth', 'porsche',\n",
       "       'porcshce', 'renault', 'saab', 'subaru', 'toyota', 'toyouta',\n",
       "       'vokswagen', 'volkswagen', 'vw', 'volvo'], dtype=object)"
      ]
     },
     "execution_count": 121,
     "metadata": {},
     "output_type": "execute_result"
    }
   ],
   "source": [
    "car_df['BrandName'].unique()"
   ]
  },
  {
   "cell_type": "code",
   "execution_count": 122,
   "metadata": {},
   "outputs": [
    {
     "data": {
      "text/plain": [
       "array(['alfa-romero', 'audi', 'bmw', 'chevrolet', 'dodge', 'honda',\n",
       "       'isuzu', 'jaguar', 'mazda', 'buick', 'mercury', 'mitsubishi',\n",
       "       'nissan', 'peugeot', 'plymouth', 'porsche', 'renault', 'saab',\n",
       "       'subaru', 'toyota', 'volkswagen', 'volvo'], dtype=object)"
      ]
     },
     "execution_count": 122,
     "metadata": {},
     "output_type": "execute_result"
    }
   ],
   "source": [
    "#dealing with wrong spellings\n",
    "\n",
    "def replace_Names(name1,name2):\n",
    "    car_df['BrandName'].replace(name1,name2,inplace=True);\n",
    "\n",
    "replace_Names('maxda','mazda');\n",
    "replace_Names('Nissan','nissan');\n",
    "replace_Names('porcshce','porsche');\n",
    "replace_Names('toyouta','toyota');\n",
    "replace_Names('vokswagen','volkswagen');\n",
    "replace_Names('vw','volkswagen');\n",
    "\n",
    "car_df['BrandName'].unique()"
   ]
  },
  {
   "cell_type": "code",
   "execution_count": 123,
   "metadata": {},
   "outputs": [
    {
     "data": {
      "text/html": [
       "<div>\n",
       "<style scoped>\n",
       "    .dataframe tbody tr th:only-of-type {\n",
       "        vertical-align: middle;\n",
       "    }\n",
       "\n",
       "    .dataframe tbody tr th {\n",
       "        vertical-align: top;\n",
       "    }\n",
       "\n",
       "    .dataframe thead th {\n",
       "        text-align: right;\n",
       "    }\n",
       "</style>\n",
       "<table border=\"1\" class=\"dataframe\">\n",
       "  <thead>\n",
       "    <tr style=\"text-align: right;\">\n",
       "      <th></th>\n",
       "      <th>fueltype</th>\n",
       "      <th>BrandName</th>\n",
       "      <th>aspiration</th>\n",
       "      <th>doornumber</th>\n",
       "      <th>carbody</th>\n",
       "      <th>drivewheel</th>\n",
       "      <th>enginelocation</th>\n",
       "      <th>enginetype</th>\n",
       "      <th>cylindernumber</th>\n",
       "      <th>fuelsystem</th>\n",
       "    </tr>\n",
       "  </thead>\n",
       "  <tbody>\n",
       "    <tr>\n",
       "      <th>count</th>\n",
       "      <td>205</td>\n",
       "      <td>205</td>\n",
       "      <td>205</td>\n",
       "      <td>205</td>\n",
       "      <td>205</td>\n",
       "      <td>205</td>\n",
       "      <td>205</td>\n",
       "      <td>205</td>\n",
       "      <td>205</td>\n",
       "      <td>205</td>\n",
       "    </tr>\n",
       "    <tr>\n",
       "      <th>unique</th>\n",
       "      <td>2</td>\n",
       "      <td>22</td>\n",
       "      <td>2</td>\n",
       "      <td>2</td>\n",
       "      <td>5</td>\n",
       "      <td>3</td>\n",
       "      <td>2</td>\n",
       "      <td>7</td>\n",
       "      <td>7</td>\n",
       "      <td>8</td>\n",
       "    </tr>\n",
       "    <tr>\n",
       "      <th>top</th>\n",
       "      <td>gas</td>\n",
       "      <td>toyota</td>\n",
       "      <td>std</td>\n",
       "      <td>four</td>\n",
       "      <td>sedan</td>\n",
       "      <td>fwd</td>\n",
       "      <td>front</td>\n",
       "      <td>ohc</td>\n",
       "      <td>four</td>\n",
       "      <td>mpfi</td>\n",
       "    </tr>\n",
       "    <tr>\n",
       "      <th>freq</th>\n",
       "      <td>185</td>\n",
       "      <td>32</td>\n",
       "      <td>168</td>\n",
       "      <td>115</td>\n",
       "      <td>96</td>\n",
       "      <td>120</td>\n",
       "      <td>202</td>\n",
       "      <td>148</td>\n",
       "      <td>159</td>\n",
       "      <td>94</td>\n",
       "    </tr>\n",
       "  </tbody>\n",
       "</table>\n",
       "</div>"
      ],
      "text/plain": [
       "       fueltype BrandName aspiration doornumber carbody drivewheel  \\\n",
       "count       205       205        205        205     205        205   \n",
       "unique        2        22          2          2       5          3   \n",
       "top         gas    toyota        std       four   sedan        fwd   \n",
       "freq        185        32        168        115      96        120   \n",
       "\n",
       "       enginelocation enginetype cylindernumber fuelsystem  \n",
       "count             205        205            205        205  \n",
       "unique              2          7              7          8  \n",
       "top             front        ohc           four       mpfi  \n",
       "freq              202        148            159         94  "
      ]
     },
     "execution_count": 123,
     "metadata": {},
     "output_type": "execute_result"
    }
   ],
   "source": [
    "car_df.describe(include=['O'])"
   ]
  },
  {
   "cell_type": "markdown",
   "metadata": {},
   "source": [
    "so the unique values of BrandNames reduced to 22 from 147."
   ]
  },
  {
   "cell_type": "code",
   "execution_count": 124,
   "metadata": {},
   "outputs": [
    {
     "data": {
      "text/plain": [
       "array(['convertible', 'hatchback', 'sedan', 'wagon', 'hardtop'],\n",
       "      dtype=object)"
      ]
     },
     "execution_count": 124,
     "metadata": {},
     "output_type": "execute_result"
    }
   ],
   "source": [
    "car_df['carbody'].unique()"
   ]
  },
  {
   "cell_type": "markdown",
   "metadata": {},
   "source": [
    "# Behavior of the Target Variable"
   ]
  },
  {
   "cell_type": "code",
   "execution_count": 125,
   "metadata": {},
   "outputs": [
    {
     "data": {
      "text/plain": [
       "(array([83., 45., 35., 18.,  6.,  3.,  5.,  7.,  2.,  1.]),\n",
       " array([ 5118. ,  9146.2, 13174.4, 17202.6, 21230.8, 25259. , 29287.2,\n",
       "        33315.4, 37343.6, 41371.8, 45400. ]),\n",
       " <BarContainer object of 10 artists>)"
      ]
     },
     "execution_count": 125,
     "metadata": {},
     "output_type": "execute_result"
    },
    {
     "data": {
      "image/png": "[encoded data removed]",
      "text/plain": [
       "<Figure size 432x288 with 1 Axes>"
      ]
     },
     "metadata": {
      "needs_background": "light"
     },
     "output_type": "display_data"
    }
   ],
   "source": [
    "plt.hist(car_df['price'])"
   ]
  },
  {
   "cell_type": "code",
   "execution_count": 126,
   "metadata": {},
   "outputs": [
    {
     "data": {
      "image/png": "[encoded data removed]",
      "text/plain": [
       "<Figure size 720x360 with 2 Axes>"
      ]
     },
     "metadata": {
      "needs_background": "light"
     },
     "output_type": "display_data"
    }
   ],
   "source": [
    "plt.figure(figsize=(10,5))\n",
    "\n",
    "plt.subplot(1,2,1)\n",
    "plt.title('Car Price Distribution Plot')\n",
    "sns.distplot(car_df.price)\n",
    "\n",
    "plt.subplot(1,2,2)\n",
    "plt.title('Car Price Spread')\n",
    "sns.boxplot(y=car_df.price)\n",
    "\n",
    "plt.show()"
   ]
  },
  {
   "cell_type": "markdown",
   "metadata": {},
   "source": [
    "This shows that our target variable is **not** normally distributed."
   ]
  },
  {
   "cell_type": "markdown",
   "metadata": {},
   "source": [
    "# Correlation of Numerical Values"
   ]
  },
  {
   "cell_type": "code",
   "execution_count": 127,
   "metadata": {},
   "outputs": [],
   "source": [
    "numerical_columns_df = car_df.select_dtypes(exclude='object')"
   ]
  },
  {
   "cell_type": "code",
   "execution_count": 128,
   "metadata": {},
   "outputs": [
    {
     "name": "stdout",
     "output_type": "stream",
     "text": [
      "<class 'pandas.core.frame.DataFrame'>\n",
      "RangeIndex: 205 entries, 0 to 204\n",
      "Data columns (total 15 columns):\n",
      " #   Column            Non-Null Count  Dtype  \n",
      "---  ------            --------------  -----  \n",
      " 0   symboling         205 non-null    int64  \n",
      " 1   wheelbase         205 non-null    float64\n",
      " 2   carlength         205 non-null    float64\n",
      " 3   carwidth          205 non-null    float64\n",
      " 4   carheight         205 non-null    float64\n",
      " 5   curbweight        205 non-null    int64  \n",
      " 6   enginesize        205 non-null    int64  \n",
      " 7   boreratio         205 non-null    float64\n",
      " 8   stroke            205 non-null    float64\n",
      " 9   compressionratio  205 non-null    float64\n",
      " 10  horsepower        205 non-null    int64  \n",
      " 11  peakrpm           205 non-null    int64  \n",
      " 12  citympg           205 non-null    int64  \n",
      " 13  highwaympg        205 non-null    int64  \n",
      " 14  price             205 non-null    float64\n",
      "dtypes: float64(8), int64(7)\n",
      "memory usage: 24.1 KB\n"
     ]
    }
   ],
   "source": [
    "numerical_columns_df.info()"
   ]
  },
  {
   "cell_type": "code",
   "execution_count": 129,
   "metadata": {},
   "outputs": [
    {
     "data": {
      "text/plain": [
       "<AxesSubplot:>"
      ]
     },
     "execution_count": 129,
     "metadata": {},
     "output_type": "execute_result"
    },
    {
     "data": {
      "image/png": "[encoded data removed]",
      "text/plain": [
       "<Figure size 720x720 with 2 Axes>"
      ]
     },
     "metadata": {
      "needs_background": "light"
     },
     "output_type": "display_data"
    }
   ],
   "source": [
    "corr = numerical_columns_df.corr()\n",
    "plt.subplots(figsize=(10,10))\n",
    "sns.heatmap(corr, vmax=0.9, cmap=\"Blues\", square=True, annot=True)"
   ]
  },
  {
   "cell_type": "code",
   "execution_count": 130,
   "metadata": {},
   "outputs": [],
   "source": [
    "# this heatmap shows that enginesize, curbweight, horsepower, carwidth, and the carlength\n",
    "# are the most correlated features with car price."
   ]
  },
  {
   "cell_type": "markdown",
   "metadata": {},
   "source": [
    "# PCA on Numerical Features"
   ]
  },
  {
   "cell_type": "code",
   "execution_count": 131,
   "metadata": {},
   "outputs": [],
   "source": [
    "from sklearn.decomposition import PCA\n",
    "from sklearn.preprocessing import StandardScaler"
   ]
  },
  {
   "cell_type": "code",
   "execution_count": 132,
   "metadata": {},
   "outputs": [
    {
     "data": {
      "text/plain": [
       "15"
      ]
     },
     "execution_count": 132,
     "metadata": {},
     "output_type": "execute_result"
    }
   ],
   "source": [
    "X = numerical_columns_df.values\n",
    "len(numerical_columns_df.columns)"
   ]
  },
  {
   "cell_type": "code",
   "execution_count": 133,
   "metadata": {},
   "outputs": [],
   "source": [
    "X = StandardScaler().fit_transform(numerical_columns_df)\n",
    "pca = PCA(n_components=15)\n",
    "principalComponents=pca.fit_transform(X)"
   ]
  },
  {
   "cell_type": "code",
   "execution_count": 134,
   "metadata": {},
   "outputs": [
    {
     "name": "stdout",
     "output_type": "stream",
     "text": [
      "[0.49737394 0.17573473 0.08527536 0.06301976 0.0418972  0.03684286\n",
      " 0.02829451 0.02267827 0.0174146  0.00894471 0.00778045 0.00530398\n",
      " 0.00480471 0.00336544 0.00126947]\n",
      "[ 49.74  67.31  75.84  82.14  86.33  90.01  92.84  95.11  96.85  97.74\n",
      "  98.52  99.05  99.53  99.87 100.  ]\n"
     ]
    }
   ],
   "source": [
    "exp_var = pca.explained_variance_ratio_\n",
    "cumsum_var = np.cumsum(np.round(pca.explained_variance_ratio_, decimals=4)*100)\n",
    "print(exp_var)\n",
    "print(cumsum_var)"
   ]
  },
  {
   "cell_type": "code",
   "execution_count": 135,
   "metadata": {},
   "outputs": [],
   "source": [
    "#so we can have the 95.11% of the variance with only the first 8 variables.\n",
    "#but I wanted to make PCA on only with the highly-correlated features only"
   ]
  },
  {
   "cell_type": "markdown",
   "metadata": {},
   "source": [
    "# PCA on highly-correlated features only"
   ]
  },
  {
   "cell_type": "code",
   "execution_count": 136,
   "metadata": {},
   "outputs": [
    {
     "data": {
      "text/html": [
       "<div>\n",
       "<style scoped>\n",
       "    .dataframe tbody tr th:only-of-type {\n",
       "        vertical-align: middle;\n",
       "    }\n",
       "\n",
       "    .dataframe tbody tr th {\n",
       "        vertical-align: top;\n",
       "    }\n",
       "\n",
       "    .dataframe thead th {\n",
       "        text-align: right;\n",
       "    }\n",
       "</style>\n",
       "<table border=\"1\" class=\"dataframe\">\n",
       "  <thead>\n",
       "    <tr style=\"text-align: right;\">\n",
       "      <th></th>\n",
       "      <th>enginesize</th>\n",
       "      <th>curbweight</th>\n",
       "      <th>horsepower</th>\n",
       "      <th>carwidth</th>\n",
       "      <th>carlength</th>\n",
       "    </tr>\n",
       "  </thead>\n",
       "  <tbody>\n",
       "    <tr>\n",
       "      <th>0</th>\n",
       "      <td>130</td>\n",
       "      <td>2548</td>\n",
       "      <td>111</td>\n",
       "      <td>64.100</td>\n",
       "      <td>168.800</td>\n",
       "    </tr>\n",
       "    <tr>\n",
       "      <th>1</th>\n",
       "      <td>130</td>\n",
       "      <td>2548</td>\n",
       "      <td>111</td>\n",
       "      <td>64.100</td>\n",
       "      <td>168.800</td>\n",
       "    </tr>\n",
       "    <tr>\n",
       "      <th>2</th>\n",
       "      <td>152</td>\n",
       "      <td>2823</td>\n",
       "      <td>154</td>\n",
       "      <td>65.500</td>\n",
       "      <td>171.200</td>\n",
       "    </tr>\n",
       "    <tr>\n",
       "      <th>3</th>\n",
       "      <td>109</td>\n",
       "      <td>2337</td>\n",
       "      <td>102</td>\n",
       "      <td>66.200</td>\n",
       "      <td>176.600</td>\n",
       "    </tr>\n",
       "    <tr>\n",
       "      <th>4</th>\n",
       "      <td>136</td>\n",
       "      <td>2824</td>\n",
       "      <td>115</td>\n",
       "      <td>66.400</td>\n",
       "      <td>176.600</td>\n",
       "    </tr>\n",
       "    <tr>\n",
       "      <th>...</th>\n",
       "      <td>...</td>\n",
       "      <td>...</td>\n",
       "      <td>...</td>\n",
       "      <td>...</td>\n",
       "      <td>...</td>\n",
       "    </tr>\n",
       "    <tr>\n",
       "      <th>200</th>\n",
       "      <td>141</td>\n",
       "      <td>2952</td>\n",
       "      <td>114</td>\n",
       "      <td>68.900</td>\n",
       "      <td>188.800</td>\n",
       "    </tr>\n",
       "    <tr>\n",
       "      <th>201</th>\n",
       "      <td>141</td>\n",
       "      <td>3049</td>\n",
       "      <td>160</td>\n",
       "      <td>68.800</td>\n",
       "      <td>188.800</td>\n",
       "    </tr>\n",
       "    <tr>\n",
       "      <th>202</th>\n",
       "      <td>173</td>\n",
       "      <td>3012</td>\n",
       "      <td>134</td>\n",
       "      <td>68.900</td>\n",
       "      <td>188.800</td>\n",
       "    </tr>\n",
       "    <tr>\n",
       "      <th>203</th>\n",
       "      <td>145</td>\n",
       "      <td>3217</td>\n",
       "      <td>106</td>\n",
       "      <td>68.900</td>\n",
       "      <td>188.800</td>\n",
       "    </tr>\n",
       "    <tr>\n",
       "      <th>204</th>\n",
       "      <td>141</td>\n",
       "      <td>3062</td>\n",
       "      <td>114</td>\n",
       "      <td>68.900</td>\n",
       "      <td>188.800</td>\n",
       "    </tr>\n",
       "  </tbody>\n",
       "</table>\n",
       "<p>205 rows × 5 columns</p>\n",
       "</div>"
      ],
      "text/plain": [
       "     enginesize  curbweight  horsepower  carwidth  carlength\n",
       "0           130        2548         111    64.100    168.800\n",
       "1           130        2548         111    64.100    168.800\n",
       "2           152        2823         154    65.500    171.200\n",
       "3           109        2337         102    66.200    176.600\n",
       "4           136        2824         115    66.400    176.600\n",
       "..          ...         ...         ...       ...        ...\n",
       "200         141        2952         114    68.900    188.800\n",
       "201         141        3049         160    68.800    188.800\n",
       "202         173        3012         134    68.900    188.800\n",
       "203         145        3217         106    68.900    188.800\n",
       "204         141        3062         114    68.900    188.800\n",
       "\n",
       "[205 rows x 5 columns]"
      ]
     },
     "execution_count": 136,
     "metadata": {},
     "output_type": "execute_result"
    }
   ],
   "source": [
    "corr_features = car_df[['enginesize','curbweight',\n",
    "                       'horsepower','carwidth','carlength']]\n",
    "corr_features"
   ]
  },
  {
   "cell_type": "code",
   "execution_count": 137,
   "metadata": {},
   "outputs": [],
   "source": [
    "X = corr_features.values"
   ]
  },
  {
   "cell_type": "code",
   "execution_count": 138,
   "metadata": {},
   "outputs": [],
   "source": [
    "X = StandardScaler().fit_transform(corr_features)\n",
    "pca = PCA(n_components=5)\n",
    "principalComponents=pca.fit_transform(X)"
   ]
  },
  {
   "cell_type": "code",
   "execution_count": 139,
   "metadata": {},
   "outputs": [
    {
     "name": "stdout",
     "output_type": "stream",
     "text": [
      "[0.81066348 0.11039875 0.03515548 0.03033229 0.01345   ]\n",
      "[ 81.07  92.11  95.63  98.66 100.01]\n"
     ]
    }
   ],
   "source": [
    "exp_var = pca.explained_variance_ratio_\n",
    "cumsum_var = np.cumsum(np.round(pca.explained_variance_ratio_, decimals=4)*100)\n",
    "print(exp_var)\n",
    "print(cumsum_var)"
   ]
  },
  {
   "cell_type": "code",
   "execution_count": 140,
   "metadata": {},
   "outputs": [
    {
     "data": {
      "text/plain": [
       "Text(0, 0.5, '% of Variance Explained')"
      ]
     },
     "execution_count": 140,
     "metadata": {},
     "output_type": "execute_result"
    },
    {
     "data": {
      "image/png": "[encoded data removed]",
      "text/plain": [
       "<Figure size 432x288 with 1 Axes>"
      ]
     },
     "metadata": {
      "needs_background": "light"
     },
     "output_type": "display_data"
    }
   ],
   "source": [
    "plt.plot(cumsum_var)\n",
    "plt.xlabel('Number of Components')\n",
    "plt.ylabel('% of Variance Explained')"
   ]
  },
  {
   "cell_type": "code",
   "execution_count": 141,
   "metadata": {},
   "outputs": [],
   "source": [
    "#Hence the enginesize & the curbweight explains the 92.11% of the variance."
   ]
  },
  {
   "cell_type": "markdown",
   "metadata": {},
   "source": [
    "# Behavior of these features"
   ]
  },
  {
   "cell_type": "code",
   "execution_count": 142,
   "metadata": {},
   "outputs": [
    {
     "data": {
      "text/plain": [
       "(array([ 2., 29., 33., 50., 25., 23., 26.,  8.,  5.,  4.]),\n",
       " array([1488. , 1745.8, 2003.6, 2261.4, 2519.2, 2777. , 3034.8, 3292.6,\n",
       "        3550.4, 3808.2, 4066. ]),\n",
       " <BarContainer object of 10 artists>)"
      ]
     },
     "execution_count": 142,
     "metadata": {},
     "output_type": "execute_result"
    },
    {
     "data": {
      "image/png": "[encoded data removed]",
      "text/plain": [
       "<Figure size 720x360 with 2 Axes>"
      ]
     },
     "metadata": {
      "needs_background": "light"
     },
     "output_type": "display_data"
    }
   ],
   "source": [
    "plt.figure(figsize=(10,5))\n",
    "\n",
    "plt.subplot(121)\n",
    "plt.hist(corr_features['enginesize'])\n",
    "\n",
    "plt.subplot(122)\n",
    "plt.hist(corr_features.curbweight)"
   ]
  },
  {
   "cell_type": "code",
   "execution_count": 143,
   "metadata": {},
   "outputs": [
    {
     "data": {
      "text/plain": [
       "{'whiskers': [<matplotlib.lines.Line2D at 0x21310916730>,\n",
       "  <matplotlib.lines.Line2D at 0x2131077e610>],\n",
       " 'caps': [<matplotlib.lines.Line2D at 0x21312240280>,\n",
       "  <matplotlib.lines.Line2D at 0x213122403d0>],\n",
       " 'boxes': [<matplotlib.lines.Line2D at 0x21310916f70>],\n",
       " 'medians': [<matplotlib.lines.Line2D at 0x21313915cd0>],\n",
       " 'fliers': [<matplotlib.lines.Line2D at 0x2131393fa30>],\n",
       " 'means': []}"
      ]
     },
     "execution_count": 143,
     "metadata": {},
     "output_type": "execute_result"
    },
    {
     "data": {
      "image/png": "[encoded data removed]",
      "text/plain": [
       "<Figure size 720x360 with 2 Axes>"
      ]
     },
     "metadata": {
      "needs_background": "light"
     },
     "output_type": "display_data"
    }
   ],
   "source": [
    "plt.figure(figsize=(10,5))\n",
    "\n",
    "plt.subplot(121)\n",
    "plt.boxplot(corr_features['enginesize'])\n",
    "\n",
    "plt.subplot(122)\n",
    "plt.boxplot(corr_features.curbweight)"
   ]
  },
  {
   "cell_type": "code",
   "execution_count": 144,
   "metadata": {},
   "outputs": [],
   "source": [
    "# It may be good to winsorize the enginesize."
   ]
  },
  {
   "cell_type": "code",
   "execution_count": 145,
   "metadata": {},
   "outputs": [
    {
     "data": {
      "image/png": "[encoded data removed]",
      "text/plain": [
       "<Figure size 720x360 with 2 Axes>"
      ]
     },
     "metadata": {
      "needs_background": "light"
     },
     "output_type": "display_data"
    }
   ],
   "source": [
    "plt.figure(figsize=(10,5))\n",
    "\n",
    "plt.subplot(121)\n",
    "sns.scatterplot(corr_features['enginesize'], car_df.price)\n",
    "\n",
    "plt.subplot(122)\n",
    "sns.scatterplot(corr_features['curbweight'], car_df.price)\n",
    "\n",
    "plt.show()"
   ]
  },
  {
   "cell_type": "markdown",
   "metadata": {},
   "source": [
    "# Observations on Categorical Variables"
   ]
  },
  {
   "cell_type": "code",
   "execution_count": 146,
   "metadata": {},
   "outputs": [
    {
     "data": {
      "image/png": "[encoded data removed]",
      "text/plain": [
       "<Figure size 1800x360 with 1 Axes>"
      ]
     },
     "metadata": {
      "needs_background": "light"
     },
     "output_type": "display_data"
    }
   ],
   "source": [
    "plt.figure(figsize=(25, 5))\n",
    "plt.hist(car_df.BrandName)\n",
    "plt.title('Brands')\n",
    "plt.show()"
   ]
  },
  {
   "cell_type": "code",
   "execution_count": 147,
   "metadata": {},
   "outputs": [
    {
     "data": {
      "image/png": "[encoded data removed]",
      "text/plain": [
       "<Figure size 1296x288 with 3 Axes>"
      ]
     },
     "metadata": {
      "needs_background": "light"
     },
     "output_type": "display_data"
    }
   ],
   "source": [
    "plt.figure(figsize=(18, 4))\n",
    "\n",
    "plt.subplot(131)\n",
    "plt.hist(car_df.carbody)\n",
    "plt.title('Car Types')\n",
    "\n",
    "plt.subplot(132)\n",
    "plt.hist(car_df.fueltype)\n",
    "plt.title('Fuel Types')\n",
    "\n",
    "plt.subplot(133)\n",
    "plt.hist(car_df.symboling)\n",
    "plt.title('Symbolings')\n",
    "\n",
    "plt.show()"
   ]
  },
  {
   "cell_type": "code",
   "execution_count": 148,
   "metadata": {},
   "outputs": [
    {
     "name": "stdout",
     "output_type": "stream",
     "text": [
      "BrandName\n",
      "jaguar        34600.000\n",
      "buick         33647.000\n",
      "porsche       31400.500\n",
      "bmw           26118.750\n",
      "volvo         18063.182\n",
      "audi          17859.167\n",
      "mercury       16503.000\n",
      "alfa-romero   15498.333\n",
      "peugeot       15489.091\n",
      "saab          15223.333\n",
      "mazda         10652.882\n",
      "nissan        10415.667\n",
      "volkswagen    10077.500\n",
      "toyota         9885.812\n",
      "renault        9595.000\n",
      "mitsubishi     9239.769\n",
      "isuzu          8916.500\n",
      "subaru         8541.250\n",
      "honda          8184.692\n",
      "plymouth       7963.429\n",
      "dodge          7875.444\n",
      "chevrolet      6007.000\n",
      "Name: price, dtype: float64\n",
      "-------------------------\n",
      "carbody\n",
      "hardtop       22208.500\n",
      "convertible   21890.500\n",
      "sedan         14344.271\n",
      "wagon         12371.960\n",
      "hatchback     10376.652\n",
      "Name: price, dtype: float64\n",
      "-------------------------\n",
      "fueltype\n",
      "diesel   15838.150\n",
      "gas      12999.798\n",
      "Name: price, dtype: float64\n",
      "-------------------------\n",
      "symboling\n",
      "-1   17330.682\n",
      " 3   17221.296\n",
      "-2   15781.667\n",
      " 0   14366.965\n",
      " 2   10109.281\n",
      " 1   10037.907\n",
      "Name: price, dtype: float64\n"
     ]
    }
   ],
   "source": [
    "print(car_df.groupby('BrandName')['price'].mean().sort_values(ascending=False))\n",
    "print('-----'*5)\n",
    "print(car_df.groupby('carbody')['price'].mean().sort_values(ascending=False))\n",
    "print('-----'*5)\n",
    "print(car_df.groupby('fueltype')['price'].mean().sort_values(ascending=False))\n",
    "print('-----'*5)\n",
    "print(car_df.groupby('symboling')['price'].mean().sort_values(ascending=False))"
   ]
  },
  {
   "cell_type": "code",
   "execution_count": 149,
   "metadata": {},
   "outputs": [
    {
     "data": {
      "text/plain": [
       "<Figure size 1800x432 with 0 Axes>"
      ]
     },
     "metadata": {},
     "output_type": "display_data"
    },
    {
     "data": {
      "image/png": "[encoded data removed]",
      "text/plain": [
       "<Figure size 432x288 with 1 Axes>"
      ]
     },
     "metadata": {
      "needs_background": "light"
     },
     "output_type": "display_data"
    },
    {
     "data": {
      "image/png": "[encoded data removed]",
      "text/plain": [
       "<Figure size 432x288 with 1 Axes>"
      ]
     },
     "metadata": {
      "needs_background": "light"
     },
     "output_type": "display_data"
    },
    {
     "data": {
      "image/png": "[encoded data removed]",
      "text/plain": [
       "<Figure size 432x288 with 1 Axes>"
      ]
     },
     "metadata": {
      "needs_background": "light"
     },
     "output_type": "display_data"
    }
   ],
   "source": [
    "plt.figure(figsize=(25, 6))\n",
    "\n",
    "df = pd.DataFrame(car_df.groupby(['BrandName'])['price'].mean().sort_values(ascending = False))\n",
    "df.plot.bar()\n",
    "plt.title('Company Name vs Average Price')\n",
    "plt.show()\n",
    "\n",
    "df = pd.DataFrame(car_df.groupby(['fueltype'])['price'].mean().sort_values(ascending = False))\n",
    "df.plot.bar()\n",
    "plt.title('Fuel Type vs Average Price')\n",
    "plt.show()\n",
    "\n",
    "df = pd.DataFrame(car_df.groupby(['carbody'])['price'].mean().sort_values(ascending = False))\n",
    "df.plot.bar()\n",
    "plt.title('Car Type vs Average Price')\n",
    "plt.show()"
   ]
  },
  {
   "cell_type": "markdown",
   "metadata": {},
   "source": [
    "# Feature Engineering"
   ]
  },
  {
   "cell_type": "code",
   "execution_count": 150,
   "metadata": {},
   "outputs": [
    {
     "data": {
      "text/html": [
       "<div>\n",
       "<style scoped>\n",
       "    .dataframe tbody tr th:only-of-type {\n",
       "        vertical-align: middle;\n",
       "    }\n",
       "\n",
       "    .dataframe tbody tr th {\n",
       "        vertical-align: top;\n",
       "    }\n",
       "\n",
       "    .dataframe thead th {\n",
       "        text-align: right;\n",
       "    }\n",
       "</style>\n",
       "<table border=\"1\" class=\"dataframe\">\n",
       "  <thead>\n",
       "    <tr style=\"text-align: right;\">\n",
       "      <th></th>\n",
       "      <th>enginesize</th>\n",
       "      <th>curbweight</th>\n",
       "      <th>horsepower</th>\n",
       "      <th>carwidth</th>\n",
       "      <th>carlength</th>\n",
       "      <th>enginesize*curbweight</th>\n",
       "      <th>cararea</th>\n",
       "      <th>carvolume</th>\n",
       "      <th>price</th>\n",
       "      <th>curbwithoutengine</th>\n",
       "    </tr>\n",
       "  </thead>\n",
       "  <tbody>\n",
       "    <tr>\n",
       "      <th>enginesize</th>\n",
       "      <td>1.000</td>\n",
       "      <td>0.851</td>\n",
       "      <td>0.810</td>\n",
       "      <td>0.735</td>\n",
       "      <td>0.683</td>\n",
       "      <td>0.983</td>\n",
       "      <td>0.729</td>\n",
       "      <td>0.720</td>\n",
       "      <td>0.874</td>\n",
       "      <td>-0.683</td>\n",
       "    </tr>\n",
       "    <tr>\n",
       "      <th>curbweight</th>\n",
       "      <td>0.851</td>\n",
       "      <td>1.000</td>\n",
       "      <td>0.751</td>\n",
       "      <td>0.867</td>\n",
       "      <td>0.878</td>\n",
       "      <td>0.904</td>\n",
       "      <td>0.907</td>\n",
       "      <td>0.901</td>\n",
       "      <td>0.835</td>\n",
       "      <td>-0.275</td>\n",
       "    </tr>\n",
       "    <tr>\n",
       "      <th>horsepower</th>\n",
       "      <td>0.810</td>\n",
       "      <td>0.751</td>\n",
       "      <td>1.000</td>\n",
       "      <td>0.641</td>\n",
       "      <td>0.553</td>\n",
       "      <td>0.791</td>\n",
       "      <td>0.600</td>\n",
       "      <td>0.580</td>\n",
       "      <td>0.808</td>\n",
       "      <td>-0.464</td>\n",
       "    </tr>\n",
       "    <tr>\n",
       "      <th>carwidth</th>\n",
       "      <td>0.735</td>\n",
       "      <td>0.867</td>\n",
       "      <td>0.641</td>\n",
       "      <td>1.000</td>\n",
       "      <td>0.841</td>\n",
       "      <td>0.787</td>\n",
       "      <td>0.926</td>\n",
       "      <td>0.900</td>\n",
       "      <td>0.759</td>\n",
       "      <td>-0.247</td>\n",
       "    </tr>\n",
       "    <tr>\n",
       "      <th>carlength</th>\n",
       "      <td>0.683</td>\n",
       "      <td>0.878</td>\n",
       "      <td>0.553</td>\n",
       "      <td>0.841</td>\n",
       "      <td>1.000</td>\n",
       "      <td>0.736</td>\n",
       "      <td>0.982</td>\n",
       "      <td>0.990</td>\n",
       "      <td>0.683</td>\n",
       "      <td>-0.169</td>\n",
       "    </tr>\n",
       "    <tr>\n",
       "      <th>enginesize*curbweight</th>\n",
       "      <td>0.983</td>\n",
       "      <td>0.904</td>\n",
       "      <td>0.791</td>\n",
       "      <td>0.787</td>\n",
       "      <td>0.736</td>\n",
       "      <td>1.000</td>\n",
       "      <td>0.785</td>\n",
       "      <td>0.779</td>\n",
       "      <td>0.889</td>\n",
       "      <td>-0.562</td>\n",
       "    </tr>\n",
       "    <tr>\n",
       "      <th>cararea</th>\n",
       "      <td>0.729</td>\n",
       "      <td>0.907</td>\n",
       "      <td>0.600</td>\n",
       "      <td>0.926</td>\n",
       "      <td>0.982</td>\n",
       "      <td>0.785</td>\n",
       "      <td>1.000</td>\n",
       "      <td>0.997</td>\n",
       "      <td>0.738</td>\n",
       "      <td>-0.203</td>\n",
       "    </tr>\n",
       "    <tr>\n",
       "      <th>carvolume</th>\n",
       "      <td>0.720</td>\n",
       "      <td>0.901</td>\n",
       "      <td>0.580</td>\n",
       "      <td>0.900</td>\n",
       "      <td>0.990</td>\n",
       "      <td>0.779</td>\n",
       "      <td>0.997</td>\n",
       "      <td>1.000</td>\n",
       "      <td>0.728</td>\n",
       "      <td>-0.194</td>\n",
       "    </tr>\n",
       "    <tr>\n",
       "      <th>price</th>\n",
       "      <td>0.874</td>\n",
       "      <td>0.835</td>\n",
       "      <td>0.808</td>\n",
       "      <td>0.759</td>\n",
       "      <td>0.683</td>\n",
       "      <td>0.889</td>\n",
       "      <td>0.738</td>\n",
       "      <td>0.728</td>\n",
       "      <td>1.000</td>\n",
       "      <td>-0.440</td>\n",
       "    </tr>\n",
       "    <tr>\n",
       "      <th>curbwithoutengine</th>\n",
       "      <td>-0.683</td>\n",
       "      <td>-0.275</td>\n",
       "      <td>-0.464</td>\n",
       "      <td>-0.247</td>\n",
       "      <td>-0.169</td>\n",
       "      <td>-0.562</td>\n",
       "      <td>-0.203</td>\n",
       "      <td>-0.194</td>\n",
       "      <td>-0.440</td>\n",
       "      <td>1.000</td>\n",
       "    </tr>\n",
       "  </tbody>\n",
       "</table>\n",
       "</div>"
      ],
      "text/plain": [
       "                       enginesize  curbweight  horsepower  carwidth  \\\n",
       "enginesize                  1.000       0.851       0.810     0.735   \n",
       "curbweight                  0.851       1.000       0.751     0.867   \n",
       "horsepower                  0.810       0.751       1.000     0.641   \n",
       "carwidth                    0.735       0.867       0.641     1.000   \n",
       "carlength                   0.683       0.878       0.553     0.841   \n",
       "enginesize*curbweight       0.983       0.904       0.791     0.787   \n",
       "cararea                     0.729       0.907       0.600     0.926   \n",
       "carvolume                   0.720       0.901       0.580     0.900   \n",
       "price                       0.874       0.835       0.808     0.759   \n",
       "curbwithoutengine          -0.683      -0.275      -0.464    -0.247   \n",
       "\n",
       "                       carlength  enginesize*curbweight  cararea  carvolume  \\\n",
       "enginesize                 0.683                  0.983    0.729      0.720   \n",
       "curbweight                 0.878                  0.904    0.907      0.901   \n",
       "horsepower                 0.553                  0.791    0.600      0.580   \n",
       "carwidth                   0.841                  0.787    0.926      0.900   \n",
       "carlength                  1.000                  0.736    0.982      0.990   \n",
       "enginesize*curbweight      0.736                  1.000    0.785      0.779   \n",
       "cararea                    0.982                  0.785    1.000      0.997   \n",
       "carvolume                  0.990                  0.779    0.997      1.000   \n",
       "price                      0.683                  0.889    0.738      0.728   \n",
       "curbwithoutengine         -0.169                 -0.562   -0.203     -0.194   \n",
       "\n",
       "                       price  curbwithoutengine  \n",
       "enginesize             0.874             -0.683  \n",
       "curbweight             0.835             -0.275  \n",
       "horsepower             0.808             -0.464  \n",
       "carwidth               0.759             -0.247  \n",
       "carlength              0.683             -0.169  \n",
       "enginesize*curbweight  0.889             -0.562  \n",
       "cararea                0.738             -0.203  \n",
       "carvolume              0.728             -0.194  \n",
       "price                  1.000             -0.440  \n",
       "curbwithoutengine     -0.440              1.000  "
      ]
     },
     "execution_count": 150,
     "metadata": {},
     "output_type": "execute_result"
    }
   ],
   "source": [
    "corr_features['enginesize*curbweight'] = corr_features['enginesize'] * corr_features['curbweight']\n",
    "corr_features['cararea'] = numerical_columns_df['carwidth'] * numerical_columns_df['carlength'] \n",
    "corr_features['carvolume'] = numerical_columns_df['carwidth'] * numerical_columns_df['carlength'] * numerical_columns_df['carlength']\n",
    "corr_features['price'] = car_df['price']\n",
    "corr_features['curbwithoutengine'] = corr_features['curbweight'] / corr_features['enginesize']\n",
    "corr_features.corr()"
   ]
  },
  {
   "cell_type": "markdown",
   "metadata": {},
   "source": [
    "It looks like creating a new feature by dividing while trying to model a large valued feature is not a smart move."
   ]
  },
  {
   "cell_type": "code",
   "execution_count": 151,
   "metadata": {},
   "outputs": [
    {
     "data": {
      "text/plain": [
       "{'whiskers': [<matplotlib.lines.Line2D at 0x21315143880>,\n",
       "  <matplotlib.lines.Line2D at 0x21315143c10>],\n",
       " 'caps': [<matplotlib.lines.Line2D at 0x21315143f70>,\n",
       "  <matplotlib.lines.Line2D at 0x2131514f310>],\n",
       " 'boxes': [<matplotlib.lines.Line2D at 0x21315143520>],\n",
       " 'medians': [<matplotlib.lines.Line2D at 0x2131514f670>],\n",
       " 'fliers': [<matplotlib.lines.Line2D at 0x2131514f9d0>],\n",
       " 'means': []}"
      ]
     },
     "execution_count": 151,
     "metadata": {},
     "output_type": "execute_result"
    },
    {
     "data": {
      "image/png": "[encoded data removed]",
      "text/plain": [
       "<Figure size 432x288 with 1 Axes>"
      ]
     },
     "metadata": {
      "needs_background": "light"
     },
     "output_type": "display_data"
    }
   ],
   "source": [
    "plt.boxplot(corr_features.cararea)"
   ]
  },
  {
   "cell_type": "code",
   "execution_count": 152,
   "metadata": {},
   "outputs": [
    {
     "data": {
      "text/plain": [
       "<AxesSubplot:xlabel='enginesize*curbweight', ylabel='price'>"
      ]
     },
     "execution_count": 152,
     "metadata": {},
     "output_type": "execute_result"
    },
    {
     "data": {
      "image/png": "[encoded data removed]",
      "text/plain": [
       "<Figure size 432x288 with 1 Axes>"
      ]
     },
     "metadata": {
      "needs_background": "light"
     },
     "output_type": "display_data"
    }
   ],
   "source": [
    "sns.scatterplot(corr_features['enginesize*curbweight'], car_df.price)"
   ]
  },
  {
   "cell_type": "code",
   "execution_count": 153,
   "metadata": {},
   "outputs": [],
   "source": [
    "from scipy.stats.mstats import winsorize"
   ]
  },
  {
   "cell_type": "code",
   "execution_count": 154,
   "metadata": {},
   "outputs": [
    {
     "data": {
      "text/plain": [
       "{'whiskers': [<matplotlib.lines.Line2D at 0x213154f50a0>,\n",
       "  <matplotlib.lines.Line2D at 0x213154f5400>],\n",
       " 'caps': [<matplotlib.lines.Line2D at 0x213154f5760>,\n",
       "  <matplotlib.lines.Line2D at 0x213154f5ac0>],\n",
       " 'boxes': [<matplotlib.lines.Line2D at 0x213154e6cd0>],\n",
       " 'medians': [<matplotlib.lines.Line2D at 0x213154f5e20>],\n",
       " 'fliers': [<matplotlib.lines.Line2D at 0x213155021c0>],\n",
       " 'means': []}"
      ]
     },
     "execution_count": 154,
     "metadata": {},
     "output_type": "execute_result"
    },
    {
     "data": {
      "image/png": "[encoded data removed]",
      "text/plain": [
       "<Figure size 432x288 with 1 Axes>"
      ]
     },
     "metadata": {
      "needs_background": "light"
     },
     "output_type": "display_data"
    }
   ],
   "source": [
    "#Winsorization of the enginesize\n",
    "winsorizing_enginesize= winsorize(np.array(car_df.enginesize), (0, 0.1))\n",
    "plt.boxplot(winsorizing_enginesize)"
   ]
  },
  {
   "cell_type": "code",
   "execution_count": 155,
   "metadata": {},
   "outputs": [
    {
     "data": {
      "text/plain": [
       "0    130\n",
       "1    130\n",
       "2    152\n",
       "3    109\n",
       "4    136\n",
       "Name: winsorized_enginesize, dtype: int64"
      ]
     },
     "execution_count": 155,
     "metadata": {},
     "output_type": "execute_result"
    }
   ],
   "source": [
    "corr_features['winsorized_enginesize'] = pd.DataFrame(winsorizing_enginesize)\n",
    "corr_features['winsorized_enginesize'].head(5)"
   ]
  },
  {
   "cell_type": "code",
   "execution_count": 156,
   "metadata": {},
   "outputs": [
    {
     "data": {
      "text/html": [
       "<div>\n",
       "<style scoped>\n",
       "    .dataframe tbody tr th:only-of-type {\n",
       "        vertical-align: middle;\n",
       "    }\n",
       "\n",
       "    .dataframe tbody tr th {\n",
       "        vertical-align: top;\n",
       "    }\n",
       "\n",
       "    .dataframe thead th {\n",
       "        text-align: right;\n",
       "    }\n",
       "</style>\n",
       "<table border=\"1\" class=\"dataframe\">\n",
       "  <thead>\n",
       "    <tr style=\"text-align: right;\">\n",
       "      <th></th>\n",
       "      <th>enginesize</th>\n",
       "      <th>curbweight</th>\n",
       "      <th>horsepower</th>\n",
       "      <th>carwidth</th>\n",
       "      <th>carlength</th>\n",
       "      <th>enginesize*curbweight</th>\n",
       "      <th>cararea</th>\n",
       "      <th>carvolume</th>\n",
       "      <th>price</th>\n",
       "      <th>curbwithoutengine</th>\n",
       "      <th>winsorized_enginesize</th>\n",
       "    </tr>\n",
       "  </thead>\n",
       "  <tbody>\n",
       "    <tr>\n",
       "      <th>enginesize</th>\n",
       "      <td>1.000</td>\n",
       "      <td>0.851</td>\n",
       "      <td>0.810</td>\n",
       "      <td>0.735</td>\n",
       "      <td>0.683</td>\n",
       "      <td>0.983</td>\n",
       "      <td>0.729</td>\n",
       "      <td>0.720</td>\n",
       "      <td>0.874</td>\n",
       "      <td>-0.683</td>\n",
       "      <td>0.914</td>\n",
       "    </tr>\n",
       "    <tr>\n",
       "      <th>curbweight</th>\n",
       "      <td>0.851</td>\n",
       "      <td>1.000</td>\n",
       "      <td>0.751</td>\n",
       "      <td>0.867</td>\n",
       "      <td>0.878</td>\n",
       "      <td>0.904</td>\n",
       "      <td>0.907</td>\n",
       "      <td>0.901</td>\n",
       "      <td>0.835</td>\n",
       "      <td>-0.275</td>\n",
       "      <td>0.860</td>\n",
       "    </tr>\n",
       "    <tr>\n",
       "      <th>horsepower</th>\n",
       "      <td>0.810</td>\n",
       "      <td>0.751</td>\n",
       "      <td>1.000</td>\n",
       "      <td>0.641</td>\n",
       "      <td>0.553</td>\n",
       "      <td>0.791</td>\n",
       "      <td>0.600</td>\n",
       "      <td>0.580</td>\n",
       "      <td>0.808</td>\n",
       "      <td>-0.464</td>\n",
       "      <td>0.804</td>\n",
       "    </tr>\n",
       "    <tr>\n",
       "      <th>carwidth</th>\n",
       "      <td>0.735</td>\n",
       "      <td>0.867</td>\n",
       "      <td>0.641</td>\n",
       "      <td>1.000</td>\n",
       "      <td>0.841</td>\n",
       "      <td>0.787</td>\n",
       "      <td>0.926</td>\n",
       "      <td>0.900</td>\n",
       "      <td>0.759</td>\n",
       "      <td>-0.247</td>\n",
       "      <td>0.730</td>\n",
       "    </tr>\n",
       "    <tr>\n",
       "      <th>carlength</th>\n",
       "      <td>0.683</td>\n",
       "      <td>0.878</td>\n",
       "      <td>0.553</td>\n",
       "      <td>0.841</td>\n",
       "      <td>1.000</td>\n",
       "      <td>0.736</td>\n",
       "      <td>0.982</td>\n",
       "      <td>0.990</td>\n",
       "      <td>0.683</td>\n",
       "      <td>-0.169</td>\n",
       "      <td>0.706</td>\n",
       "    </tr>\n",
       "    <tr>\n",
       "      <th>enginesize*curbweight</th>\n",
       "      <td>0.983</td>\n",
       "      <td>0.904</td>\n",
       "      <td>0.791</td>\n",
       "      <td>0.787</td>\n",
       "      <td>0.736</td>\n",
       "      <td>1.000</td>\n",
       "      <td>0.785</td>\n",
       "      <td>0.779</td>\n",
       "      <td>0.889</td>\n",
       "      <td>-0.562</td>\n",
       "      <td>0.879</td>\n",
       "    </tr>\n",
       "    <tr>\n",
       "      <th>cararea</th>\n",
       "      <td>0.729</td>\n",
       "      <td>0.907</td>\n",
       "      <td>0.600</td>\n",
       "      <td>0.926</td>\n",
       "      <td>0.982</td>\n",
       "      <td>0.785</td>\n",
       "      <td>1.000</td>\n",
       "      <td>0.997</td>\n",
       "      <td>0.738</td>\n",
       "      <td>-0.203</td>\n",
       "      <td>0.738</td>\n",
       "    </tr>\n",
       "    <tr>\n",
       "      <th>carvolume</th>\n",
       "      <td>0.720</td>\n",
       "      <td>0.901</td>\n",
       "      <td>0.580</td>\n",
       "      <td>0.900</td>\n",
       "      <td>0.990</td>\n",
       "      <td>0.779</td>\n",
       "      <td>0.997</td>\n",
       "      <td>1.000</td>\n",
       "      <td>0.728</td>\n",
       "      <td>-0.194</td>\n",
       "      <td>0.725</td>\n",
       "    </tr>\n",
       "    <tr>\n",
       "      <th>price</th>\n",
       "      <td>0.874</td>\n",
       "      <td>0.835</td>\n",
       "      <td>0.808</td>\n",
       "      <td>0.759</td>\n",
       "      <td>0.683</td>\n",
       "      <td>0.889</td>\n",
       "      <td>0.738</td>\n",
       "      <td>0.728</td>\n",
       "      <td>1.000</td>\n",
       "      <td>-0.440</td>\n",
       "      <td>0.801</td>\n",
       "    </tr>\n",
       "    <tr>\n",
       "      <th>curbwithoutengine</th>\n",
       "      <td>-0.683</td>\n",
       "      <td>-0.275</td>\n",
       "      <td>-0.464</td>\n",
       "      <td>-0.247</td>\n",
       "      <td>-0.169</td>\n",
       "      <td>-0.562</td>\n",
       "      <td>-0.203</td>\n",
       "      <td>-0.194</td>\n",
       "      <td>-0.440</td>\n",
       "      <td>1.000</td>\n",
       "      <td>-0.658</td>\n",
       "    </tr>\n",
       "    <tr>\n",
       "      <th>winsorized_enginesize</th>\n",
       "      <td>0.914</td>\n",
       "      <td>0.860</td>\n",
       "      <td>0.804</td>\n",
       "      <td>0.730</td>\n",
       "      <td>0.706</td>\n",
       "      <td>0.879</td>\n",
       "      <td>0.738</td>\n",
       "      <td>0.725</td>\n",
       "      <td>0.801</td>\n",
       "      <td>-0.658</td>\n",
       "      <td>1.000</td>\n",
       "    </tr>\n",
       "  </tbody>\n",
       "</table>\n",
       "</div>"
      ],
      "text/plain": [
       "                       enginesize  curbweight  horsepower  carwidth  \\\n",
       "enginesize                  1.000       0.851       0.810     0.735   \n",
       "curbweight                  0.851       1.000       0.751     0.867   \n",
       "horsepower                  0.810       0.751       1.000     0.641   \n",
       "carwidth                    0.735       0.867       0.641     1.000   \n",
       "carlength                   0.683       0.878       0.553     0.841   \n",
       "enginesize*curbweight       0.983       0.904       0.791     0.787   \n",
       "cararea                     0.729       0.907       0.600     0.926   \n",
       "carvolume                   0.720       0.901       0.580     0.900   \n",
       "price                       0.874       0.835       0.808     0.759   \n",
       "curbwithoutengine          -0.683      -0.275      -0.464    -0.247   \n",
       "winsorized_enginesize       0.914       0.860       0.804     0.730   \n",
       "\n",
       "                       carlength  enginesize*curbweight  cararea  carvolume  \\\n",
       "enginesize                 0.683                  0.983    0.729      0.720   \n",
       "curbweight                 0.878                  0.904    0.907      0.901   \n",
       "horsepower                 0.553                  0.791    0.600      0.580   \n",
       "carwidth                   0.841                  0.787    0.926      0.900   \n",
       "carlength                  1.000                  0.736    0.982      0.990   \n",
       "enginesize*curbweight      0.736                  1.000    0.785      0.779   \n",
       "cararea                    0.982                  0.785    1.000      0.997   \n",
       "carvolume                  0.990                  0.779    0.997      1.000   \n",
       "price                      0.683                  0.889    0.738      0.728   \n",
       "curbwithoutengine         -0.169                 -0.562   -0.203     -0.194   \n",
       "winsorized_enginesize      0.706                  0.879    0.738      0.725   \n",
       "\n",
       "                       price  curbwithoutengine  winsorized_enginesize  \n",
       "enginesize             0.874             -0.683                  0.914  \n",
       "curbweight             0.835             -0.275                  0.860  \n",
       "horsepower             0.808             -0.464                  0.804  \n",
       "carwidth               0.759             -0.247                  0.730  \n",
       "carlength              0.683             -0.169                  0.706  \n",
       "enginesize*curbweight  0.889             -0.562                  0.879  \n",
       "cararea                0.738             -0.203                  0.738  \n",
       "carvolume              0.728             -0.194                  0.725  \n",
       "price                  1.000             -0.440                  0.801  \n",
       "curbwithoutengine     -0.440              1.000                 -0.658  \n",
       "winsorized_enginesize  0.801             -0.658                  1.000  "
      ]
     },
     "execution_count": 156,
     "metadata": {},
     "output_type": "execute_result"
    }
   ],
   "source": [
    "corr_features.corr()"
   ]
  },
  {
   "cell_type": "markdown",
   "metadata": {},
   "source": [
    "Winsorization on enginesize didnt help us."
   ]
  },
  {
   "cell_type": "markdown",
   "metadata": {},
   "source": [
    "# Creating the 1st Linear Reg Model"
   ]
  },
  {
   "cell_type": "code",
   "execution_count": 157,
   "metadata": {},
   "outputs": [
    {
     "name": "stdout",
     "output_type": "stream",
     "text": [
      "\n",
      "Coefficients: \n",
      " [  273.18463138   -55.20304422   674.61643227   289.92547944\n",
      "     2.60726727    87.51578935 -1112.52522885    54.64153725]\n",
      "\n",
      "Intercept: \n",
      " -57135.93163962744\n"
     ]
    }
   ],
   "source": [
    "Y = numerical_columns_df['price']\n",
    "\n",
    "X = numerical_columns_df[['symboling', 'carlength', 'carwidth', 'carheight','curbweight','enginesize','boreratio','horsepower']]\n",
    "\n",
    "lrm = linear_model.LinearRegression()\n",
    "\n",
    "lrm.fit(X, Y)\n",
    "\n",
    "print('\\nCoefficients: \\n', lrm.coef_)\n",
    "print('\\nIntercept: \\n', lrm.intercept_)"
   ]
  },
  {
   "cell_type": "code",
   "execution_count": 158,
   "metadata": {},
   "outputs": [
    {
     "data": {
      "text/html": [
       "<table class=\"simpletable\">\n",
       "<caption>OLS Regression Results</caption>\n",
       "<tr>\n",
       "  <th>Dep. Variable:</th>          <td>price</td>      <th>  R-squared:         </th> <td>   0.825</td>\n",
       "</tr>\n",
       "<tr>\n",
       "  <th>Model:</th>                   <td>OLS</td>       <th>  Adj. R-squared:    </th> <td>   0.818</td>\n",
       "</tr>\n",
       "<tr>\n",
       "  <th>Method:</th>             <td>Least Squares</td>  <th>  F-statistic:       </th> <td>   115.5</td>\n",
       "</tr>\n",
       "<tr>\n",
       "  <th>Date:</th>             <td>Tue, 28 Dec 2021</td> <th>  Prob (F-statistic):</th> <td>6.40e-70</td>\n",
       "</tr>\n",
       "<tr>\n",
       "  <th>Time:</th>                 <td>13:49:42</td>     <th>  Log-Likelihood:    </th> <td> -1953.9</td>\n",
       "</tr>\n",
       "<tr>\n",
       "  <th>No. Observations:</th>      <td>   205</td>      <th>  AIC:               </th> <td>   3926.</td>\n",
       "</tr>\n",
       "<tr>\n",
       "  <th>Df Residuals:</th>          <td>   196</td>      <th>  BIC:               </th> <td>   3956.</td>\n",
       "</tr>\n",
       "<tr>\n",
       "  <th>Df Model:</th>              <td>     8</td>      <th>                     </th>     <td> </td>   \n",
       "</tr>\n",
       "<tr>\n",
       "  <th>Covariance Type:</th>      <td>nonrobust</td>    <th>                     </th>     <td> </td>   \n",
       "</tr>\n",
       "</table>\n",
       "<table class=\"simpletable\">\n",
       "<tr>\n",
       "       <td></td>         <th>coef</th>     <th>std err</th>      <th>t</th>      <th>P>|t|</th>  <th>[0.025</th>    <th>0.975]</th>  \n",
       "</tr>\n",
       "<tr>\n",
       "  <th>const</th>      <td>-5.714e+04</td> <td> 1.47e+04</td> <td>   -3.882</td> <td> 0.000</td> <td>-8.62e+04</td> <td>-2.81e+04</td>\n",
       "</tr>\n",
       "<tr>\n",
       "  <th>symboling</th>  <td>  273.1846</td> <td>  233.370</td> <td>    1.171</td> <td> 0.243</td> <td> -187.055</td> <td>  733.424</td>\n",
       "</tr>\n",
       "<tr>\n",
       "  <th>carlength</th>  <td>  -55.2030</td> <td>   51.488</td> <td>   -1.072</td> <td> 0.285</td> <td> -156.745</td> <td>   46.339</td>\n",
       "</tr>\n",
       "<tr>\n",
       "  <th>carwidth</th>   <td>  674.6164</td> <td>  240.678</td> <td>    2.803</td> <td> 0.006</td> <td>  199.966</td> <td> 1149.267</td>\n",
       "</tr>\n",
       "<tr>\n",
       "  <th>carheight</th>  <td>  289.9255</td> <td>  142.115</td> <td>    2.040</td> <td> 0.043</td> <td>    9.654</td> <td>  570.197</td>\n",
       "</tr>\n",
       "<tr>\n",
       "  <th>curbweight</th> <td>    2.6073</td> <td>    1.531</td> <td>    1.703</td> <td> 0.090</td> <td>   -0.411</td> <td>    5.626</td>\n",
       "</tr>\n",
       "<tr>\n",
       "  <th>enginesize</th> <td>   87.5158</td> <td>   12.740</td> <td>    6.869</td> <td> 0.000</td> <td>   62.391</td> <td>  112.641</td>\n",
       "</tr>\n",
       "<tr>\n",
       "  <th>boreratio</th>  <td>-1112.5252</td> <td> 1196.503</td> <td>   -0.930</td> <td> 0.354</td> <td>-3472.198</td> <td> 1247.148</td>\n",
       "</tr>\n",
       "<tr>\n",
       "  <th>horsepower</th> <td>   54.6415</td> <td>   11.985</td> <td>    4.559</td> <td> 0.000</td> <td>   31.005</td> <td>   78.278</td>\n",
       "</tr>\n",
       "</table>\n",
       "<table class=\"simpletable\">\n",
       "<tr>\n",
       "  <th>Omnibus:</th>       <td>29.416</td> <th>  Durbin-Watson:     </th> <td>   0.779</td>\n",
       "</tr>\n",
       "<tr>\n",
       "  <th>Prob(Omnibus):</th> <td> 0.000</td> <th>  Jarque-Bera (JB):  </th> <td>  65.909</td>\n",
       "</tr>\n",
       "<tr>\n",
       "  <th>Skew:</th>          <td> 0.657</td> <th>  Prob(JB):          </th> <td>4.88e-15</td>\n",
       "</tr>\n",
       "<tr>\n",
       "  <th>Kurtosis:</th>      <td> 5.447</td> <th>  Cond. No.          </th> <td>1.62e+05</td>\n",
       "</tr>\n",
       "</table><br/><br/>Notes:<br/>[1] Standard Errors assume that the covariance matrix of the errors is correctly specified.<br/>[2] The condition number is large, 1.62e+05. This might indicate that there are<br/>strong multicollinearity or other numerical problems."
      ],
      "text/plain": [
       "<class 'statsmodels.iolib.summary.Summary'>\n",
       "\"\"\"\n",
       "                            OLS Regression Results                            \n",
       "==============================================================================\n",
       "Dep. Variable:                  price   R-squared:                       0.825\n",
       "Model:                            OLS   Adj. R-squared:                  0.818\n",
       "Method:                 Least Squares   F-statistic:                     115.5\n",
       "Date:                Tue, 28 Dec 2021   Prob (F-statistic):           6.40e-70\n",
       "Time:                        13:49:42   Log-Likelihood:                -1953.9\n",
       "No. Observations:                 205   AIC:                             3926.\n",
       "Df Residuals:                     196   BIC:                             3956.\n",
       "Df Model:                           8                                         \n",
       "Covariance Type:            nonrobust                                         \n",
       "==============================================================================\n",
       "                 coef    std err          t      P>|t|      [0.025      0.975]\n",
       "------------------------------------------------------------------------------\n",
       "const      -5.714e+04   1.47e+04     -3.882      0.000   -8.62e+04   -2.81e+04\n",
       "symboling    273.1846    233.370      1.171      0.243    -187.055     733.424\n",
       "carlength    -55.2030     51.488     -1.072      0.285    -156.745      46.339\n",
       "carwidth     674.6164    240.678      2.803      0.006     199.966    1149.267\n",
       "carheight    289.9255    142.115      2.040      0.043       9.654     570.197\n",
       "curbweight     2.6073      1.531      1.703      0.090      -0.411       5.626\n",
       "enginesize    87.5158     12.740      6.869      0.000      62.391     112.641\n",
       "boreratio  -1112.5252   1196.503     -0.930      0.354   -3472.198    1247.148\n",
       "horsepower    54.6415     11.985      4.559      0.000      31.005      78.278\n",
       "==============================================================================\n",
       "Omnibus:                       29.416   Durbin-Watson:                   0.779\n",
       "Prob(Omnibus):                  0.000   Jarque-Bera (JB):               65.909\n",
       "Skew:                           0.657   Prob(JB):                     4.88e-15\n",
       "Kurtosis:                       5.447   Cond. No.                     1.62e+05\n",
       "==============================================================================\n",
       "\n",
       "Notes:\n",
       "[1] Standard Errors assume that the covariance matrix of the errors is correctly specified.\n",
       "[2] The condition number is large, 1.62e+05. This might indicate that there are\n",
       "strong multicollinearity or other numerical problems.\n",
       "\"\"\""
      ]
     },
     "execution_count": 158,
     "metadata": {},
     "output_type": "execute_result"
    }
   ],
   "source": [
    "import statsmodels.api as sm\n",
    "\n",
    "# We need to add constant manually \n",
    "# in statsmodels' sm\n",
    "X = sm.add_constant(X)\n",
    "\n",
    "results = sm.OLS(Y, X).fit()\n",
    "\n",
    "results.summary()"
   ]
  },
  {
   "cell_type": "markdown",
   "metadata": {},
   "source": [
    "**Our R^2 value is pretty good.\n",
    "P values of symboling, carlength, curbweight & boreratio are higher than our threshold value, 0.05.\n",
    "So it may be better to drop them in the next model.**"
   ]
  },
  {
   "cell_type": "markdown",
   "metadata": {},
   "source": [
    "# 2nd Linear Reg Model"
   ]
  },
  {
   "cell_type": "code",
   "execution_count": 159,
   "metadata": {},
   "outputs": [
    {
     "name": "stdout",
     "output_type": "stream",
     "text": [
      "\n",
      "Coefficients: \n",
      " [713.74470182 213.70863029  93.66051601  60.02286583]\n",
      "\n",
      "Intercept: \n",
      " -63381.7159855693\n"
     ]
    }
   ],
   "source": [
    "Y = numerical_columns_df['price']\n",
    "\n",
    "X = numerical_columns_df[['carwidth', 'carheight', 'enginesize','horsepower']]\n",
    "\n",
    "lrm = linear_model.LinearRegression()\n",
    "\n",
    "lrm.fit(X, Y)\n",
    "\n",
    "print('\\nCoefficients: \\n', lrm.coef_)\n",
    "print('\\nIntercept: \\n', lrm.intercept_)"
   ]
  },
  {
   "cell_type": "code",
   "execution_count": 160,
   "metadata": {},
   "outputs": [
    {
     "data": {
      "text/html": [
       "<table class=\"simpletable\">\n",
       "<caption>OLS Regression Results</caption>\n",
       "<tr>\n",
       "  <th>Dep. Variable:</th>          <td>price</td>      <th>  R-squared:         </th> <td>   0.820</td>\n",
       "</tr>\n",
       "<tr>\n",
       "  <th>Model:</th>                   <td>OLS</td>       <th>  Adj. R-squared:    </th> <td>   0.817</td>\n",
       "</tr>\n",
       "<tr>\n",
       "  <th>Method:</th>             <td>Least Squares</td>  <th>  F-statistic:       </th> <td>   228.1</td>\n",
       "</tr>\n",
       "<tr>\n",
       "  <th>Date:</th>             <td>Tue, 28 Dec 2021</td> <th>  Prob (F-statistic):</th> <td>2.49e-73</td>\n",
       "</tr>\n",
       "<tr>\n",
       "  <th>Time:</th>                 <td>13:49:45</td>     <th>  Log-Likelihood:    </th> <td> -1956.6</td>\n",
       "</tr>\n",
       "<tr>\n",
       "  <th>No. Observations:</th>      <td>   205</td>      <th>  AIC:               </th> <td>   3923.</td>\n",
       "</tr>\n",
       "<tr>\n",
       "  <th>Df Residuals:</th>          <td>   200</td>      <th>  BIC:               </th> <td>   3940.</td>\n",
       "</tr>\n",
       "<tr>\n",
       "  <th>Df Model:</th>              <td>     4</td>      <th>                     </th>     <td> </td>   \n",
       "</tr>\n",
       "<tr>\n",
       "  <th>Covariance Type:</th>      <td>nonrobust</td>    <th>                     </th>     <td> </td>   \n",
       "</tr>\n",
       "</table>\n",
       "<table class=\"simpletable\">\n",
       "<tr>\n",
       "       <td></td>         <th>coef</th>     <th>std err</th>      <th>t</th>      <th>P>|t|</th>  <th>[0.025</th>    <th>0.975]</th>  \n",
       "</tr>\n",
       "<tr>\n",
       "  <th>const</th>      <td>-6.338e+04</td> <td> 1.03e+04</td> <td>   -6.160</td> <td> 0.000</td> <td>-8.37e+04</td> <td>-4.31e+04</td>\n",
       "</tr>\n",
       "<tr>\n",
       "  <th>carwidth</th>   <td>  713.7447</td> <td>  180.081</td> <td>    3.963</td> <td> 0.000</td> <td>  358.643</td> <td> 1068.846</td>\n",
       "</tr>\n",
       "<tr>\n",
       "  <th>carheight</th>  <td>  213.7086</td> <td>  111.074</td> <td>    1.924</td> <td> 0.056</td> <td>   -5.317</td> <td>  432.734</td>\n",
       "</tr>\n",
       "<tr>\n",
       "  <th>enginesize</th> <td>   93.6605</td> <td>   11.200</td> <td>    8.363</td> <td> 0.000</td> <td>   71.575</td> <td>  115.746</td>\n",
       "</tr>\n",
       "<tr>\n",
       "  <th>horsepower</th> <td>   60.0229</td> <td>   11.048</td> <td>    5.433</td> <td> 0.000</td> <td>   38.238</td> <td>   81.808</td>\n",
       "</tr>\n",
       "</table>\n",
       "<table class=\"simpletable\">\n",
       "<tr>\n",
       "  <th>Omnibus:</th>       <td>25.131</td> <th>  Durbin-Watson:     </th> <td>   0.825</td>\n",
       "</tr>\n",
       "<tr>\n",
       "  <th>Prob(Omnibus):</th> <td> 0.000</td> <th>  Jarque-Bera (JB):  </th> <td>  45.487</td>\n",
       "</tr>\n",
       "<tr>\n",
       "  <th>Skew:</th>          <td> 0.637</td> <th>  Prob(JB):          </th> <td>1.33e-10</td>\n",
       "</tr>\n",
       "<tr>\n",
       "  <th>Kurtosis:</th>      <td> 4.924</td> <th>  Cond. No.          </th> <td>8.24e+03</td>\n",
       "</tr>\n",
       "</table><br/><br/>Notes:<br/>[1] Standard Errors assume that the covariance matrix of the errors is correctly specified.<br/>[2] The condition number is large, 8.24e+03. This might indicate that there are<br/>strong multicollinearity or other numerical problems."
      ],
      "text/plain": [
       "<class 'statsmodels.iolib.summary.Summary'>\n",
       "\"\"\"\n",
       "                            OLS Regression Results                            \n",
       "==============================================================================\n",
       "Dep. Variable:                  price   R-squared:                       0.820\n",
       "Model:                            OLS   Adj. R-squared:                  0.817\n",
       "Method:                 Least Squares   F-statistic:                     228.1\n",
       "Date:                Tue, 28 Dec 2021   Prob (F-statistic):           2.49e-73\n",
       "Time:                        13:49:45   Log-Likelihood:                -1956.6\n",
       "No. Observations:                 205   AIC:                             3923.\n",
       "Df Residuals:                     200   BIC:                             3940.\n",
       "Df Model:                           4                                         \n",
       "Covariance Type:            nonrobust                                         \n",
       "==============================================================================\n",
       "                 coef    std err          t      P>|t|      [0.025      0.975]\n",
       "------------------------------------------------------------------------------\n",
       "const      -6.338e+04   1.03e+04     -6.160      0.000   -8.37e+04   -4.31e+04\n",
       "carwidth     713.7447    180.081      3.963      0.000     358.643    1068.846\n",
       "carheight    213.7086    111.074      1.924      0.056      -5.317     432.734\n",
       "enginesize    93.6605     11.200      8.363      0.000      71.575     115.746\n",
       "horsepower    60.0229     11.048      5.433      0.000      38.238      81.808\n",
       "==============================================================================\n",
       "Omnibus:                       25.131   Durbin-Watson:                   0.825\n",
       "Prob(Omnibus):                  0.000   Jarque-Bera (JB):               45.487\n",
       "Skew:                           0.637   Prob(JB):                     1.33e-10\n",
       "Kurtosis:                       4.924   Cond. No.                     8.24e+03\n",
       "==============================================================================\n",
       "\n",
       "Notes:\n",
       "[1] Standard Errors assume that the covariance matrix of the errors is correctly specified.\n",
       "[2] The condition number is large, 8.24e+03. This might indicate that there are\n",
       "strong multicollinearity or other numerical problems.\n",
       "\"\"\""
      ]
     },
     "execution_count": 160,
     "metadata": {},
     "output_type": "execute_result"
    }
   ],
   "source": [
    "import statsmodels.api as sm\n",
    "\n",
    "# We need to add constant manually \n",
    "# in statsmodels' sm\n",
    "X = sm.add_constant(X)\n",
    "\n",
    "results = sm.OLS(Y, X).fit()\n",
    "\n",
    "results.summary()"
   ]
  },
  {
   "cell_type": "markdown",
   "metadata": {},
   "source": [
    "**Our R^2 value dropped slightly, but it won't matter that much.\n",
    "P value of carheight got higher than 0.05 value, so we can drop it still.\n",
    "Also, this is a nested model of the first one and our F-statistic value has increased. That means, we're in the right path.**"
   ]
  },
  {
   "cell_type": "markdown",
   "metadata": {},
   "source": [
    "# 3rd Linear Reg Model"
   ]
  },
  {
   "cell_type": "code",
   "execution_count": 161,
   "metadata": {},
   "outputs": [
    {
     "name": "stdout",
     "output_type": "stream",
     "text": [
      "\n",
      "Coefficients: \n",
      " [848.69838714  94.94188698  52.80259405]\n",
      "\n",
      "Intercept: \n",
      " -60205.608831563906\n"
     ]
    }
   ],
   "source": [
    "Y = numerical_columns_df['price']\n",
    "\n",
    "X = numerical_columns_df[['carwidth','enginesize','horsepower']]\n",
    "\n",
    "lrm = linear_model.LinearRegression()\n",
    "\n",
    "lrm.fit(X, Y)\n",
    "\n",
    "print('\\nCoefficients: \\n', lrm.coef_)\n",
    "print('\\nIntercept: \\n', lrm.intercept_)"
   ]
  },
  {
   "cell_type": "code",
   "execution_count": 162,
   "metadata": {},
   "outputs": [
    {
     "data": {
      "text/html": [
       "<table class=\"simpletable\">\n",
       "<caption>OLS Regression Results</caption>\n",
       "<tr>\n",
       "  <th>Dep. Variable:</th>          <td>price</td>      <th>  R-squared:         </th> <td>   0.817</td>\n",
       "</tr>\n",
       "<tr>\n",
       "  <th>Model:</th>                   <td>OLS</td>       <th>  Adj. R-squared:    </th> <td>   0.814</td>\n",
       "</tr>\n",
       "<tr>\n",
       "  <th>Method:</th>             <td>Least Squares</td>  <th>  F-statistic:       </th> <td>   298.9</td>\n",
       "</tr>\n",
       "<tr>\n",
       "  <th>Date:</th>             <td>Tue, 28 Dec 2021</td> <th>  Prob (F-statistic):</th> <td>8.26e-74</td>\n",
       "</tr>\n",
       "<tr>\n",
       "  <th>Time:</th>                 <td>13:49:48</td>     <th>  Log-Likelihood:    </th> <td> -1958.5</td>\n",
       "</tr>\n",
       "<tr>\n",
       "  <th>No. Observations:</th>      <td>   205</td>      <th>  AIC:               </th> <td>   3925.</td>\n",
       "</tr>\n",
       "<tr>\n",
       "  <th>Df Residuals:</th>          <td>   201</td>      <th>  BIC:               </th> <td>   3938.</td>\n",
       "</tr>\n",
       "<tr>\n",
       "  <th>Df Model:</th>              <td>     3</td>      <th>                     </th>     <td> </td>   \n",
       "</tr>\n",
       "<tr>\n",
       "  <th>Covariance Type:</th>      <td>nonrobust</td>    <th>                     </th>     <td> </td>   \n",
       "</tr>\n",
       "</table>\n",
       "<table class=\"simpletable\">\n",
       "<tr>\n",
       "       <td></td>         <th>coef</th>     <th>std err</th>      <th>t</th>      <th>P>|t|</th>  <th>[0.025</th>    <th>0.975]</th>  \n",
       "</tr>\n",
       "<tr>\n",
       "  <th>const</th>      <td>-6.021e+04</td> <td> 1.02e+04</td> <td>   -5.889</td> <td> 0.000</td> <td>-8.04e+04</td> <td>   -4e+04</td>\n",
       "</tr>\n",
       "<tr>\n",
       "  <th>carwidth</th>   <td>  848.6984</td> <td>  166.971</td> <td>    5.083</td> <td> 0.000</td> <td>  519.459</td> <td> 1177.938</td>\n",
       "</tr>\n",
       "<tr>\n",
       "  <th>enginesize</th> <td>   94.9419</td> <td>   11.255</td> <td>    8.436</td> <td> 0.000</td> <td>   72.749</td> <td>  117.135</td>\n",
       "</tr>\n",
       "<tr>\n",
       "  <th>horsepower</th> <td>   52.8026</td> <td>   10.460</td> <td>    5.048</td> <td> 0.000</td> <td>   32.177</td> <td>   73.429</td>\n",
       "</tr>\n",
       "</table>\n",
       "<table class=\"simpletable\">\n",
       "<tr>\n",
       "  <th>Omnibus:</th>       <td>25.166</td> <th>  Durbin-Watson:     </th> <td>   0.809</td>\n",
       "</tr>\n",
       "<tr>\n",
       "  <th>Prob(Omnibus):</th> <td> 0.000</td> <th>  Jarque-Bera (JB):  </th> <td>  47.522</td>\n",
       "</tr>\n",
       "<tr>\n",
       "  <th>Skew:</th>          <td> 0.622</td> <th>  Prob(JB):          </th> <td>4.80e-11</td>\n",
       "</tr>\n",
       "<tr>\n",
       "  <th>Kurtosis:</th>      <td> 5.004</td> <th>  Cond. No.          </th> <td>7.83e+03</td>\n",
       "</tr>\n",
       "</table><br/><br/>Notes:<br/>[1] Standard Errors assume that the covariance matrix of the errors is correctly specified.<br/>[2] The condition number is large, 7.83e+03. This might indicate that there are<br/>strong multicollinearity or other numerical problems."
      ],
      "text/plain": [
       "<class 'statsmodels.iolib.summary.Summary'>\n",
       "\"\"\"\n",
       "                            OLS Regression Results                            \n",
       "==============================================================================\n",
       "Dep. Variable:                  price   R-squared:                       0.817\n",
       "Model:                            OLS   Adj. R-squared:                  0.814\n",
       "Method:                 Least Squares   F-statistic:                     298.9\n",
       "Date:                Tue, 28 Dec 2021   Prob (F-statistic):           8.26e-74\n",
       "Time:                        13:49:48   Log-Likelihood:                -1958.5\n",
       "No. Observations:                 205   AIC:                             3925.\n",
       "Df Residuals:                     201   BIC:                             3938.\n",
       "Df Model:                           3                                         \n",
       "Covariance Type:            nonrobust                                         \n",
       "==============================================================================\n",
       "                 coef    std err          t      P>|t|      [0.025      0.975]\n",
       "------------------------------------------------------------------------------\n",
       "const      -6.021e+04   1.02e+04     -5.889      0.000   -8.04e+04      -4e+04\n",
       "carwidth     848.6984    166.971      5.083      0.000     519.459    1177.938\n",
       "enginesize    94.9419     11.255      8.436      0.000      72.749     117.135\n",
       "horsepower    52.8026     10.460      5.048      0.000      32.177      73.429\n",
       "==============================================================================\n",
       "Omnibus:                       25.166   Durbin-Watson:                   0.809\n",
       "Prob(Omnibus):                  0.000   Jarque-Bera (JB):               47.522\n",
       "Skew:                           0.622   Prob(JB):                     4.80e-11\n",
       "Kurtosis:                       5.004   Cond. No.                     7.83e+03\n",
       "==============================================================================\n",
       "\n",
       "Notes:\n",
       "[1] Standard Errors assume that the covariance matrix of the errors is correctly specified.\n",
       "[2] The condition number is large, 7.83e+03. This might indicate that there are\n",
       "strong multicollinearity or other numerical problems.\n",
       "\"\"\""
      ]
     },
     "execution_count": 162,
     "metadata": {},
     "output_type": "execute_result"
    }
   ],
   "source": [
    "# We need to add constant manually \n",
    "# in statsmodels' sm\n",
    "X = sm.add_constant(X)\n",
    "\n",
    "results = sm.OLS(Y, X).fit()\n",
    "\n",
    "results.summary()"
   ]
  },
  {
   "cell_type": "markdown",
   "metadata": {},
   "source": [
    "**AIC & BIC values do not differ that much in the upper 3 models.\n",
    "Plus, our R^2 scores did not decrease significantly while we were dropping features.\n",
    "Observe that this is a nested model of the second model and our F-statistic value has increased from 228 to 299.\n",
    "That means, our new model is superior than the second model.**"
   ]
  },
  {
   "cell_type": "markdown",
   "metadata": {},
   "source": [
    "# Multicollinearity"
   ]
  },
  {
   "cell_type": "code",
   "execution_count": 163,
   "metadata": {},
   "outputs": [
    {
     "data": {
      "text/plain": [
       "<AxesSubplot:>"
      ]
     },
     "execution_count": 163,
     "metadata": {},
     "output_type": "execute_result"
    },
    {
     "data": {
      "image/png": "[encoded data removed]",
      "text/plain": [
       "<Figure size 576x576 with 2 Axes>"
      ]
     },
     "metadata": {
      "needs_background": "light"
     },
     "output_type": "display_data"
    }
   ],
   "source": [
    "mc_check = numerical_columns_df[['symboling', 'carlength', 'carwidth', 'carheight',\n",
    "                                 'curbweight','enginesize','boreratio','horsepower']]\n",
    "mc_check.corr()\n",
    "\n",
    "plt.subplots(figsize=(8,8))\n",
    "sns.heatmap(mc_check.corr(), vmax=0.9, cmap=\"Greens\", square=True, annot=True)"
   ]
  },
  {
   "cell_type": "code",
   "execution_count": 164,
   "metadata": {},
   "outputs": [
    {
     "data": {
      "text/html": [
       "<div>\n",
       "<style scoped>\n",
       "    .dataframe tbody tr th:only-of-type {\n",
       "        vertical-align: middle;\n",
       "    }\n",
       "\n",
       "    .dataframe tbody tr th {\n",
       "        vertical-align: top;\n",
       "    }\n",
       "\n",
       "    .dataframe thead th {\n",
       "        text-align: right;\n",
       "    }\n",
       "</style>\n",
       "<table border=\"1\" class=\"dataframe\">\n",
       "  <thead>\n",
       "    <tr style=\"text-align: right;\">\n",
       "      <th></th>\n",
       "      <th>carwidth</th>\n",
       "      <th>enginesize</th>\n",
       "      <th>horsepower</th>\n",
       "    </tr>\n",
       "  </thead>\n",
       "  <tbody>\n",
       "    <tr>\n",
       "      <th>carwidth</th>\n",
       "      <td>1.000</td>\n",
       "      <td>0.735</td>\n",
       "      <td>0.641</td>\n",
       "    </tr>\n",
       "    <tr>\n",
       "      <th>enginesize</th>\n",
       "      <td>0.735</td>\n",
       "      <td>1.000</td>\n",
       "      <td>0.810</td>\n",
       "    </tr>\n",
       "    <tr>\n",
       "      <th>horsepower</th>\n",
       "      <td>0.641</td>\n",
       "      <td>0.810</td>\n",
       "      <td>1.000</td>\n",
       "    </tr>\n",
       "  </tbody>\n",
       "</table>\n",
       "</div>"
      ],
      "text/plain": [
       "            carwidth  enginesize  horsepower\n",
       "carwidth       1.000       0.735       0.641\n",
       "enginesize     0.735       1.000       0.810\n",
       "horsepower     0.641       0.810       1.000"
      ]
     },
     "execution_count": 164,
     "metadata": {},
     "output_type": "execute_result"
    }
   ],
   "source": [
    "mc_check = numerical_columns_df[['carwidth','enginesize','horsepower']]\n",
    "mc_check.corr()"
   ]
  },
  {
   "cell_type": "markdown",
   "metadata": {},
   "source": [
    "# Splitting & Overfitting Check"
   ]
  },
  {
   "cell_type": "code",
   "execution_count": 170,
   "metadata": {},
   "outputs": [
    {
     "data": {
      "text/plain": [
       "\"\\nRecall our last model with 3 features;\\nY = numerical_columns_df['price']\\nX = numerical_columns_df[['carwidth','enginesize','horsepower']]\\n\""
      ]
     },
     "execution_count": 170,
     "metadata": {},
     "output_type": "execute_result"
    }
   ],
   "source": [
    "\"\"\"\n",
    "Recall our last model with 3 features;\n",
    "Y = numerical_columns_df['price']\n",
    "X = numerical_columns_df[['carwidth','enginesize','horsepower']]\n",
    "\"\"\""
   ]
  },
  {
   "cell_type": "code",
   "execution_count": 175,
   "metadata": {},
   "outputs": [
    {
     "name": "stdout",
     "output_type": "stream",
     "text": [
      "The number of observations in training set is 173\n",
      "The number of observations in test set is 32\n"
     ]
    }
   ],
   "source": [
    "X_train, X_test, y_train, y_test = train_test_split(X, Y, test_size = 0.155, random_state = 42)\n",
    "\n",
    "print(\"The number of observations in training set is {}\".format(X_train.shape[0]))\n",
    "print(\"The number of observations in test set is {}\".format(X_test.shape[0]))"
   ]
  },
  {
   "cell_type": "code",
   "execution_count": 176,
   "metadata": {},
   "outputs": [
    {
     "data": {
      "text/plain": [
       "LinearRegression()"
      ]
     },
     "execution_count": 176,
     "metadata": {},
     "output_type": "execute_result"
    }
   ],
   "source": [
    "lrm = LinearRegression()\n",
    "lrm.fit(X_train, y_train)"
   ]
  },
  {
   "cell_type": "code",
   "execution_count": 177,
   "metadata": {},
   "outputs": [],
   "source": [
    "y_preds_train = lrm.predict(X_train)\n",
    "y_preds_test = lrm.predict(X_test)"
   ]
  },
  {
   "cell_type": "code",
   "execution_count": 178,
   "metadata": {},
   "outputs": [
    {
     "data": {
      "image/png": "[encoded data removed]",
      "text/plain": [
       "<Figure size 432x288 with 1 Axes>"
      ]
     },
     "metadata": {
      "needs_background": "light"
     },
     "output_type": "display_data"
    }
   ],
   "source": [
    "X_test = sm.add_constant(X_test)\n",
    "\n",
    "# We are making predictions here\n",
    "y_preds = results.predict(X_test)\n",
    "\n",
    "plt.scatter(y_test, y_preds)\n",
    "plt.plot(y_test, y_test, color=\"red\")\n",
    "plt.xlabel(\"true values\")\n",
    "plt.ylabel(\"predicted values\")\n",
    "plt.title(\"Charges: true and predicted values\")\n",
    "plt.show()"
   ]
  },
  {
   "cell_type": "code",
   "execution_count": 179,
   "metadata": {},
   "outputs": [
    {
     "name": "stdout",
     "output_type": "stream",
     "text": [
      "R-squared of the model in training set is: 0.8165377304339947\n",
      "-----Test set statistics-----\n",
      "R-squared of the model in test set is: 0.815874029472832\n",
      "Mean absolute error of the prediction is: 2793.394569664898\n",
      "Mean squared error of the prediction is: 16238717.84852459\n",
      "Root mean squared error of the prediction is: 4029.7292525087328\n",
      "Mean absolute percentage error of the prediction is: 22.281258277759573\n"
     ]
    }
   ],
   "source": [
    "print(\"R-squared of the model in training set is: {}\".format(lrm.score(X_train, y_train)))\n",
    "print(\"-----Test set statistics-----\")\n",
    "print(\"R-squared of the model in test set is: {}\".format(lrm.score(X_test, y_test)))\n",
    "print(\"Mean absolute error of the prediction is: {}\".format(mean_absolute_error(y_test, y_preds_test)))\n",
    "print(\"Mean squared error of the prediction is: {}\".format(mse(y_test, y_preds_test)))\n",
    "print(\"Root mean squared error of the prediction is: {}\".format(rmse(y_test, y_preds_test)))\n",
    "print(\"Mean absolute percentage error of the prediction is: {}\".format(np.mean(np.abs((y_test - y_preds_test) / y_test)) * 100))"
   ]
  },
  {
   "cell_type": "markdown",
   "metadata": {},
   "source": [
    "This model is very good in both R^2 metrics; the training sets R^2 value is 0.816 and the test sets R^2 value is 0.815.\n",
    "Thus, there is no overfitting or underfitting."
   ]
  },
  {
   "cell_type": "markdown",
   "metadata": {},
   "source": [
    "# Ridge Regression"
   ]
  },
  {
   "cell_type": "code",
   "execution_count": 87,
   "metadata": {},
   "outputs": [
    {
     "ename": "ValueError",
     "evalue": "matmul: Input operand 1 has a mismatch in its core dimension 0, with gufunc signature (n?,k),(k,m?)->(n?,m?) (size 3 is different from 4)",
     "output_type": "error",
     "traceback": [
      "\u001b[1;31m---------------------------------------------------------------------------\u001b[0m",
      "\u001b[1;31mValueError\u001b[0m                                Traceback (most recent call last)",
      "\u001b[1;32m<ipython-input-87-1ea475de6383>\u001b[0m in \u001b[0;36m<module>\u001b[1;34m\u001b[0m\n\u001b[0;32m     10\u001b[0m \u001b[1;31m# We are making predictions here\u001b[0m\u001b[1;33m\u001b[0m\u001b[1;33m\u001b[0m\u001b[1;33m\u001b[0m\u001b[0m\n\u001b[0;32m     11\u001b[0m \u001b[0my_preds_train\u001b[0m \u001b[1;33m=\u001b[0m \u001b[0mridgeregr\u001b[0m\u001b[1;33m.\u001b[0m\u001b[0mpredict\u001b[0m\u001b[1;33m(\u001b[0m\u001b[0mX_train\u001b[0m\u001b[1;33m)\u001b[0m\u001b[1;33m\u001b[0m\u001b[1;33m\u001b[0m\u001b[0m\n\u001b[1;32m---> 12\u001b[1;33m \u001b[0my_preds_test\u001b[0m \u001b[1;33m=\u001b[0m \u001b[0mridgeregr\u001b[0m\u001b[1;33m.\u001b[0m\u001b[0mpredict\u001b[0m\u001b[1;33m(\u001b[0m\u001b[0mX_test\u001b[0m\u001b[1;33m)\u001b[0m\u001b[1;33m\u001b[0m\u001b[1;33m\u001b[0m\u001b[0m\n\u001b[0m\u001b[0;32m     13\u001b[0m \u001b[1;33m\u001b[0m\u001b[0m\n\u001b[0;32m     14\u001b[0m \u001b[0mprint\u001b[0m\u001b[1;33m(\u001b[0m\u001b[1;34m\"R-squared of the model in training set is: {}\"\u001b[0m\u001b[1;33m.\u001b[0m\u001b[0mformat\u001b[0m\u001b[1;33m(\u001b[0m\u001b[0mridgeregr\u001b[0m\u001b[1;33m.\u001b[0m\u001b[0mscore\u001b[0m\u001b[1;33m(\u001b[0m\u001b[0mX_train\u001b[0m\u001b[1;33m,\u001b[0m \u001b[0my_train\u001b[0m\u001b[1;33m)\u001b[0m\u001b[1;33m)\u001b[0m\u001b[1;33m)\u001b[0m\u001b[1;33m\u001b[0m\u001b[1;33m\u001b[0m\u001b[0m\n",
      "\u001b[1;32m~\\anaconda3\\lib\\site-packages\\sklearn\\linear_model\\_base.py\u001b[0m in \u001b[0;36mpredict\u001b[1;34m(self, X)\u001b[0m\n\u001b[0;32m    234\u001b[0m             \u001b[0mReturns\u001b[0m \u001b[0mpredicted\u001b[0m \u001b[0mvalues\u001b[0m\u001b[1;33m.\u001b[0m\u001b[1;33m\u001b[0m\u001b[1;33m\u001b[0m\u001b[0m\n\u001b[0;32m    235\u001b[0m         \"\"\"\n\u001b[1;32m--> 236\u001b[1;33m         \u001b[1;32mreturn\u001b[0m \u001b[0mself\u001b[0m\u001b[1;33m.\u001b[0m\u001b[0m_decision_function\u001b[0m\u001b[1;33m(\u001b[0m\u001b[0mX\u001b[0m\u001b[1;33m)\u001b[0m\u001b[1;33m\u001b[0m\u001b[1;33m\u001b[0m\u001b[0m\n\u001b[0m\u001b[0;32m    237\u001b[0m \u001b[1;33m\u001b[0m\u001b[0m\n\u001b[0;32m    238\u001b[0m     \u001b[0m_preprocess_data\u001b[0m \u001b[1;33m=\u001b[0m \u001b[0mstaticmethod\u001b[0m\u001b[1;33m(\u001b[0m\u001b[0m_preprocess_data\u001b[0m\u001b[1;33m)\u001b[0m\u001b[1;33m\u001b[0m\u001b[1;33m\u001b[0m\u001b[0m\n",
      "\u001b[1;32m~\\anaconda3\\lib\\site-packages\\sklearn\\linear_model\\_base.py\u001b[0m in \u001b[0;36m_decision_function\u001b[1;34m(self, X)\u001b[0m\n\u001b[0;32m    217\u001b[0m \u001b[1;33m\u001b[0m\u001b[0m\n\u001b[0;32m    218\u001b[0m         \u001b[0mX\u001b[0m \u001b[1;33m=\u001b[0m \u001b[0mcheck_array\u001b[0m\u001b[1;33m(\u001b[0m\u001b[0mX\u001b[0m\u001b[1;33m,\u001b[0m \u001b[0maccept_sparse\u001b[0m\u001b[1;33m=\u001b[0m\u001b[1;33m[\u001b[0m\u001b[1;34m'csr'\u001b[0m\u001b[1;33m,\u001b[0m \u001b[1;34m'csc'\u001b[0m\u001b[1;33m,\u001b[0m \u001b[1;34m'coo'\u001b[0m\u001b[1;33m]\u001b[0m\u001b[1;33m)\u001b[0m\u001b[1;33m\u001b[0m\u001b[1;33m\u001b[0m\u001b[0m\n\u001b[1;32m--> 219\u001b[1;33m         return safe_sparse_dot(X, self.coef_.T,\n\u001b[0m\u001b[0;32m    220\u001b[0m                                dense_output=True) + self.intercept_\n\u001b[0;32m    221\u001b[0m \u001b[1;33m\u001b[0m\u001b[0m\n",
      "\u001b[1;32m~\\anaconda3\\lib\\site-packages\\sklearn\\utils\\validation.py\u001b[0m in \u001b[0;36minner_f\u001b[1;34m(*args, **kwargs)\u001b[0m\n\u001b[0;32m     70\u001b[0m                           FutureWarning)\n\u001b[0;32m     71\u001b[0m         \u001b[0mkwargs\u001b[0m\u001b[1;33m.\u001b[0m\u001b[0mupdate\u001b[0m\u001b[1;33m(\u001b[0m\u001b[1;33m{\u001b[0m\u001b[0mk\u001b[0m\u001b[1;33m:\u001b[0m \u001b[0marg\u001b[0m \u001b[1;32mfor\u001b[0m \u001b[0mk\u001b[0m\u001b[1;33m,\u001b[0m \u001b[0marg\u001b[0m \u001b[1;32min\u001b[0m \u001b[0mzip\u001b[0m\u001b[1;33m(\u001b[0m\u001b[0msig\u001b[0m\u001b[1;33m.\u001b[0m\u001b[0mparameters\u001b[0m\u001b[1;33m,\u001b[0m \u001b[0margs\u001b[0m\u001b[1;33m)\u001b[0m\u001b[1;33m}\u001b[0m\u001b[1;33m)\u001b[0m\u001b[1;33m\u001b[0m\u001b[1;33m\u001b[0m\u001b[0m\n\u001b[1;32m---> 72\u001b[1;33m         \u001b[1;32mreturn\u001b[0m \u001b[0mf\u001b[0m\u001b[1;33m(\u001b[0m\u001b[1;33m**\u001b[0m\u001b[0mkwargs\u001b[0m\u001b[1;33m)\u001b[0m\u001b[1;33m\u001b[0m\u001b[1;33m\u001b[0m\u001b[0m\n\u001b[0m\u001b[0;32m     73\u001b[0m     \u001b[1;32mreturn\u001b[0m \u001b[0minner_f\u001b[0m\u001b[1;33m\u001b[0m\u001b[1;33m\u001b[0m\u001b[0m\n\u001b[0;32m     74\u001b[0m \u001b[1;33m\u001b[0m\u001b[0m\n",
      "\u001b[1;32m~\\anaconda3\\lib\\site-packages\\sklearn\\utils\\extmath.py\u001b[0m in \u001b[0;36msafe_sparse_dot\u001b[1;34m(a, b, dense_output)\u001b[0m\n\u001b[0;32m    151\u001b[0m             \u001b[0mret\u001b[0m \u001b[1;33m=\u001b[0m \u001b[0mnp\u001b[0m\u001b[1;33m.\u001b[0m\u001b[0mdot\u001b[0m\u001b[1;33m(\u001b[0m\u001b[0ma\u001b[0m\u001b[1;33m,\u001b[0m \u001b[0mb\u001b[0m\u001b[1;33m)\u001b[0m\u001b[1;33m\u001b[0m\u001b[1;33m\u001b[0m\u001b[0m\n\u001b[0;32m    152\u001b[0m     \u001b[1;32melse\u001b[0m\u001b[1;33m:\u001b[0m\u001b[1;33m\u001b[0m\u001b[1;33m\u001b[0m\u001b[0m\n\u001b[1;32m--> 153\u001b[1;33m         \u001b[0mret\u001b[0m \u001b[1;33m=\u001b[0m \u001b[0ma\u001b[0m \u001b[1;33m@\u001b[0m \u001b[0mb\u001b[0m\u001b[1;33m\u001b[0m\u001b[1;33m\u001b[0m\u001b[0m\n\u001b[0m\u001b[0;32m    154\u001b[0m \u001b[1;33m\u001b[0m\u001b[0m\n\u001b[0;32m    155\u001b[0m     if (sparse.issparse(a) and sparse.issparse(b)\n",
      "\u001b[1;31mValueError\u001b[0m: matmul: Input operand 1 has a mismatch in its core dimension 0, with gufunc signature (n?,k),(k,m?)->(n?,m?) (size 3 is different from 4)"
     ]
    }
   ],
   "source": [
    "from sklearn.linear_model import Ridge\n",
    "\n",
    "# Fitting a ridge regression model. Alpha is the regularization\n",
    "# parameter (usually called lambda). As alpha gets larger, parameter\n",
    "# shrinkage grows more pronounced.\n",
    "\n",
    "ridgeregr = Ridge(alpha=10**37) \n",
    "ridgeregr.fit(X_train, y_train)\n",
    "\n",
    "# We are making predictions here\n",
    "y_preds_train = ridgeregr.predict(X_train)\n",
    "y_preds_test = ridgeregr.predict(X_test)\n",
    "\n",
    "print(\"R-squared of the model in training set is: {}\".format(ridgeregr.score(X_train, y_train)))\n",
    "print(\"-----Test set statistics-----\")\n",
    "print(\"R-squared of the model in test set is: {}\".format(ridgeregr.score(X_test, y_test)))\n",
    "print(\"Mean absolute error of the prediction is: {}\".format(mean_absolute_error(y_test, y_preds_test)))\n",
    "print(\"Mean squared error of the prediction is: {}\".format(mse(y_test, y_preds_test)))\n",
    "print(\"Root mean squared error of the prediction is: {}\".format(rmse(y_test, y_preds_test)))\n",
    "print(\"Mean absolute percentage error of the prediction is: {}\".format(np.mean(np.abs((y_test - y_preds_test) / y_test)) * 100))"
   ]
  },
  {
   "cell_type": "markdown",
   "metadata": {},
   "source": [
    "The model is messed up with this alpha value. So I'll try different alpha values below."
   ]
  },
  {
   "cell_type": "code",
   "execution_count": 180,
   "metadata": {},
   "outputs": [
    {
     "data": {
      "text/plain": [
       "[1e-10, 1e-05, 1, 100000, 10000000000, 1000000000000000, 100000000000000000000]"
      ]
     },
     "execution_count": 180,
     "metadata": {},
     "output_type": "execute_result"
    }
   ],
   "source": [
    "values = [-10,-5,0,5,10,15,20]\n",
    "results = list(map(lambda x: (10**x), values))\n",
    "results"
   ]
  },
  {
   "cell_type": "code",
   "execution_count": 183,
   "metadata": {},
   "outputs": [
    {
     "name": "stdout",
     "output_type": "stream",
     "text": [
      "\n",
      "---------------NEW MODEL with alpha = 1e-10 ----------\n",
      "R-squared of the model in training set is: 0.8165377304339946\n",
      "-------------Test set statistics----------\n",
      "R-squared of the model in test set is: 0.8158740294728366\n",
      "Mean absolute error of the prediction is: 2793.3945696648116\n",
      "Mean squared error of the prediction is: 16238717.848524183\n",
      "Root mean squared error of the prediction is: 4029.7292525086823\n",
      "Mean absolute percentage error of the prediction is: 22.281258277758297\n",
      "\n",
      "---------------NEW MODEL with alpha = 1e-05 ----------\n",
      "R-squared of the model in training set is: 0.8165377304339947\n",
      "-------------Test set statistics----------\n",
      "R-squared of the model in test set is: 0.8158740299395966\n",
      "Mean absolute error of the prediction is: 2793.3945611536938\n",
      "Mean squared error of the prediction is: 16238717.807358976\n",
      "Root mean squared error of the prediction is: 4029.7292474009932\n",
      "Mean absolute percentage error of the prediction is: 22.28125815636637\n",
      "\n",
      "---------------NEW MODEL with alpha = 1 ----------\n",
      "R-squared of the model in training set is: 0.816537517417725\n",
      "-------------Test set statistics----------\n",
      "R-squared of the model in test set is: 0.8159204909049048\n",
      "Mean absolute error of the prediction is: 2792.545690293133\n",
      "Mean squared error of the prediction is: 16234620.25118887\n",
      "Root mean squared error of the prediction is: 4029.220799508122\n",
      "Mean absolute percentage error of the prediction is: 22.269150719874382\n",
      "\n",
      "---------------NEW MODEL with alpha = 100000 ----------\n",
      "R-squared of the model in training set is: 0.7605574013016548\n",
      "-------------Test set statistics----------\n",
      "R-squared of the model in test set is: 0.7688633823149993\n",
      "Mean absolute error of the prediction is: 3000.3474358835797\n",
      "Mean squared error of the prediction is: 20384752.396974947\n",
      "Root mean squared error of the prediction is: 4514.947662706064\n",
      "Mean absolute percentage error of the prediction is: 20.295610591714635\n",
      "\n",
      "---------------NEW MODEL with alpha = 10000000000 ----------\n",
      "R-squared of the model in training set is: 7.722623503192416e-05\n",
      "-------------Test set statistics----------\n",
      "R-squared of the model in test set is: -0.001454910046330804\n",
      "Mean absolute error of the prediction is: 6569.5626096133465\n",
      "Mean squared error of the prediction is: 88321835.72855854\n",
      "Root mean squared error of the prediction is: 9397.969766314347\n",
      "Mean absolute percentage error of the prediction is: 52.18320940137875\n",
      "\n",
      "---------------NEW MODEL with alpha = 1000000000000000 ----------\n",
      "R-squared of the model in training set is: 7.72319652675435e-10\n",
      "-------------Test set statistics----------\n",
      "R-squared of the model in test set is: -0.0015270862016141251\n",
      "Mean absolute error of the prediction is: 6569.820786977321\n",
      "Mean squared error of the prediction is: 88328201.1979037\n",
      "Root mean squared error of the prediction is: 9398.308422152557\n",
      "Mean absolute percentage error of the prediction is: 52.18553039412317\n",
      "\n",
      "---------------NEW MODEL with alpha = 100000000000000000000 ----------\n",
      "R-squared of the model in training set is: 7.66053886991358e-15\n",
      "-------------Test set statistics----------\n",
      "R-squared of the model in test set is: -0.001527086923427401\n",
      "Mean absolute error of the prediction is: 6569.820789559223\n",
      "Mean squared error of the prediction is: 88328201.26156294\n",
      "Root mean squared error of the prediction is: 9398.308425539297\n",
      "Mean absolute percentage error of the prediction is: 52.18553041733427\n"
     ]
    }
   ],
   "source": [
    "for alpha in results:\n",
    "    ridgeregr = Ridge(alpha) \n",
    "    ridgeregr.fit(X_train, y_train)\n",
    "    \n",
    "    # We are making predictions here\n",
    "    y_preds_train = ridgeregr.predict(X_train)\n",
    "    y_preds_test = ridgeregr.predict(X_test)\n",
    "    \n",
    "    print(\"\\n---------------NEW MODEL with alpha = {} ----------\".format(alpha))\n",
    "    print(\"R-squared of the model in training set is: {}\".format(ridgeregr.score(X_train, y_train)))\n",
    "    print(\"-------------Test set statistics----------\")\n",
    "    print(\"R-squared of the model in test set is: {}\".format(ridgeregr.score(X_test, y_test)))\n",
    "    print(\"Mean absolute error of the prediction is: {}\".format(mean_absolute_error(y_test, y_preds_test)))\n",
    "    print(\"Mean squared error of the prediction is: {}\".format(mse(y_test, y_preds_test)))\n",
    "    print(\"Root mean squared error of the prediction is: {}\".format(rmse(y_test, y_preds_test)))\n",
    "    print(\"Mean absolute percentage error of the prediction is: {}\".format(np.mean(np.abs((y_test - y_preds_test) / y_test)) * 100))\n"
   ]
  },
  {
   "cell_type": "markdown",
   "metadata": {},
   "source": [
    "So, as the alpha value increases, Ridge Regression is messing up the model."
   ]
  },
  {
   "cell_type": "markdown",
   "metadata": {},
   "source": [
    "# Lasso Regression"
   ]
  },
  {
   "cell_type": "code",
   "execution_count": 184,
   "metadata": {},
   "outputs": [
    {
     "name": "stdout",
     "output_type": "stream",
     "text": [
      "R-squared of the model in training set is: 0.0\n",
      "-----Test set statistics-----\n",
      "R-squared of the model in test set is: -0.0015270869234345064\n",
      "Mean absolute error of the prediction is: 6569.820789559248\n",
      "Mean squared error of the prediction is: 88328201.26156357\n",
      "Root mean squared error of the prediction is: 9398.30842553933\n",
      "Mean absolute percentage error of the prediction is: 52.185530417334505\n"
     ]
    }
   ],
   "source": [
    "from sklearn.linear_model import Lasso\n",
    "\n",
    "lassoregr = Lasso(alpha=10**20.5) \n",
    "lassoregr.fit(X_train, y_train)\n",
    "\n",
    "# We are making predictions here\n",
    "y_preds_train = lassoregr.predict(X_train)\n",
    "y_preds_test = lassoregr.predict(X_test)\n",
    "\n",
    "print(\"R-squared of the model in training set is: {}\".format(lassoregr.score(X_train, y_train)))\n",
    "print(\"-----Test set statistics-----\")\n",
    "print(\"R-squared of the model in test set is: {}\".format(lassoregr.score(X_test, y_test)))\n",
    "print(\"Mean absolute error of the prediction is: {}\".format(mean_absolute_error(y_test, y_preds_test)))\n",
    "print(\"Mean squared error of the prediction is: {}\".format(mse(y_test, y_preds_test)))\n",
    "print(\"Root mean squared error of the prediction is: {}\".format(rmse(y_test, y_preds_test)))\n",
    "print(\"Mean absolute percentage error of the prediction is: {}\".format(np.mean(np.abs((y_test - y_preds_test) / y_test)) * 100))"
   ]
  },
  {
   "cell_type": "markdown",
   "metadata": {},
   "source": [
    "Again, it messed up the model. Let us try different alpha values in here as well."
   ]
  },
  {
   "cell_type": "code",
   "execution_count": 185,
   "metadata": {},
   "outputs": [
    {
     "name": "stdout",
     "output_type": "stream",
     "text": [
      "R-squared of the model in training set is: 0.8165377304339947\n",
      "------------Test set statistics--------------\n",
      "R-squared of the model in test set is: 0.8158740294728326\n",
      "Mean absolute error of the prediction is: 2793.3945696648807\n",
      "Mean squared error of the prediction is: 16238717.84852454\n",
      "Root mean squared error of the prediction is: 4029.7292525087264\n",
      "Mean absolute percentage error of the prediction is: 22.28125827775927\n",
      "\n",
      "---------------NEW MODEL-------------------\n",
      "R-squared of the model in training set is: 0.8165377304339946\n",
      "------------Test set statistics--------------\n",
      "R-squared of the model in test set is: 0.8158740295528677\n",
      "Mean absolute error of the prediction is: 2793.394568097472\n",
      "Mean squared error of the prediction is: 16238717.841465969\n",
      "Root mean squared error of the prediction is: 4029.7292516329144\n",
      "Mean absolute percentage error of the prediction is: 22.28125825474177\n",
      "\n",
      "---------------NEW MODEL-------------------\n",
      "R-squared of the model in training set is: 0.8165377230214763\n",
      "------------Test set statistics--------------\n",
      "R-squared of the model in test set is: 0.8158823156806503\n",
      "Mean absolute error of the prediction is: 2793.2326447238434\n",
      "Mean squared error of the prediction is: 16237987.058672346\n",
      "Root mean squared error of the prediction is: 4029.638576680587\n",
      "Mean absolute percentage error of the prediction is: 22.278880909502856\n",
      "\n",
      "---------------NEW MODEL-------------------\n",
      "R-squared of the model in training set is: 0.6667338285368819\n",
      "------------Test set statistics--------------\n",
      "R-squared of the model in test set is: 0.675538341270191\n",
      "Mean absolute error of the prediction is: 3865.617588734602\n",
      "Mean squared error of the prediction is: 28615416.465653997\n",
      "Root mean squared error of the prediction is: 5349.337946480293\n",
      "Mean absolute percentage error of the prediction is: 28.4771543591601\n",
      "\n",
      "---------------NEW MODEL-------------------\n",
      "R-squared of the model in training set is: 0.0\n",
      "------------Test set statistics--------------\n",
      "R-squared of the model in test set is: -0.0015270869234345064\n",
      "Mean absolute error of the prediction is: 6569.820789559248\n",
      "Mean squared error of the prediction is: 88328201.26156357\n",
      "Root mean squared error of the prediction is: 9398.30842553933\n",
      "Mean absolute percentage error of the prediction is: 52.185530417334505\n",
      "\n",
      "---------------NEW MODEL-------------------\n",
      "R-squared of the model in training set is: 0.0\n",
      "------------Test set statistics--------------\n",
      "R-squared of the model in test set is: -0.0015270869234345064\n",
      "Mean absolute error of the prediction is: 6569.820789559248\n",
      "Mean squared error of the prediction is: 88328201.26156357\n",
      "Root mean squared error of the prediction is: 9398.30842553933\n",
      "Mean absolute percentage error of the prediction is: 52.185530417334505\n",
      "\n",
      "---------------NEW MODEL-------------------\n",
      "R-squared of the model in training set is: 0.0\n",
      "------------Test set statistics--------------\n",
      "R-squared of the model in test set is: -0.0015270869234345064\n",
      "Mean absolute error of the prediction is: 6569.820789559248\n",
      "Mean squared error of the prediction is: 88328201.26156357\n",
      "Root mean squared error of the prediction is: 9398.30842553933\n",
      "Mean absolute percentage error of the prediction is: 52.185530417334505\n",
      "\n",
      "---------------NEW MODEL-------------------\n"
     ]
    }
   ],
   "source": [
    "for alpha in results:\n",
    "    lassoregr = Lasso(alpha)\n",
    "    lassoregr.fit(X_train, y_train)\n",
    "    \n",
    "    # We are making predictions here\n",
    "    y_preds_train = lassoregr.predict(X_train)\n",
    "    y_preds_test = lassoregr.predict(X_test)\n",
    "    \n",
    "    print(\"R-squared of the model in training set is: {}\".format(lassoregr.score(X_train, y_train)))\n",
    "    print(\"------------Test set statistics--------------\")\n",
    "    print(\"R-squared of the model in test set is: {}\".format(lassoregr.score(X_test, y_test)))\n",
    "    print(\"Mean absolute error of the prediction is: {}\".format(mean_absolute_error(y_test, y_preds_test)))\n",
    "    print(\"Mean squared error of the prediction is: {}\".format(mse(y_test, y_preds_test)))\n",
    "    print(\"Root mean squared error of the prediction is: {}\".format(rmse(y_test, y_preds_test)))\n",
    "    print(\"Mean absolute percentage error of the prediction is: {}\".format(np.mean(np.abs((y_test - y_preds_test) / y_test)) * 100))\n",
    "    print(\"\\n---------------NEW MODEL-------------------\")"
   ]
  },
  {
   "cell_type": "markdown",
   "metadata": {},
   "source": [
    "It got worse faster than the Rigde Regression, unfortunately."
   ]
  },
  {
   "cell_type": "markdown",
   "metadata": {},
   "source": [
    "# ElasticNet Regression"
   ]
  },
  {
   "cell_type": "code",
   "execution_count": 186,
   "metadata": {},
   "outputs": [
    {
     "name": "stdout",
     "output_type": "stream",
     "text": [
      "R-squared of the model in training set is: 0.0\n",
      "-----Test set statistics-----\n",
      "R-squared of the model in test set is: -0.0015270869234345064\n",
      "Mean absolute error of the prediction is: 6569.820789559248\n",
      "Mean squared error of the prediction is: 88328201.26156357\n",
      "Root mean squared error of the prediction is: 9398.30842553933\n",
      "Mean absolute percentage error of the prediction is: 52.185530417334505\n"
     ]
    }
   ],
   "source": [
    "from sklearn.linear_model import ElasticNet\n",
    "\n",
    "elasticregr = ElasticNet(alpha=10**21, l1_ratio=0.5) \n",
    "elasticregr.fit(X_train, y_train)\n",
    "\n",
    "# We are making predictions here\n",
    "y_preds_train = elasticregr.predict(X_train)\n",
    "y_preds_test = elasticregr.predict(X_test)\n",
    "\n",
    "print(\"R-squared of the model in training set is: {}\".format(elasticregr.score(X_train, y_train)))\n",
    "print(\"-----Test set statistics-----\")\n",
    "print(\"R-squared of the model in test set is: {}\".format(elasticregr.score(X_test, y_test)))\n",
    "print(\"Mean absolute error of the prediction is: {}\".format(mean_absolute_error(y_test, y_preds_test)))\n",
    "print(\"Mean squared error of the prediction is: {}\".format(mse(y_test, y_preds_test)))\n",
    "print(\"Root mean squared error of the prediction is: {}\".format(rmse(y_test, y_preds_test)))\n",
    "print(\"Mean absolute percentage error of the prediction is: {}\".format(np.mean(np.abs((y_test - y_preds_test) / y_test)) * 100))"
   ]
  },
  {
   "cell_type": "markdown",
   "metadata": {},
   "source": [
    "Again, it messed up the model. Let us try different alpha values in here as well."
   ]
  },
  {
   "cell_type": "code",
   "execution_count": 187,
   "metadata": {},
   "outputs": [
    {
     "name": "stdout",
     "output_type": "stream",
     "text": [
      "\n",
      "---------------NEW MODEL-------------------\n",
      "R-squared of the model in training set is: 0.8165377304339947\n",
      "-----Test set statistics-----\n",
      "R-squared of the model in test set is: 0.8158740294732362\n",
      "Mean absolute error of the prediction is: 2793.394569657524\n",
      "Mean squared error of the prediction is: 16238717.848488947\n",
      "Root mean squared error of the prediction is: 4029.7292525043104\n",
      "Mean absolute percentage error of the prediction is: 22.28125827765436\n",
      "\n",
      "---------------NEW MODEL-------------------\n",
      "R-squared of the model in training set is: 0.8165377304338343\n",
      "-----Test set statistics-----\n",
      "R-squared of the model in test set is: 0.8158740698878476\n",
      "Mean absolute error of the prediction is: 2793.3938326635725\n",
      "Mean squared error of the prediction is: 16238714.284182021\n",
      "Root mean squared error of the prediction is: 4029.7288102528714\n",
      "Mean absolute percentage error of the prediction is: 22.28124776577796\n",
      "\n",
      "---------------NEW MODEL-------------------\n",
      "R-squared of the model in training set is: 0.81547210062692\n",
      "-----Test set statistics-----\n",
      "R-squared of the model in test set is: 0.8187022120885088\n",
      "Mean absolute error of the prediction is: 2739.772421424599\n",
      "Mean squared error of the prediction is: 15989290.462542122\n",
      "Root mean squared error of the prediction is: 3998.6610837306685\n",
      "Mean absolute percentage error of the prediction is: 21.5064845082731\n",
      "\n",
      "---------------NEW MODEL-------------------\n",
      "R-squared of the model in training set is: 0.06643668266375291\n",
      "-----Test set statistics-----\n",
      "R-squared of the model in test set is: 0.06080155868693948\n",
      "Mean absolute error of the prediction is: 6350.420875638946\n",
      "Mean squared error of the prediction is: 82831218.47825652\n",
      "Root mean squared error of the prediction is: 9101.165775781503\n",
      "Mean absolute percentage error of the prediction is: 50.20383979847792\n",
      "\n",
      "---------------NEW MODEL-------------------\n",
      "R-squared of the model in training set is: 0.0\n",
      "-----Test set statistics-----\n",
      "R-squared of the model in test set is: -0.0015270869234345064\n",
      "Mean absolute error of the prediction is: 6569.820789559248\n",
      "Mean squared error of the prediction is: 88328201.26156357\n",
      "Root mean squared error of the prediction is: 9398.30842553933\n",
      "Mean absolute percentage error of the prediction is: 52.185530417334505\n",
      "\n",
      "---------------NEW MODEL-------------------\n",
      "R-squared of the model in training set is: 0.0\n",
      "-----Test set statistics-----\n",
      "R-squared of the model in test set is: -0.0015270869234345064\n",
      "Mean absolute error of the prediction is: 6569.820789559248\n",
      "Mean squared error of the prediction is: 88328201.26156357\n",
      "Root mean squared error of the prediction is: 9398.30842553933\n",
      "Mean absolute percentage error of the prediction is: 52.185530417334505\n",
      "\n",
      "---------------NEW MODEL-------------------\n",
      "R-squared of the model in training set is: 0.0\n",
      "-----Test set statistics-----\n",
      "R-squared of the model in test set is: -0.0015270869234345064\n",
      "Mean absolute error of the prediction is: 6569.820789559248\n",
      "Mean squared error of the prediction is: 88328201.26156357\n",
      "Root mean squared error of the prediction is: 9398.30842553933\n",
      "Mean absolute percentage error of the prediction is: 52.185530417334505\n"
     ]
    }
   ],
   "source": [
    "for alpha in results:\n",
    "    elasticregr = ElasticNet(alpha, l1_ratio=0.5) \n",
    "    elasticregr.fit(X_train, y_train)\n",
    "    \n",
    "    # We are making predictions here\n",
    "    y_preds_train = elasticregr.predict(X_train)\n",
    "    y_preds_test = elasticregr.predict(X_test)\n",
    "    \n",
    "    print(\"\\n---------------NEW MODEL-------------------\")\n",
    "    print(\"R-squared of the model in training set is: {}\".format(elasticregr.score(X_train, y_train)))\n",
    "    print(\"-----Test set statistics-----\")\n",
    "    print(\"R-squared of the model in test set is: {}\".format(elasticregr.score(X_test, y_test)))\n",
    "    print(\"Mean absolute error of the prediction is: {}\".format(mean_absolute_error(y_test, y_preds_test)))\n",
    "    print(\"Mean squared error of the prediction is: {}\".format(mse(y_test, y_preds_test)))\n",
    "    print(\"Root mean squared error of the prediction is: {}\".format(rmse(y_test, y_preds_test)))\n",
    "    print(\"Mean absolute percentage error of the prediction is: {}\".format(np.mean(np.abs((y_test - y_preds_test) / y_test)) * 100))"
   ]
  },
  {
   "cell_type": "markdown",
   "metadata": {},
   "source": [
    "Same thing goes for ElasticNet Regression"
   ]
  },
  {
   "cell_type": "markdown",
   "metadata": {},
   "source": [
    "# Cross Validation"
   ]
  },
  {
   "cell_type": "code",
   "execution_count": 188,
   "metadata": {},
   "outputs": [
    {
     "name": "stdout",
     "output_type": "stream",
     "text": [
      "\n",
      "Coefficients: \n",
      " [  273.18463138   -55.20304422   674.61643227   289.92547944\n",
      "     2.60726727    87.51578935 -1112.52522885    54.64153725]\n",
      "\n",
      "Intercept: \n",
      " -57135.93163962744\n"
     ]
    }
   ],
   "source": [
    "# Recall our 1st model\n",
    "Y = numerical_columns_df['price']\n",
    "\n",
    "X = numerical_columns_df[['symboling', 'carlength', 'carwidth', 'carheight','curbweight','enginesize','boreratio','horsepower']]\n",
    "\n",
    "lrm = linear_model.LinearRegression()\n",
    "\n",
    "lrm.fit(X, Y)\n",
    "\n",
    "\n",
    "print('\\nCoefficients: \\n', lrm.coef_)\n",
    "print('\\nIntercept: \\n', lrm.intercept_)"
   ]
  },
  {
   "cell_type": "markdown",
   "metadata": {},
   "source": [
    "**K-Fold Cross Validation**"
   ]
  },
  {
   "cell_type": "code",
   "execution_count": 189,
   "metadata": {},
   "outputs": [],
   "source": [
    "from sklearn.model_selection import KFold\n",
    "\n",
    "kf = KFold(n_splits=7, shuffle=True, random_state=1111)"
   ]
  },
  {
   "cell_type": "code",
   "execution_count": 190,
   "metadata": {},
   "outputs": [
    {
     "name": "stdout",
     "output_type": "stream",
     "text": [
      "No.1 Train set size : 175\n",
      "No.1 Test set size     : 30\n",
      "---------------------------- \n",
      "\n",
      "No.2 Train set size : 175\n",
      "No.2 Test set size     : 30\n",
      "---------------------------- \n",
      "\n",
      "No.3 Train set size : 176\n",
      "No.3 Test set size     : 29\n",
      "---------------------------- \n",
      "\n",
      "No.4 Train set size : 176\n",
      "No.4 Test set size     : 29\n",
      "---------------------------- \n",
      "\n",
      "No.5 Train set size : 176\n",
      "No.5 Test set size     : 29\n",
      "---------------------------- \n",
      "\n",
      "No.6 Train set size : 176\n",
      "No.6 Test set size     : 29\n",
      "---------------------------- \n",
      "\n",
      "No.7 Train set size : 176\n",
      "No.7 Test set size     : 29\n",
      "---------------------------- \n",
      "\n"
     ]
    }
   ],
   "source": [
    "pieces = kf.split(X)\n",
    "\n",
    "for num, (train_index, test_index) in enumerate(pieces):\n",
    "    print(\"No.{} Train set size : {}\".format(num+1,len(train_index)))\n",
    "    print(\"No.{} Test set size     : {}\".format(num+1,len(test_index)))\n",
    "    print('-'*28, \"\\n\")"
   ]
  },
  {
   "cell_type": "code",
   "execution_count": 191,
   "metadata": {},
   "outputs": [
    {
     "name": "stdout",
     "output_type": "stream",
     "text": [
      "Piece No.1 score: 0.523\n",
      "----------------------- \n",
      "\n",
      "Piece No.2 score: 0.778\n",
      "----------------------- \n",
      "\n",
      "Piece No.3 score: 0.828\n",
      "----------------------- \n",
      "\n",
      "Piece No.4 score: 0.838\n",
      "----------------------- \n",
      "\n",
      "Piece No.5 score: 0.878\n",
      "----------------------- \n",
      "\n",
      "Piece No.6 score: 0.846\n",
      "----------------------- \n",
      "\n",
      "Piece No.7 score: 0.681\n",
      "----------------------- \n",
      "\n"
     ]
    }
   ],
   "source": [
    "from sklearn.metrics import mean_squared_error\n",
    "\n",
    "pieces = kf.split(X)\n",
    "score_list = []\n",
    "\n",
    "for i, (train_indeks, test_indeks) in enumerate(pieces):\n",
    "    X_train, y_train = X.loc[train_indeks], Y[train_indeks]\n",
    "    X_test, y_test = X.loc[test_indeks], Y[test_indeks]\n",
    "    \n",
    "    lrm.fit(X_train, y_train)\n",
    "    \n",
    "    prediction = lrm.predict(X_test)\n",
    "    \n",
    "    score = lrm.score(X_test, y_test)  \n",
    "    score_list.append(score)\n",
    "    \n",
    "    print(\"Piece No.{} score: {:.3f}\".format(i+1, score))\n",
    "    print(\"-\"*23, \"\\n\")"
   ]
  },
  {
   "cell_type": "markdown",
   "metadata": {},
   "source": [
    "5th splitting worked best, whereas the result of the first splitting were the worse."
   ]
  },
  {
   "cell_type": "code",
   "execution_count": 192,
   "metadata": {},
   "outputs": [
    {
     "name": "stdout",
     "output_type": "stream",
     "text": [
      "Mean score : 0.77\n"
     ]
    }
   ],
   "source": [
    "print(\"Mean score : {:.2f}\".format(np.mean(score_list)))"
   ]
  },
  {
   "cell_type": "markdown",
   "metadata": {},
   "source": [
    "**Cross Validation with cross_val_score() and cross_validate()**"
   ]
  },
  {
   "cell_type": "code",
   "execution_count": 193,
   "metadata": {},
   "outputs": [
    {
     "name": "stdout",
     "output_type": "stream",
     "text": [
      "Train Scores :\n",
      "[0.84013318 0.81632875 0.79570411 0.8528583  0.8361994  0.82697\n",
      " 0.83673603]\n",
      "--------------------------------------------------\n",
      "Test Scores     :\n",
      "[ 0.71516272  0.80585952  0.79941066  0.05603649  0.68025215 -0.19176997\n",
      "  0.51444149]\n"
     ]
    }
   ],
   "source": [
    "from sklearn.model_selection import cross_validate, cross_val_score\n",
    "cv = cross_validate(estimator=lrm,\n",
    "                    X=X,\n",
    "                    y=Y,\n",
    "                    cv=7,\n",
    "                    return_train_score=True,\n",
    "                   )\n",
    "\n",
    "print('Train Scores :', cv['train_score'], sep = '\\n')\n",
    "print(\"-\"*50)\n",
    "print('Test Scores     :', cv['test_score'], sep = '\\n')"
   ]
  },
  {
   "cell_type": "markdown",
   "metadata": {},
   "source": [
    "**There are some over-fitting splittings, however, our general model did not perform that way.**"
   ]
  },
  {
   "cell_type": "code",
   "execution_count": 194,
   "metadata": {},
   "outputs": [
    {
     "name": "stdout",
     "output_type": "stream",
     "text": [
      "Mean score of train set :  0.8292756837131235\n",
      "Mean score of test set  :  0.4827704357027674\n"
     ]
    }
   ],
   "source": [
    "print('Mean score of train set : ', cv['train_score'].mean())\n",
    "print('Mean score of test set  : ', cv['test_score'].mean())"
   ]
  },
  {
   "cell_type": "markdown",
   "metadata": {},
   "source": [
    "Test scores were poor since one of the test resulted negatively. However, the other tests were sufficient enough and they weren't overfitting."
   ]
  },
  {
   "cell_type": "markdown",
   "metadata": {},
   "source": [
    "# Hyperparameter Tuning"
   ]
  },
  {
   "cell_type": "markdown",
   "metadata": {},
   "source": [
    "**Grid Search**"
   ]
  },
  {
   "cell_type": "code",
   "execution_count": 195,
   "metadata": {},
   "outputs": [
    {
     "data": {
      "text/plain": [
       "dict_keys(['copy_X', 'fit_intercept', 'n_jobs', 'normalize'])"
      ]
     },
     "execution_count": 195,
     "metadata": {},
     "output_type": "execute_result"
    }
   ],
   "source": [
    "from sklearn.model_selection import GridSearchCV\n",
    "\n",
    "lrm.get_params().keys()"
   ]
  },
  {
   "cell_type": "code",
   "execution_count": 196,
   "metadata": {},
   "outputs": [],
   "source": [
    "y = numerical_columns_df['price']\n",
    "X = numerical_columns_df[['symboling', 'carlength', 'carwidth', 'carheight','curbweight','enginesize','boreratio','horsepower']]\n",
    "# define model\n",
    "model = linear_model.LinearRegression()"
   ]
  },
  {
   "cell_type": "code",
   "execution_count": 197,
   "metadata": {},
   "outputs": [
    {
     "name": "stdout",
     "output_type": "stream",
     "text": [
      "r2 / variance :  0.7550890661598988\n",
      "Residual sum of squares: 15729928.07\n"
     ]
    }
   ],
   "source": [
    "X_train, X_test, y_train, y_test = train_test_split(X, Y, test_size = 0.155, random_state = 42)\n",
    "\n",
    "parameters = {'fit_intercept':[True,False], 'normalize':[True,False], 'copy_X':[True, False]}\n",
    "grid = GridSearchCV(model,parameters, cv=7)\n",
    "grid.fit(X_train, y_train)\n",
    "print (\"r2 / variance : \", grid.best_score_)\n",
    "print(\"Residual sum of squares: %.2f\"\n",
    "              % np.mean((grid.predict(X_test) - y_test) ** 2))"
   ]
  },
  {
   "cell_type": "markdown",
   "metadata": {},
   "source": [
    "# Recall Our Model & Do Some KNN"
   ]
  },
  {
   "cell_type": "code",
   "execution_count": 200,
   "metadata": {},
   "outputs": [
    {
     "data": {
      "image/png": "[encoded data removed]",
      "text/plain": [
       "<Figure size 432x288 with 1 Axes>"
      ]
     },
     "metadata": {
      "needs_background": "light"
     },
     "output_type": "display_data"
    }
   ],
   "source": [
    "from sklearn import neighbors\n",
    "\n",
    "# Build our model with enginesize only.\n",
    "knn = neighbors.KNeighborsRegressor(n_neighbors=10)\n",
    "X = numerical_columns_df[['enginesize']]\n",
    "Y = numerical_columns_df['price']\n",
    "knn.fit(X, Y)\n",
    "# Set up our prediction line.\n",
    "T = np.arange(50, 350, 1)[:, np.newaxis]\n",
    "\n",
    "# Trailing underscores are a common convention for a prediction.\n",
    "Y_ = knn.predict(T)\n",
    "\n",
    "plt.scatter(X, Y, c='k', label='data')\n",
    "plt.plot(T, Y_, c='g', label='prediction')\n",
    "plt.legend()\n",
    "plt.title('K=10, Unweighted')\n",
    "plt.show()"
   ]
  },
  {
   "cell_type": "markdown",
   "metadata": {},
   "source": [
    "So as the number of neighbors decreases, our model becomes more over-fitting, and vice versa."
   ]
  },
  {
   "cell_type": "code",
   "execution_count": 201,
   "metadata": {},
   "outputs": [
    {
     "data": {
      "image/png": "[encoded data removed]",
      "text/plain": [
       "<Figure size 432x288 with 1 Axes>"
      ]
     },
     "metadata": {
      "needs_background": "light"
     },
     "output_type": "display_data"
    }
   ],
   "source": [
    "# Run the same model, this time with weights.\n",
    "knn_w = neighbors.KNeighborsRegressor(n_neighbors=10, weights='distance')\n",
    "X = numerical_columns_df[['enginesize']]\n",
    "Y = numerical_columns_df['price']\n",
    "knn_w.fit(X, Y)\n",
    "\n",
    "# Set up our prediction line.\n",
    "T = np.arange(50, 350, 0.1)[:, np.newaxis]\n",
    "\n",
    "Y_ = knn_w.predict(T)\n",
    "\n",
    "plt.scatter(X, Y, c='k', label='data')\n",
    "plt.plot(T, Y_, c='g', label='prediction')\n",
    "plt.legend()\n",
    "plt.title('K=10, Weighted')\n",
    "plt.show()"
   ]
  },
  {
   "cell_type": "code",
   "execution_count": 202,
   "metadata": {},
   "outputs": [
    {
     "name": "stdout",
     "output_type": "stream",
     "text": [
      "Unweighted Accuracy: 0.52 (+/- 0.56)\n",
      "Weighted Accuracy: 0.38 (+/- 0.72)\n"
     ]
    }
   ],
   "source": [
    "# Validating KNN for 10 neighbors\n",
    "from sklearn.model_selection import cross_val_score\n",
    "score = cross_val_score(knn, X, Y, cv=5)\n",
    "print(\"Unweighted Accuracy: %0.2f (+/- %0.2f)\" % (score.mean(), score.std() * 2))\n",
    "score_w = cross_val_score(knn_w, X, Y, cv=5)\n",
    "print(\"Weighted Accuracy: %0.2f (+/- %0.2f)\" % (score_w.mean(), score_w.std() * 2))"
   ]
  },
  {
   "cell_type": "code",
   "execution_count": 203,
   "metadata": {},
   "outputs": [
    {
     "data": {
      "image/png": "[encoded data removed]",
      "text/plain": [
       "<Figure size 432x288 with 1 Axes>"
      ]
     },
     "metadata": {
      "needs_background": "light"
     },
     "output_type": "display_data"
    }
   ],
   "source": [
    "# Build our model with enginesize only but different number of neighbors\n",
    "knn = neighbors.KNeighborsRegressor(n_neighbors=3)\n",
    "X = numerical_columns_df[['enginesize']]\n",
    "Y = numerical_columns_df['price']\n",
    "knn.fit(X, Y)\n",
    "# Set up our prediction line.\n",
    "T = np.arange(50, 350, 1)[:, np.newaxis]\n",
    "\n",
    "# Trailing underscores are a common convention for a prediction.\n",
    "Y_ = knn.predict(T)\n",
    "\n",
    "plt.scatter(X, Y, c='k', label='data')\n",
    "plt.plot(T, Y_, c='g', label='prediction')\n",
    "plt.legend()\n",
    "plt.title('K=3, Unweighted')\n",
    "plt.show()"
   ]
  },
  {
   "cell_type": "code",
   "execution_count": 204,
   "metadata": {},
   "outputs": [
    {
     "data": {
      "image/png": "[encoded data removed]",
      "text/plain": [
       "<Figure size 432x288 with 1 Axes>"
      ]
     },
     "metadata": {
      "needs_background": "light"
     },
     "output_type": "display_data"
    }
   ],
   "source": [
    "# Run the same model, this time with weights.\n",
    "knn_w = neighbors.KNeighborsRegressor(n_neighbors=3, weights='distance')\n",
    "X = numerical_columns_df[['enginesize']]\n",
    "Y = numerical_columns_df['price']\n",
    "knn_w.fit(X, Y)\n",
    "\n",
    "# Set up our prediction line.\n",
    "T = np.arange(50, 350, 0.1)[:, np.newaxis]\n",
    "\n",
    "Y_ = knn_w.predict(T)\n",
    "\n",
    "plt.scatter(X, Y, c='k', label='data')\n",
    "plt.plot(T, Y_, c='g', label='prediction')\n",
    "plt.legend()\n",
    "plt.title('K=3, Weighted')\n",
    "plt.show()"
   ]
  },
  {
   "cell_type": "code",
   "execution_count": 205,
   "metadata": {},
   "outputs": [
    {
     "name": "stdout",
     "output_type": "stream",
     "text": [
      "Unweighted Accuracy: 0.25 (+/- 1.18)\n",
      "Weighted Accuracy: 0.24 (+/- 1.08)\n"
     ]
    }
   ],
   "source": [
    "# Validating KNN for 3 neighbors\n",
    "from sklearn.model_selection import cross_val_score\n",
    "score = cross_val_score(knn, X, Y, cv=5)\n",
    "print(\"Unweighted Accuracy: %0.2f (+/- %0.2f)\" % (score.mean(), score.std() * 2))\n",
    "score_w = cross_val_score(knn_w, X, Y, cv=5)\n",
    "print(\"Weighted Accuracy: %0.2f (+/- %0.2f)\" % (score_w.mean(), score_w.std() * 2))"
   ]
  },
  {
   "cell_type": "markdown",
   "metadata": {},
   "source": [
    "As the number of neighbors decreases, values got worsened."
   ]
  },
  {
   "cell_type": "code",
   "execution_count": 206,
   "metadata": {},
   "outputs": [
    {
     "data": {
      "image/png": "[encoded data removed]",
      "text/plain": [
       "<Figure size 432x288 with 1 Axes>"
      ]
     },
     "metadata": {
      "needs_background": "light"
     },
     "output_type": "display_data"
    }
   ],
   "source": [
    "# Build our model with enginesize only.\n",
    "knn = neighbors.KNeighborsRegressor(n_neighbors=20)\n",
    "X = numerical_columns_df[['enginesize']]\n",
    "Y = numerical_columns_df['price']\n",
    "knn.fit(X, Y)\n",
    "# Set up our prediction line.\n",
    "T = np.arange(50, 350, 1)[:, np.newaxis]\n",
    "\n",
    "# Trailing underscores are a common convention for a prediction.\n",
    "Y_ = knn.predict(T)\n",
    "\n",
    "plt.scatter(X, Y, c='k', label='data')\n",
    "plt.plot(T, Y_, c='g', label='prediction')\n",
    "plt.legend()\n",
    "plt.title('K=20, Unweighted')\n",
    "plt.show()"
   ]
  },
  {
   "cell_type": "code",
   "execution_count": 207,
   "metadata": {},
   "outputs": [
    {
     "data": {
      "image/png": "[encoded data removed]",
      "text/plain": [
       "<Figure size 432x288 with 1 Axes>"
      ]
     },
     "metadata": {
      "needs_background": "light"
     },
     "output_type": "display_data"
    }
   ],
   "source": [
    "# Run the same model, this time with weights.\n",
    "knn_w = neighbors.KNeighborsRegressor(n_neighbors=20, weights='distance')\n",
    "X = numerical_columns_df[['enginesize']]\n",
    "Y = numerical_columns_df['price']\n",
    "knn_w.fit(X, Y)\n",
    "\n",
    "# Set up our prediction line.\n",
    "T = np.arange(50, 350, 0.1)[:, np.newaxis]\n",
    "\n",
    "Y_ = knn_w.predict(T)\n",
    "\n",
    "plt.scatter(X, Y, c='k', label='data')\n",
    "plt.plot(T, Y_, c='g', label='prediction')\n",
    "plt.legend()\n",
    "plt.title('K=20, Weighted')\n",
    "plt.show()"
   ]
  },
  {
   "cell_type": "code",
   "execution_count": 208,
   "metadata": {},
   "outputs": [
    {
     "name": "stdout",
     "output_type": "stream",
     "text": [
      "Unweighted Accuracy: 0.49 (+/- 0.46)\n",
      "Weighted Accuracy: 0.38 (+/- 0.61)\n"
     ]
    }
   ],
   "source": [
    "# Validating KNN for 20 neighbors\n",
    "from sklearn.model_selection import cross_val_score\n",
    "score = cross_val_score(knn, X, Y, cv=5)\n",
    "print(\"Unweighted Accuracy: %0.2f (+/- %0.2f)\" % (score.mean(), score.std() * 2))\n",
    "score_w = cross_val_score(knn_w, X, Y, cv=5)\n",
    "print(\"Weighted Accuracy: %0.2f (+/- %0.2f)\" % (score_w.mean(), score_w.std() * 2))"
   ]
  },
  {
   "cell_type": "markdown",
   "metadata": {},
   "source": [
    "Values got worsened for that case, too."
   ]
  },
  {
   "cell_type": "code",
   "execution_count": 209,
   "metadata": {},
   "outputs": [
    {
     "data": {
      "image/png": "[encoded data removed]",
      "text/plain": [
       "<Figure size 432x288 with 1 Axes>"
      ]
     },
     "metadata": {
      "needs_background": "light"
     },
     "output_type": "display_data"
    }
   ],
   "source": [
    "# Build our model with carwidth only.\n",
    "knn = neighbors.KNeighborsRegressor(n_neighbors=10)\n",
    "X = numerical_columns_df[['carwidth']]\n",
    "Y = numerical_columns_df['price']\n",
    "knn.fit(X, Y)\n",
    "\n",
    "# Set up our prediction line.\n",
    "T = np.arange(60, 75, 0.05)[:, np.newaxis]\n",
    "\n",
    "# Trailing underscores are a common convention for a prediction.\n",
    "Y_ = knn.predict(T)\n",
    "\n",
    "plt.scatter(X, Y, c='k', label='data')\n",
    "plt.plot(T, Y_, c='g', label='prediction')\n",
    "plt.legend()\n",
    "plt.title('K=10, Unweighted')\n",
    "plt.show()"
   ]
  },
  {
   "cell_type": "code",
   "execution_count": null,
   "metadata": {},
   "outputs": [],
   "source": []
  },
  {
   "cell_type": "code",
   "execution_count": 210,
   "metadata": {},
   "outputs": [
    {
     "data": {
      "image/png": "[encoded data removed]",
      "text/plain": [
       "<Figure size 432x288 with 1 Axes>"
      ]
     },
     "metadata": {
      "needs_background": "light"
     },
     "output_type": "display_data"
    }
   ],
   "source": [
    "\n",
    "# Build our model with horsepower only.\n",
    "knn = neighbors.KNeighborsRegressor(n_neighbors=10)\n",
    "X = numerical_columns_df[['horsepower']]\n",
    "Y = numerical_columns_df['price']\n",
    "knn.fit(X, Y)\n",
    "\n",
    "# Set up our prediction line.\n",
    "T = np.arange(30, 350, 1)[:, np.newaxis]\n",
    "\n",
    "# Trailing underscores are a common convention for a prediction.\n",
    "Y_ = knn.predict(T)\n",
    "\n",
    "plt.scatter(X, Y, c='k', label='data')\n",
    "plt.plot(T, Y_, c='g', label='prediction')\n",
    "plt.legend()\n",
    "plt.title('K=10, Unweighted')\n",
    "plt.show()"
   ]
  },
  {
   "cell_type": "markdown",
   "metadata": {},
   "source": [
    "# Decision Tree"
   ]
  },
  {
   "cell_type": "code",
   "execution_count": 226,
   "metadata": {},
   "outputs": [],
   "source": [
    "from sklearn.tree import DecisionTreeRegressor\n",
    "\n",
    "Y = numerical_columns_df['price']\n",
    "\n",
    "X = numerical_columns_df[['symboling', 'carlength', 'carwidth', 'carheight','curbweight','enginesize','boreratio','horsepower']]\n",
    "\n",
    "lrm = linear_model.LinearRegression()\n",
    "\n",
    "lrm.fit(X, Y)\n",
    "\n",
    "X_train, X_test, y_train, y_test = train_test_split(X, Y, test_size = 0.155, random_state = 42)\n"
   ]
  },
  {
   "cell_type": "code",
   "execution_count": 227,
   "metadata": {},
   "outputs": [
    {
     "data": {
      "text/plain": [
       "DecisionTreeRegressor(max_depth=4)"
      ]
     },
     "execution_count": 227,
     "metadata": {},
     "output_type": "execute_result"
    }
   ],
   "source": [
    "dt_reg = DecisionTreeRegressor(max_depth=4)\n",
    "dt_reg.fit(X_train, y_train)"
   ]
  },
  {
   "cell_type": "code",
   "execution_count": 228,
   "metadata": {},
   "outputs": [
    {
     "name": "stdout",
     "output_type": "stream",
     "text": [
      "RMSE value of Decision Tree : 2528.55\n"
     ]
    }
   ],
   "source": [
    "from sklearn.metrics import mean_squared_error as MSE\n",
    "y_predict = dt_reg.predict(X_test)\n",
    "mse_dt = MSE(y_predict, y_test)\n",
    "rmse_ka = mse_dt**(1/2)\n",
    "\n",
    "# Print rmse_dt\n",
    "print(\"RMSE value of Decision Tree : {:.2f}\".format(rmse_ka))"
   ]
  },
  {
   "cell_type": "code",
   "execution_count": 230,
   "metadata": {},
   "outputs": [
    {
     "data": {
      "text/plain": [
       "DecisionTreeRegressor(max_depth=10)"
      ]
     },
     "execution_count": 230,
     "metadata": {},
     "output_type": "execute_result"
    }
   ],
   "source": [
    "dt_reg = DecisionTreeRegressor(max_depth=10)\n",
    "dt_reg.fit(X_train, y_train)"
   ]
  },
  {
   "cell_type": "code",
   "execution_count": 231,
   "metadata": {},
   "outputs": [
    {
     "name": "stdout",
     "output_type": "stream",
     "text": [
      "RMSE value of Decision Tree : 2677.50\n"
     ]
    }
   ],
   "source": [
    "y_predict = dt_reg.predict(X_test)\n",
    "mse_dt = MSE(y_predict, y_test)\n",
    "rmse_ka = mse_dt**(1/2)\n",
    "\n",
    "# Print rmse_dt\n",
    "print(\"RMSE value of Decision Tree : {:.2f}\".format(rmse_ka))"
   ]
  },
  {
   "cell_type": "markdown",
   "metadata": {},
   "source": [
    "Larger depth did not increase our RMSE value."
   ]
  },
  {
   "cell_type": "markdown",
   "metadata": {},
   "source": [
    "# Random Forest"
   ]
  },
  {
   "cell_type": "code",
   "execution_count": 232,
   "metadata": {},
   "outputs": [
    {
     "data": {
      "text/plain": [
       "RandomForestRegressor(n_estimators=25, random_state=2)"
      ]
     },
     "execution_count": 232,
     "metadata": {},
     "output_type": "execute_result"
    }
   ],
   "source": [
    "from sklearn.ensemble import RandomForestRegressor\n",
    "random_forest = RandomForestRegressor(n_estimators=25, random_state=2)\n",
    "random_forest.fit(X_train, y_train) "
   ]
  },
  {
   "cell_type": "code",
   "execution_count": 233,
   "metadata": {},
   "outputs": [
    {
     "name": "stdout",
     "output_type": "stream",
     "text": [
      "RMSE value (Random Forest): 2207.83\n"
     ]
    }
   ],
   "source": [
    "y_prediction = random_forest.predict(X_test)\n",
    "rmse_test = MSE(y_test, y_prediction)**(1/2)\n",
    "print(\"RMSE value (Random Forest): {:.2f}\".format(rmse_test))"
   ]
  },
  {
   "cell_type": "markdown",
   "metadata": {},
   "source": [
    "RMSE value of the Random Forest is strictly less than the RMSE value of the Decision Tree."
   ]
  },
  {
   "cell_type": "code",
   "execution_count": 234,
   "metadata": {},
   "outputs": [
    {
     "data": {
      "image/png": "[encoded data removed]",
      "text/plain": [
       "<Figure size 432x288 with 1 Axes>"
      ]
     },
     "metadata": {
      "needs_background": "light"
     },
     "output_type": "display_data"
    }
   ],
   "source": [
    "importance_level = pd.Series(data=random_forest.feature_importances_,\n",
    "                        index= X_train.columns)\n",
    "\n",
    "importance_level_sorted = importance_level.sort_values()\n",
    "\n",
    "importance_level_sorted.plot(kind='barh', color='darkred')\n",
    "plt.title('Importance Level of the Features')\n",
    "plt.show()"
   ]
  },
  {
   "cell_type": "markdown",
   "metadata": {},
   "source": [
    "Random Forest with lesser (15) estimators;"
   ]
  },
  {
   "cell_type": "code",
   "execution_count": 235,
   "metadata": {},
   "outputs": [
    {
     "data": {
      "text/plain": [
       "RandomForestRegressor(n_estimators=15, random_state=2)"
      ]
     },
     "execution_count": 235,
     "metadata": {},
     "output_type": "execute_result"
    }
   ],
   "source": [
    "random_forest = RandomForestRegressor(n_estimators=15, random_state=2)\n",
    "random_forest.fit(X_train, y_train) "
   ]
  },
  {
   "cell_type": "code",
   "execution_count": 236,
   "metadata": {},
   "outputs": [
    {
     "name": "stdout",
     "output_type": "stream",
     "text": [
      "RMSE value (Random Forest): 2177.41\n"
     ]
    }
   ],
   "source": [
    "y_prediction = random_forest.predict(X_test)\n",
    "rmse_test = MSE(y_test, y_prediction)**(1/2)\n",
    "print(\"RMSE value (Random Forest): {:.2f}\".format(rmse_test))"
   ]
  },
  {
   "cell_type": "code",
   "execution_count": 237,
   "metadata": {},
   "outputs": [
    {
     "data": {
      "image/png": "[encoded data removed]",
      "text/plain": [
       "<Figure size 432x288 with 1 Axes>"
      ]
     },
     "metadata": {
      "needs_background": "light"
     },
     "output_type": "display_data"
    }
   ],
   "source": [
    "importance_level = pd.Series(data=random_forest.feature_importances_,\n",
    "                        index= X_train.columns)\n",
    "\n",
    "importance_level_sorted = importance_level.sort_values()\n",
    "\n",
    "importance_level_sorted.plot(kind='barh', color='darkred')\n",
    "plt.title('Importance Level of the Features')\n",
    "plt.show()"
   ]
  },
  {
   "cell_type": "markdown",
   "metadata": {},
   "source": [
    "Our most important feature is enginesize, followed by curbweight."
   ]
  },
  {
   "cell_type": "markdown",
   "metadata": {},
   "source": [
    "Random Forest with lesser (10) estimators;"
   ]
  },
  {
   "cell_type": "code",
   "execution_count": 238,
   "metadata": {},
   "outputs": [
    {
     "name": "stdout",
     "output_type": "stream",
     "text": [
      "RMSE value (Random Forest): 2299.87\n"
     ]
    }
   ],
   "source": [
    "random_forest = RandomForestRegressor(n_estimators=10, random_state=2)\n",
    "random_forest.fit(X_train, y_train)\n",
    "\n",
    "y_prediction = random_forest.predict(X_test)\n",
    "rmse_test = MSE(y_test, y_prediction)**(1/2)\n",
    "print(\"RMSE value (Random Forest): {:.2f}\".format(rmse_test))"
   ]
  },
  {
   "cell_type": "markdown",
   "metadata": {},
   "source": [
    "RMSE value has increased."
   ]
  },
  {
   "cell_type": "code",
   "execution_count": 239,
   "metadata": {},
   "outputs": [
    {
     "data": {
      "image/png": "[encoded data removed]",
      "text/plain": [
       "<Figure size 432x288 with 1 Axes>"
      ]
     },
     "metadata": {
      "needs_background": "light"
     },
     "output_type": "display_data"
    }
   ],
   "source": [
    "importance_level = pd.Series(data=random_forest.feature_importances_,\n",
    "                        index= X_train.columns)\n",
    "\n",
    "importance_level_sorted = importance_level.sort_values()\n",
    "\n",
    "importance_level_sorted.plot(kind='barh', color='darkred')\n",
    "plt.title('Importance Level of the Features')\n",
    "plt.show()"
   ]
  },
  {
   "cell_type": "markdown",
   "metadata": {},
   "source": [
    "The most important features do not change."
   ]
  },
  {
   "cell_type": "markdown",
   "metadata": {},
   "source": [
    "# Creating another linear reg. model with only these two features"
   ]
  },
  {
   "cell_type": "code",
   "execution_count": 240,
   "metadata": {},
   "outputs": [
    {
     "name": "stdout",
     "output_type": "stream",
     "text": [
      "\n",
      "Coefficients: \n",
      " [  5.09213056 113.54147405]\n",
      "\n",
      "Intercept: \n",
      " -14145.80824926162\n"
     ]
    }
   ],
   "source": [
    "Y = numerical_columns_df['price']\n",
    "\n",
    "X = numerical_columns_df[['curbweight','enginesize']]\n",
    "\n",
    "lrm = linear_model.LinearRegression()\n",
    "\n",
    "lrm.fit(X, Y)\n",
    "\n",
    "print('\\nCoefficients: \\n', lrm.coef_)\n",
    "print('\\nIntercept: \\n', lrm.intercept_)"
   ]
  },
  {
   "cell_type": "code",
   "execution_count": 241,
   "metadata": {},
   "outputs": [
    {
     "data": {
      "text/html": [
       "<table class=\"simpletable\">\n",
       "<caption>OLS Regression Results</caption>\n",
       "<tr>\n",
       "  <th>Dep. Variable:</th>          <td>price</td>      <th>  R-squared:         </th> <td>   0.795</td>\n",
       "</tr>\n",
       "<tr>\n",
       "  <th>Model:</th>                   <td>OLS</td>       <th>  Adj. R-squared:    </th> <td>   0.793</td>\n",
       "</tr>\n",
       "<tr>\n",
       "  <th>Method:</th>             <td>Least Squares</td>  <th>  F-statistic:       </th> <td>   390.7</td>\n",
       "</tr>\n",
       "<tr>\n",
       "  <th>Date:</th>             <td>Tue, 28 Dec 2021</td> <th>  Prob (F-statistic):</th> <td>3.77e-70</td>\n",
       "</tr>\n",
       "<tr>\n",
       "  <th>Time:</th>                 <td>19:06:27</td>     <th>  Log-Likelihood:    </th> <td> -1970.2</td>\n",
       "</tr>\n",
       "<tr>\n",
       "  <th>No. Observations:</th>      <td>   205</td>      <th>  AIC:               </th> <td>   3946.</td>\n",
       "</tr>\n",
       "<tr>\n",
       "  <th>Df Residuals:</th>          <td>   202</td>      <th>  BIC:               </th> <td>   3956.</td>\n",
       "</tr>\n",
       "<tr>\n",
       "  <th>Df Model:</th>              <td>     2</td>      <th>                     </th>     <td> </td>   \n",
       "</tr>\n",
       "<tr>\n",
       "  <th>Covariance Type:</th>      <td>nonrobust</td>    <th>                     </th>     <td> </td>   \n",
       "</tr>\n",
       "</table>\n",
       "<table class=\"simpletable\">\n",
       "<tr>\n",
       "       <td></td>         <th>coef</th>     <th>std err</th>      <th>t</th>      <th>P>|t|</th>  <th>[0.025</th>    <th>0.975]</th>  \n",
       "</tr>\n",
       "<tr>\n",
       "  <th>const</th>      <td>-1.415e+04</td> <td> 1387.924</td> <td>  -10.192</td> <td> 0.000</td> <td>-1.69e+04</td> <td>-1.14e+04</td>\n",
       "</tr>\n",
       "<tr>\n",
       "  <th>curbweight</th> <td>    5.0921</td> <td>    0.930</td> <td>    5.472</td> <td> 0.000</td> <td>    3.257</td> <td>    6.927</td>\n",
       "</tr>\n",
       "<tr>\n",
       "  <th>enginesize</th> <td>  113.5415</td> <td>   11.635</td> <td>    9.759</td> <td> 0.000</td> <td>   90.601</td> <td>  136.482</td>\n",
       "</tr>\n",
       "</table>\n",
       "<table class=\"simpletable\">\n",
       "<tr>\n",
       "  <th>Omnibus:</th>       <td>38.837</td> <th>  Durbin-Watson:     </th> <td>   0.689</td>\n",
       "</tr>\n",
       "<tr>\n",
       "  <th>Prob(Omnibus):</th> <td> 0.000</td> <th>  Jarque-Bera (JB):  </th> <td>  86.341</td>\n",
       "</tr>\n",
       "<tr>\n",
       "  <th>Skew:</th>          <td> 0.871</td> <th>  Prob(JB):          </th> <td>1.78e-19</td>\n",
       "</tr>\n",
       "<tr>\n",
       "  <th>Kurtosis:</th>      <td> 5.659</td> <th>  Cond. No.          </th> <td>1.43e+04</td>\n",
       "</tr>\n",
       "</table><br/><br/>Notes:<br/>[1] Standard Errors assume that the covariance matrix of the errors is correctly specified.<br/>[2] The condition number is large, 1.43e+04. This might indicate that there are<br/>strong multicollinearity or other numerical problems."
      ],
      "text/plain": [
       "<class 'statsmodels.iolib.summary.Summary'>\n",
       "\"\"\"\n",
       "                            OLS Regression Results                            \n",
       "==============================================================================\n",
       "Dep. Variable:                  price   R-squared:                       0.795\n",
       "Model:                            OLS   Adj. R-squared:                  0.793\n",
       "Method:                 Least Squares   F-statistic:                     390.7\n",
       "Date:                Tue, 28 Dec 2021   Prob (F-statistic):           3.77e-70\n",
       "Time:                        19:06:27   Log-Likelihood:                -1970.2\n",
       "No. Observations:                 205   AIC:                             3946.\n",
       "Df Residuals:                     202   BIC:                             3956.\n",
       "Df Model:                           2                                         \n",
       "Covariance Type:            nonrobust                                         \n",
       "==============================================================================\n",
       "                 coef    std err          t      P>|t|      [0.025      0.975]\n",
       "------------------------------------------------------------------------------\n",
       "const      -1.415e+04   1387.924    -10.192      0.000   -1.69e+04   -1.14e+04\n",
       "curbweight     5.0921      0.930      5.472      0.000       3.257       6.927\n",
       "enginesize   113.5415     11.635      9.759      0.000      90.601     136.482\n",
       "==============================================================================\n",
       "Omnibus:                       38.837   Durbin-Watson:                   0.689\n",
       "Prob(Omnibus):                  0.000   Jarque-Bera (JB):               86.341\n",
       "Skew:                           0.871   Prob(JB):                     1.78e-19\n",
       "Kurtosis:                       5.659   Cond. No.                     1.43e+04\n",
       "==============================================================================\n",
       "\n",
       "Notes:\n",
       "[1] Standard Errors assume that the covariance matrix of the errors is correctly specified.\n",
       "[2] The condition number is large, 1.43e+04. This might indicate that there are\n",
       "strong multicollinearity or other numerical problems.\n",
       "\"\"\""
      ]
     },
     "execution_count": 241,
     "metadata": {},
     "output_type": "execute_result"
    }
   ],
   "source": [
    "X = sm.add_constant(X)\n",
    "\n",
    "results = sm.OLS(Y, X).fit()\n",
    "\n",
    "results.summary()"
   ]
  },
  {
   "cell_type": "markdown",
   "metadata": {},
   "source": [
    "It didn't performed well as our previous 3 models."
   ]
  },
  {
   "cell_type": "code",
   "execution_count": 254,
   "metadata": {},
   "outputs": [
    {
     "name": "stdout",
     "output_type": "stream",
     "text": [
      "R-squared of the model in training set is: 0.8227541263288798\n",
      "-----Test set statistics-----\n",
      "R-squared of the model in test set is: 0.8226794243541878\n",
      "Mean absolute error of the prediction is: 2730.840491946561\n",
      "Mean squared error of the prediction is: 15638526.104743265\n",
      "Root mean squared error of the prediction is: 3954.5576370490876\n",
      "Mean absolute percentage error of the prediction is: 21.713258122769613\n"
     ]
    }
   ],
   "source": [
    "#Ridge Regression on this model\n",
    "\n",
    "ridgeregr = Ridge(alpha=10**2) \n",
    "ridgeregr.fit(X_train, y_train)\n",
    "\n",
    "# We are making predictions here\n",
    "y_preds_train = ridgeregr.predict(X_train)\n",
    "y_preds_test = ridgeregr.predict(X_test)\n",
    "\n",
    "print(\"R-squared of the model in training set is: {}\".format(ridgeregr.score(X_train, y_train)))\n",
    "print(\"-----Test set statistics-----\")\n",
    "print(\"R-squared of the model in test set is: {}\".format(ridgeregr.score(X_test, y_test)))\n",
    "print(\"Mean absolute error of the prediction is: {}\".format(mean_absolute_error(y_test, y_preds_test)))\n",
    "print(\"Mean squared error of the prediction is: {}\".format(mse(y_test, y_preds_test)))\n",
    "print(\"Root mean squared error of the prediction is: {}\".format(rmse(y_test, y_preds_test)))\n",
    "print(\"Mean absolute percentage error of the prediction is: {}\".format(np.mean(np.abs((y_test - y_preds_test) / y_test)) * 100))"
   ]
  },
  {
   "cell_type": "markdown",
   "metadata": {},
   "source": [
    "Ridge Regression improved the performance."
   ]
  },
  {
   "cell_type": "code",
   "execution_count": 253,
   "metadata": {},
   "outputs": [
    {
     "name": "stdout",
     "output_type": "stream",
     "text": [
      "R-squared of the model in training set is: 0.8239252064994056\n",
      "-----Test set statistics-----\n",
      "R-squared of the model in test set is: 0.8210206847969607\n",
      "Mean absolute error of the prediction is: 2734.2532721519156\n",
      "Mean squared error of the prediction is: 15784816.188520575\n",
      "Root mean squared error of the prediction is: 3973.0109726151745\n",
      "Mean absolute percentage error of the prediction is: 21.780158693700074\n"
     ]
    }
   ],
   "source": [
    "# Lasso Regression on this model\n",
    "\n",
    "lassoregr = Lasso(alpha=10**2) \n",
    "lassoregr.fit(X_train, y_train)\n",
    "\n",
    "# We are making predictions here\n",
    "y_preds_train = lassoregr.predict(X_train)\n",
    "y_preds_test = lassoregr.predict(X_test)\n",
    "\n",
    "print(\"R-squared of the model in training set is: {}\".format(lassoregr.score(X_train, y_train)))\n",
    "print(\"-----Test set statistics-----\")\n",
    "print(\"R-squared of the model in test set is: {}\".format(lassoregr.score(X_test, y_test)))\n",
    "print(\"Mean absolute error of the prediction is: {}\".format(mean_absolute_error(y_test, y_preds_test)))\n",
    "print(\"Mean squared error of the prediction is: {}\".format(mse(y_test, y_preds_test)))\n",
    "print(\"Root mean squared error of the prediction is: {}\".format(rmse(y_test, y_preds_test)))\n",
    "print(\"Mean absolute percentage error of the prediction is: {}\".format(np.mean(np.abs((y_test - y_preds_test) / y_test)) * 100))"
   ]
  },
  {
   "cell_type": "markdown",
   "metadata": {},
   "source": [
    "Scores are near to the Ridge Regression's"
   ]
  },
  {
   "cell_type": "markdown",
   "metadata": {},
   "source": [
    "# SVM"
   ]
  },
  {
   "cell_type": "code",
   "execution_count": 255,
   "metadata": {},
   "outputs": [],
   "source": [
    "#Recall our very basic model\n",
    "Y = numerical_columns_df['price']\n",
    "\n",
    "X = numerical_columns_df[['symboling', 'carlength', 'carwidth', 'carheight','curbweight','enginesize','boreratio','horsepower']]\n",
    "\n",
    "lrm = linear_model.LinearRegression()\n",
    "\n",
    "lrm.fit(X, Y)\n",
    "\n",
    "X_train, X_test, y_train, y_test = train_test_split(X, Y, test_size = 0.155, random_state = 42)\n"
   ]
  },
  {
   "cell_type": "code",
   "execution_count": 256,
   "metadata": {},
   "outputs": [
    {
     "name": "stdout",
     "output_type": "stream",
     "text": [
      " Value of RMSE (Kernel = linear): 4431.46\n"
     ]
    }
   ],
   "source": [
    "from sklearn.svm import SVR\n",
    "svr_reg = SVR(kernel='linear', C=1)\n",
    "svr_reg.fit(X_train, y_train)\n",
    "y_predict = svr_reg.predict(X_test)\n",
    "rmse_test = MSE(y_test, y_predict)**(1/2)\n",
    "print(\" Value of RMSE (Kernel = linear): {:.2f}\".format(rmse_test))"
   ]
  },
  {
   "cell_type": "code",
   "execution_count": 257,
   "metadata": {},
   "outputs": [],
   "source": [
    "# With our 3rd model\n",
    "Y = numerical_columns_df['price']\n",
    "\n",
    "X = numerical_columns_df[['carwidth','enginesize','horsepower']]\n",
    "\n",
    "lrm = linear_model.LinearRegression()\n",
    "\n",
    "lrm.fit(X, Y)\n",
    "\n",
    "X_train, X_test, y_train, y_test = train_test_split(X, Y, test_size = 0.155, random_state = 42)\n"
   ]
  },
  {
   "cell_type": "code",
   "execution_count": 258,
   "metadata": {},
   "outputs": [
    {
     "name": "stdout",
     "output_type": "stream",
     "text": [
      " Value of RMSE (Kernel = linear): 3996.95\n"
     ]
    }
   ],
   "source": [
    "svr_reg = SVR(kernel='linear', C=1)\n",
    "svr_reg.fit(X_train, y_train)\n",
    "y_predict = svr_reg.predict(X_test)\n",
    "rmse_test = MSE(y_test, y_predict)**(1/2)\n",
    "print(\" Value of RMSE (Kernel = linear): {:.2f}\".format(rmse_test))"
   ]
  },
  {
   "cell_type": "markdown",
   "metadata": {},
   "source": [
    "Our RMSE value has dropped with lesser features."
   ]
  },
  {
   "cell_type": "markdown",
   "metadata": {},
   "source": [
    "RMSE values with different kernels;"
   ]
  },
  {
   "cell_type": "code",
   "execution_count": 259,
   "metadata": {},
   "outputs": [
    {
     "name": "stdout",
     "output_type": "stream",
     "text": [
      " Value of RMSE (Kernel = poly): 4498.87\n"
     ]
    }
   ],
   "source": [
    "svr_reg = SVR(kernel='poly', C=1)\n",
    "svr_reg.fit(X_train, y_train)\n",
    "y_predict = svr_reg.predict(X_test)\n",
    "rmse_test = MSE(y_test, y_predict)**(1/2)\n",
    "print(\" Value of RMSE (Kernel = poly): {:.2f}\".format(rmse_test))"
   ]
  },
  {
   "cell_type": "code",
   "execution_count": 260,
   "metadata": {},
   "outputs": [
    {
     "name": "stdout",
     "output_type": "stream",
     "text": [
      " Value of RMSE (Kernel = sigmoid): 9825.33\n"
     ]
    }
   ],
   "source": [
    "svr_reg = SVR(kernel='sigmoid', C=1)\n",
    "svr_reg.fit(X_train, y_train)\n",
    "y_predict = svr_reg.predict(X_test)\n",
    "rmse_test = MSE(y_test, y_predict)**(1/2)\n",
    "print(\" Value of RMSE (Kernel = sigmoid): {:.2f}\".format(rmse_test))"
   ]
  },
  {
   "cell_type": "markdown",
   "metadata": {},
   "source": [
    "Since our target variable behaves as a linear function, linear kernel performed the best."
   ]
  },
  {
   "cell_type": "code",
   "execution_count": 261,
   "metadata": {},
   "outputs": [
    {
     "name": "stdout",
     "output_type": "stream",
     "text": [
      " Value of RMSE (Kernel = linear): 3996.95\n",
      " Value of RMSE (Kernel = linear): 3996.76\n",
      " Value of RMSE (Kernel = linear): 3996.58\n",
      " Value of RMSE (Kernel = linear): 3996.39\n",
      " Value of RMSE (Kernel = linear): 3996.20\n",
      " Value of RMSE (Kernel = linear): 3996.10\n"
     ]
    }
   ],
   "source": [
    "# Linear kernel with different Epsilon values;\n",
    "epsil = [0.1, 0.3, 0.5, 0.7, 0.9, 1]\n",
    "\n",
    "for eps in epsil:\n",
    "    Y = numerical_columns_df['price']\n",
    "    X = numerical_columns_df[['carwidth','enginesize','horsepower']]\n",
    "    lrm = linear_model.LinearRegression()\n",
    "    lrm.fit(X, Y)\n",
    "    X_train, X_test, y_train, y_test = train_test_split(X, Y, test_size = 0.155, random_state = 42)\n",
    "    \n",
    "    svr_reg = SVR(kernel='linear', C=1, epsilon=eps)\n",
    "    svr_reg.fit(X_train, y_train)\n",
    "    y_predict = svr_reg.predict(X_test)\n",
    "    rmse_test = MSE(y_test, y_predict)**(1/2)\n",
    "    print(\" Value of RMSE (Kernel = linear): {:.2f}\".format(rmse_test))"
   ]
  },
  {
   "cell_type": "markdown",
   "metadata": {},
   "source": [
    "Epsilon values didn't change our RMSE value that much. Maybe we can play with C values."
   ]
  },
  {
   "cell_type": "code",
   "execution_count": 262,
   "metadata": {},
   "outputs": [
    {
     "name": "stdout",
     "output_type": "stream",
     "text": [
      " Value of RMSE (Kernel = linear): 9461.61\n",
      " Value of RMSE (Kernel = linear): 7216.45\n",
      " Value of RMSE (Kernel = linear): 4507.96\n",
      " Value of RMSE (Kernel = linear): 3996.95\n",
      " Value of RMSE (Kernel = linear): 3957.88\n",
      " Value of RMSE (Kernel = linear): 4116.43\n",
      " Value of RMSE (Kernel = linear): 4147.04\n",
      " Value of RMSE (Kernel = linear): 4226.70\n",
      " Value of RMSE (Kernel = linear): 4614.88\n"
     ]
    }
   ],
   "source": [
    "# Linear kernel with different C values;\n",
    "\n",
    "values2 = [-3,-2,-1,0,1,2,3,4,5]\n",
    "results2 = list(map(lambda x: (10**x), values2))\n",
    "\n",
    "for c in results2:\n",
    "    Y = numerical_columns_df['price']\n",
    "    X = numerical_columns_df[['carwidth','enginesize','horsepower']]\n",
    "    lrm = linear_model.LinearRegression()\n",
    "    lrm.fit(X, Y)\n",
    "    X_train, X_test, y_train, y_test = train_test_split(X, Y, test_size = 0.155, random_state = 42)\n",
    "    \n",
    "    svr_reg = SVR(kernel='linear', C=c)\n",
    "    svr_reg.fit(X_train, y_train)\n",
    "    y_predict = svr_reg.predict(X_test)\n",
    "    rmse_test = MSE(y_test, y_predict)**(1/2)\n",
    "    print(\" Value of RMSE (Kernel = linear): {:.2f}\".format(rmse_test))"
   ]
  },
  {
   "cell_type": "markdown",
   "metadata": {},
   "source": [
    "We got our best result when C=1. If we had it when C=0, then we should have check for overfitting."
   ]
  },
  {
   "cell_type": "markdown",
   "metadata": {},
   "source": [
    "# XGBoost"
   ]
  },
  {
   "cell_type": "code",
   "execution_count": null,
   "metadata": {},
   "outputs": [],
   "source": [
    "!pip install xgboost"
   ]
  },
  {
   "cell_type": "code",
   "execution_count": 263,
   "metadata": {},
   "outputs": [],
   "source": [
    "import xgboost as xgb\n",
    "Y = numerical_columns_df['price']\n",
    "X = numerical_columns_df[['symboling', 'carlength', 'carwidth', 'carheight','curbweight','enginesize','boreratio','horsepower']]\n",
    "\n",
    "X_train, X_test, y_train, y_test = train_test_split(X, y, test_size=0.155, random_state=123)\n",
    "\n",
    "xg_reg = xgb.XGBRegressor(objective ='reg:squarederror', seed=123)"
   ]
  },
  {
   "cell_type": "code",
   "execution_count": 264,
   "metadata": {},
   "outputs": [
    {
     "name": "stdout",
     "output_type": "stream",
     "text": [
      "RMSE: 1606.997736\n"
     ]
    }
   ],
   "source": [
    "xg_reg.fit(X_train,y_train)\n",
    "y_predict = xg_reg.predict(X_test)\n",
    "rmse = np.sqrt(mean_squared_error(y_test, y_predict))\n",
    "print(\"RMSE: %f\" % (rmse))"
   ]
  },
  {
   "cell_type": "markdown",
   "metadata": {},
   "source": [
    "Our RMSE value has decreased to an amazing level compared to the other methods.\n",
    "Recall that this used **\"gbtree\" as booster** as its set by default."
   ]
  },
  {
   "cell_type": "code",
   "execution_count": 265,
   "metadata": {},
   "outputs": [],
   "source": [
    "# XGBoost with \"gblinear\" booster\n",
    "\n",
    "DM_train = xgb.DMatrix(data = X_train, label=y_train)\n",
    "DM_test =  xgb.DMatrix(data = X_test, label=y_test)\n",
    "params = {\"booster\":\"gblinear\", \"objective\":\"reg:squarederror\"}\n",
    "xg_reg = xgb.train(dtrain=DM_train, params=params, num_boost_round=5)"
   ]
  },
  {
   "cell_type": "code",
   "execution_count": 266,
   "metadata": {},
   "outputs": [
    {
     "name": "stdout",
     "output_type": "stream",
     "text": [
      "RMSE: 5945.896700\n"
     ]
    }
   ],
   "source": [
    "y_predict_gblinear = xg_reg.predict(DM_test)\n",
    "rmse = np.sqrt(mean_squared_error(y_test, y_predict_gblinear))\n",
    "print(\"RMSE: %f\" % (rmse))"
   ]
  },
  {
   "cell_type": "markdown",
   "metadata": {},
   "source": [
    "It performed very poorly."
   ]
  },
  {
   "cell_type": "code",
   "execution_count": 267,
   "metadata": {},
   "outputs": [
    {
     "data": {
      "image/png": "[encoded data removed]",
      "text/plain": [
       "<Figure size 576x576 with 1 Axes>"
      ]
     },
     "metadata": {
      "needs_background": "light"
     },
     "output_type": "display_data"
    }
   ],
   "source": [
    "plt.figure(figsize=(8,8))\n",
    "plt.title(\"'gbtree' vs 'gblinear'\", size = 14)\n",
    "ax1 = plt.scatter(y_test, y_predict, color = '#FF914D')\n",
    "ax2 = plt.scatter(y_test, y_predict_gblinear, color='#22B573', alpha=0.30)\n",
    "ax3 = plt.plot(y_test, y_test, color=\"red\")\n",
    "plt.legend((ax1, ax2), ('gbtree', 'gblinear'))\n",
    "plt.xlabel(\"Real Values\")\n",
    "plt.ylabel(\"Predicted Values\")\n",
    "plt.show()"
   ]
  },
  {
   "cell_type": "markdown",
   "metadata": {},
   "source": [
    "# Cross Validation with XGBoost"
   ]
  },
  {
   "cell_type": "code",
   "execution_count": 268,
   "metadata": {},
   "outputs": [
    {
     "data": {
      "text/html": [
       "<div>\n",
       "<style scoped>\n",
       "    .dataframe tbody tr th:only-of-type {\n",
       "        vertical-align: middle;\n",
       "    }\n",
       "\n",
       "    .dataframe tbody tr th {\n",
       "        vertical-align: top;\n",
       "    }\n",
       "\n",
       "    .dataframe thead th {\n",
       "        text-align: right;\n",
       "    }\n",
       "</style>\n",
       "<table border=\"1\" class=\"dataframe\">\n",
       "  <thead>\n",
       "    <tr style=\"text-align: right;\">\n",
       "      <th></th>\n",
       "      <th>train-rmse-mean</th>\n",
       "      <th>train-rmse-std</th>\n",
       "      <th>test-rmse-mean</th>\n",
       "      <th>test-rmse-std</th>\n",
       "    </tr>\n",
       "  </thead>\n",
       "  <tbody>\n",
       "    <tr>\n",
       "      <th>14</th>\n",
       "      <td>977.004</td>\n",
       "      <td>51.257</td>\n",
       "      <td>2183.435</td>\n",
       "      <td>545.888</td>\n",
       "    </tr>\n",
       "    <tr>\n",
       "      <th>13</th>\n",
       "      <td>1031.341</td>\n",
       "      <td>53.746</td>\n",
       "      <td>2211.826</td>\n",
       "      <td>556.972</td>\n",
       "    </tr>\n",
       "    <tr>\n",
       "      <th>12</th>\n",
       "      <td>1096.113</td>\n",
       "      <td>58.263</td>\n",
       "      <td>2221.270</td>\n",
       "      <td>567.299</td>\n",
       "    </tr>\n",
       "    <tr>\n",
       "      <th>11</th>\n",
       "      <td>1172.628</td>\n",
       "      <td>60.735</td>\n",
       "      <td>2263.060</td>\n",
       "      <td>570.889</td>\n",
       "    </tr>\n",
       "    <tr>\n",
       "      <th>10</th>\n",
       "      <td>1271.603</td>\n",
       "      <td>61.201</td>\n",
       "      <td>2290.834</td>\n",
       "      <td>563.695</td>\n",
       "    </tr>\n",
       "  </tbody>\n",
       "</table>\n",
       "</div>"
      ],
      "text/plain": [
       "    train-rmse-mean  train-rmse-std  test-rmse-mean  test-rmse-std\n",
       "14          977.004          51.257        2183.435        545.888\n",
       "13         1031.341          53.746        2211.826        556.972\n",
       "12         1096.113          58.263        2221.270        567.299\n",
       "11         1172.628          60.735        2263.060        570.889\n",
       "10         1271.603          61.201        2290.834        563.695"
      ]
     },
     "metadata": {},
     "output_type": "display_data"
    }
   ],
   "source": [
    "# cross val with 7-folds\n",
    "car_prices_dmatrix = xgb.DMatrix(data=X, label=y)\n",
    "params = {\"objective\":\"reg:squarederror\", \"max_depth\":4}\n",
    "car_prices_cv = xgb.cv(dtrain=car_prices_dmatrix, params=params, nfold=7, \n",
    "                    num_boost_round=100, early_stopping_rounds = 5, metrics=\"rmse\", as_pandas=True, seed=123)\n",
    "display(car_prices_cv.sort_values(by='test-rmse-mean').head(5))"
   ]
  },
  {
   "cell_type": "code",
   "execution_count": 269,
   "metadata": {},
   "outputs": [
    {
     "data": {
      "text/html": [
       "<div>\n",
       "<style scoped>\n",
       "    .dataframe tbody tr th:only-of-type {\n",
       "        vertical-align: middle;\n",
       "    }\n",
       "\n",
       "    .dataframe tbody tr th {\n",
       "        vertical-align: top;\n",
       "    }\n",
       "\n",
       "    .dataframe thead th {\n",
       "        text-align: right;\n",
       "    }\n",
       "</style>\n",
       "<table border=\"1\" class=\"dataframe\">\n",
       "  <thead>\n",
       "    <tr style=\"text-align: right;\">\n",
       "      <th></th>\n",
       "      <th>train-rmse-mean</th>\n",
       "      <th>train-rmse-std</th>\n",
       "      <th>test-rmse-mean</th>\n",
       "      <th>test-rmse-std</th>\n",
       "    </tr>\n",
       "  </thead>\n",
       "  <tbody>\n",
       "    <tr>\n",
       "      <th>12</th>\n",
       "      <td>707.361</td>\n",
       "      <td>32.556</td>\n",
       "      <td>2211.081</td>\n",
       "      <td>697.848</td>\n",
       "    </tr>\n",
       "    <tr>\n",
       "      <th>11</th>\n",
       "      <td>809.186</td>\n",
       "      <td>34.984</td>\n",
       "      <td>2218.041</td>\n",
       "      <td>699.364</td>\n",
       "    </tr>\n",
       "    <tr>\n",
       "      <th>10</th>\n",
       "      <td>946.407</td>\n",
       "      <td>38.729</td>\n",
       "      <td>2252.166</td>\n",
       "      <td>714.873</td>\n",
       "    </tr>\n",
       "    <tr>\n",
       "      <th>9</th>\n",
       "      <td>1126.904</td>\n",
       "      <td>41.540</td>\n",
       "      <td>2305.561</td>\n",
       "      <td>714.286</td>\n",
       "    </tr>\n",
       "    <tr>\n",
       "      <th>8</th>\n",
       "      <td>1368.282</td>\n",
       "      <td>46.071</td>\n",
       "      <td>2390.457</td>\n",
       "      <td>716.787</td>\n",
       "    </tr>\n",
       "  </tbody>\n",
       "</table>\n",
       "</div>"
      ],
      "text/plain": [
       "    train-rmse-mean  train-rmse-std  test-rmse-mean  test-rmse-std\n",
       "12          707.361          32.556        2211.081        697.848\n",
       "11          809.186          34.984        2218.041        699.364\n",
       "10          946.407          38.729        2252.166        714.873\n",
       "9          1126.904          41.540        2305.561        714.286\n",
       "8          1368.282          46.071        2390.457        716.787"
      ]
     },
     "metadata": {},
     "output_type": "display_data"
    }
   ],
   "source": [
    "# cross val with 7-folds with larger depth\n",
    "car_prices_dmatrix = xgb.DMatrix(data=X, label=y)\n",
    "params = {\"objective\":\"reg:squarederror\", \"max_depth\":7}\n",
    "car_prices_cv = xgb.cv(dtrain=car_prices_dmatrix, params=params, nfold=7, \n",
    "                    num_boost_round=100, early_stopping_rounds = 5, metrics=\"rmse\", as_pandas=True, seed=123)\n",
    "display(car_prices_cv.sort_values(by='test-rmse-mean').head(5))"
   ]
  },
  {
   "cell_type": "markdown",
   "metadata": {},
   "source": [
    "It performed poorer than the previous one."
   ]
  },
  {
   "cell_type": "code",
   "execution_count": 270,
   "metadata": {},
   "outputs": [
    {
     "data": {
      "text/html": [
       "<div>\n",
       "<style scoped>\n",
       "    .dataframe tbody tr th:only-of-type {\n",
       "        vertical-align: middle;\n",
       "    }\n",
       "\n",
       "    .dataframe tbody tr th {\n",
       "        vertical-align: top;\n",
       "    }\n",
       "\n",
       "    .dataframe thead th {\n",
       "        text-align: right;\n",
       "    }\n",
       "</style>\n",
       "<table border=\"1\" class=\"dataframe\">\n",
       "  <thead>\n",
       "    <tr style=\"text-align: right;\">\n",
       "      <th></th>\n",
       "      <th>train-rmse-mean</th>\n",
       "      <th>train-rmse-std</th>\n",
       "      <th>test-rmse-mean</th>\n",
       "      <th>test-rmse-std</th>\n",
       "    </tr>\n",
       "  </thead>\n",
       "  <tbody>\n",
       "    <tr>\n",
       "      <th>29</th>\n",
       "      <td>861.906</td>\n",
       "      <td>38.845</td>\n",
       "      <td>2154.657</td>\n",
       "      <td>574.824</td>\n",
       "    </tr>\n",
       "    <tr>\n",
       "      <th>28</th>\n",
       "      <td>881.004</td>\n",
       "      <td>40.625</td>\n",
       "      <td>2159.808</td>\n",
       "      <td>569.739</td>\n",
       "    </tr>\n",
       "    <tr>\n",
       "      <th>26</th>\n",
       "      <td>928.711</td>\n",
       "      <td>43.030</td>\n",
       "      <td>2171.979</td>\n",
       "      <td>569.624</td>\n",
       "    </tr>\n",
       "    <tr>\n",
       "      <th>27</th>\n",
       "      <td>899.975</td>\n",
       "      <td>40.460</td>\n",
       "      <td>2172.726</td>\n",
       "      <td>567.851</td>\n",
       "    </tr>\n",
       "    <tr>\n",
       "      <th>25</th>\n",
       "      <td>950.694</td>\n",
       "      <td>46.714</td>\n",
       "      <td>2177.001</td>\n",
       "      <td>566.185</td>\n",
       "    </tr>\n",
       "  </tbody>\n",
       "</table>\n",
       "</div>"
      ],
      "text/plain": [
       "    train-rmse-mean  train-rmse-std  test-rmse-mean  test-rmse-std\n",
       "29          861.906          38.845        2154.657        574.824\n",
       "28          881.004          40.625        2159.808        569.739\n",
       "26          928.711          43.030        2171.979        569.624\n",
       "27          899.975          40.460        2172.726        567.851\n",
       "25          950.694          46.714        2177.001        566.185"
      ]
     },
     "metadata": {},
     "output_type": "display_data"
    }
   ],
   "source": [
    "# cross val with 4-folds and lesser depth\n",
    "car_prices_dmatrix = xgb.DMatrix(data=X, label=y)\n",
    "params = {\"objective\":\"reg:squarederror\", \"max_depth\":3}\n",
    "car_prices_cv = xgb.cv(dtrain=car_prices_dmatrix, params=params, nfold=7, \n",
    "                    num_boost_round=100, early_stopping_rounds = 5, metrics=\"rmse\", as_pandas=True, seed=123)\n",
    "display(car_prices_cv.sort_values(by='test-rmse-mean').head(5))"
   ]
  },
  {
   "cell_type": "markdown",
   "metadata": {},
   "source": [
    "It performed a little better than with depth 4."
   ]
  },
  {
   "cell_type": "code",
   "execution_count": 271,
   "metadata": {},
   "outputs": [
    {
     "data": {
      "text/html": [
       "<div>\n",
       "<style scoped>\n",
       "    .dataframe tbody tr th:only-of-type {\n",
       "        vertical-align: middle;\n",
       "    }\n",
       "\n",
       "    .dataframe tbody tr th {\n",
       "        vertical-align: top;\n",
       "    }\n",
       "\n",
       "    .dataframe thead th {\n",
       "        text-align: right;\n",
       "    }\n",
       "</style>\n",
       "<table border=\"1\" class=\"dataframe\">\n",
       "  <thead>\n",
       "    <tr style=\"text-align: right;\">\n",
       "      <th></th>\n",
       "      <th>train-rmse-mean</th>\n",
       "      <th>train-rmse-std</th>\n",
       "      <th>test-rmse-mean</th>\n",
       "      <th>test-rmse-std</th>\n",
       "    </tr>\n",
       "  </thead>\n",
       "  <tbody>\n",
       "    <tr>\n",
       "      <th>34</th>\n",
       "      <td>718.534</td>\n",
       "      <td>48.026</td>\n",
       "      <td>2041.855</td>\n",
       "      <td>444.232</td>\n",
       "    </tr>\n",
       "    <tr>\n",
       "      <th>33</th>\n",
       "      <td>733.263</td>\n",
       "      <td>51.118</td>\n",
       "      <td>2050.242</td>\n",
       "      <td>437.719</td>\n",
       "    </tr>\n",
       "    <tr>\n",
       "      <th>30</th>\n",
       "      <td>786.643</td>\n",
       "      <td>66.886</td>\n",
       "      <td>2050.397</td>\n",
       "      <td>448.977</td>\n",
       "    </tr>\n",
       "    <tr>\n",
       "      <th>31</th>\n",
       "      <td>772.458</td>\n",
       "      <td>67.264</td>\n",
       "      <td>2050.605</td>\n",
       "      <td>440.946</td>\n",
       "    </tr>\n",
       "    <tr>\n",
       "      <th>32</th>\n",
       "      <td>749.747</td>\n",
       "      <td>57.865</td>\n",
       "      <td>2053.430</td>\n",
       "      <td>437.672</td>\n",
       "    </tr>\n",
       "  </tbody>\n",
       "</table>\n",
       "</div>"
      ],
      "text/plain": [
       "    train-rmse-mean  train-rmse-std  test-rmse-mean  test-rmse-std\n",
       "34          718.534          48.026        2041.855        444.232\n",
       "33          733.263          51.118        2050.242        437.719\n",
       "30          786.643          66.886        2050.397        448.977\n",
       "31          772.458          67.264        2050.605        440.946\n",
       "32          749.747          57.865        2053.430        437.672"
      ]
     },
     "metadata": {},
     "output_type": "display_data"
    }
   ],
   "source": [
    "# cross val with 4-folds and lesser depth\n",
    "car_prices_dmatrix = xgb.DMatrix(data=X, label=y)\n",
    "params = {\"objective\":\"reg:squarederror\", \"max_depth\":3}\n",
    "car_prices_cv = xgb.cv(dtrain=car_prices_dmatrix, params=params, nfold=4, \n",
    "                    num_boost_round=100, early_stopping_rounds = 5, metrics=\"rmse\", as_pandas=True, seed=123)\n",
    "display(car_prices_cv.sort_values(by='test-rmse-mean').head(5))"
   ]
  },
  {
   "cell_type": "markdown",
   "metadata": {},
   "source": [
    "RMSE got a little bit better now."
   ]
  },
  {
   "cell_type": "code",
   "execution_count": 272,
   "metadata": {},
   "outputs": [
    {
     "data": {
      "text/html": [
       "<div>\n",
       "<style scoped>\n",
       "    .dataframe tbody tr th:only-of-type {\n",
       "        vertical-align: middle;\n",
       "    }\n",
       "\n",
       "    .dataframe tbody tr th {\n",
       "        vertical-align: top;\n",
       "    }\n",
       "\n",
       "    .dataframe thead th {\n",
       "        text-align: right;\n",
       "    }\n",
       "</style>\n",
       "<table border=\"1\" class=\"dataframe\">\n",
       "  <thead>\n",
       "    <tr style=\"text-align: right;\">\n",
       "      <th></th>\n",
       "      <th>train-rmse-mean</th>\n",
       "      <th>train-rmse-std</th>\n",
       "      <th>test-rmse-mean</th>\n",
       "      <th>test-rmse-std</th>\n",
       "    </tr>\n",
       "  </thead>\n",
       "  <tbody>\n",
       "    <tr>\n",
       "      <th>39</th>\n",
       "      <td>420.305</td>\n",
       "      <td>34.620</td>\n",
       "      <td>1975.201</td>\n",
       "      <td>423.591</td>\n",
       "    </tr>\n",
       "    <tr>\n",
       "      <th>38</th>\n",
       "      <td>432.573</td>\n",
       "      <td>34.886</td>\n",
       "      <td>1976.671</td>\n",
       "      <td>422.692</td>\n",
       "    </tr>\n",
       "    <tr>\n",
       "      <th>37</th>\n",
       "      <td>440.172</td>\n",
       "      <td>34.087</td>\n",
       "      <td>1978.635</td>\n",
       "      <td>423.033</td>\n",
       "    </tr>\n",
       "    <tr>\n",
       "      <th>32</th>\n",
       "      <td>498.772</td>\n",
       "      <td>30.786</td>\n",
       "      <td>1980.191</td>\n",
       "      <td>429.501</td>\n",
       "    </tr>\n",
       "    <tr>\n",
       "      <th>36</th>\n",
       "      <td>446.424</td>\n",
       "      <td>34.298</td>\n",
       "      <td>1980.707</td>\n",
       "      <td>423.070</td>\n",
       "    </tr>\n",
       "  </tbody>\n",
       "</table>\n",
       "</div>"
      ],
      "text/plain": [
       "    train-rmse-mean  train-rmse-std  test-rmse-mean  test-rmse-std\n",
       "39          420.305          34.620        1975.201        423.591\n",
       "38          432.573          34.886        1976.671        422.692\n",
       "37          440.172          34.087        1978.635        423.033\n",
       "32          498.772          30.786        1980.191        429.501\n",
       "36          446.424          34.298        1980.707        423.070"
      ]
     },
     "metadata": {},
     "output_type": "display_data"
    }
   ],
   "source": [
    "# cross val with 4-folds and depth 4\n",
    "car_prices_dmatrix = xgb.DMatrix(data=X, label=y)\n",
    "params = {\"objective\":\"reg:squarederror\", \"max_depth\":4}\n",
    "car_prices_cv = xgb.cv(dtrain=car_prices_dmatrix, params=params, nfold=4, \n",
    "                    num_boost_round=100, early_stopping_rounds = 5, metrics=\"rmse\", as_pandas=True, seed=123)\n",
    "display(car_prices_cv.sort_values(by='test-rmse-mean').head(5))"
   ]
  },
  {
   "cell_type": "markdown",
   "metadata": {},
   "source": [
    "RMSE value has decreased to 1975.201 in the 39th iteration.\n",
    "Let us check MAE scores;"
   ]
  },
  {
   "cell_type": "code",
   "execution_count": 273,
   "metadata": {},
   "outputs": [
    {
     "data": {
      "text/html": [
       "<div>\n",
       "<style scoped>\n",
       "    .dataframe tbody tr th:only-of-type {\n",
       "        vertical-align: middle;\n",
       "    }\n",
       "\n",
       "    .dataframe tbody tr th {\n",
       "        vertical-align: top;\n",
       "    }\n",
       "\n",
       "    .dataframe thead th {\n",
       "        text-align: right;\n",
       "    }\n",
       "</style>\n",
       "<table border=\"1\" class=\"dataframe\">\n",
       "  <thead>\n",
       "    <tr style=\"text-align: right;\">\n",
       "      <th></th>\n",
       "      <th>train-mae-mean</th>\n",
       "      <th>train-mae-std</th>\n",
       "      <th>test-mae-mean</th>\n",
       "      <th>test-mae-std</th>\n",
       "    </tr>\n",
       "  </thead>\n",
       "  <tbody>\n",
       "    <tr>\n",
       "      <th>39</th>\n",
       "      <td>301.396</td>\n",
       "      <td>26.704</td>\n",
       "      <td>1402.683</td>\n",
       "      <td>286.552</td>\n",
       "    </tr>\n",
       "    <tr>\n",
       "      <th>38</th>\n",
       "      <td>311.479</td>\n",
       "      <td>27.888</td>\n",
       "      <td>1403.016</td>\n",
       "      <td>282.468</td>\n",
       "    </tr>\n",
       "    <tr>\n",
       "      <th>37</th>\n",
       "      <td>318.377</td>\n",
       "      <td>26.766</td>\n",
       "      <td>1405.226</td>\n",
       "      <td>283.018</td>\n",
       "    </tr>\n",
       "    <tr>\n",
       "      <th>32</th>\n",
       "      <td>371.538</td>\n",
       "      <td>27.492</td>\n",
       "      <td>1405.719</td>\n",
       "      <td>285.860</td>\n",
       "    </tr>\n",
       "    <tr>\n",
       "      <th>35</th>\n",
       "      <td>332.700</td>\n",
       "      <td>27.245</td>\n",
       "      <td>1406.173</td>\n",
       "      <td>280.457</td>\n",
       "    </tr>\n",
       "  </tbody>\n",
       "</table>\n",
       "</div>"
      ],
      "text/plain": [
       "    train-mae-mean  train-mae-std  test-mae-mean  test-mae-std\n",
       "39         301.396         26.704       1402.683       286.552\n",
       "38         311.479         27.888       1403.016       282.468\n",
       "37         318.377         26.766       1405.226       283.018\n",
       "32         371.538         27.492       1405.719       285.860\n",
       "35         332.700         27.245       1406.173       280.457"
      ]
     },
     "metadata": {},
     "output_type": "display_data"
    }
   ],
   "source": [
    "car_prices_cv = xgb.cv(dtrain=car_prices_dmatrix, params=params, nfold=4, \n",
    "                    num_boost_round=100, early_stopping_rounds = 5, metrics=\"mae\", as_pandas=True, seed=123)\n",
    "display(car_prices_cv.sort_values(by='test-mae-mean').head(5))"
   ]
  },
  {
   "cell_type": "markdown",
   "metadata": {},
   "source": [
    "Again, we got the best result in the 39th iteration. However, they are still far from sufficient."
   ]
  },
  {
   "cell_type": "markdown",
   "metadata": {},
   "source": [
    "# Regularization with XGBoost"
   ]
  },
  {
   "cell_type": "code",
   "execution_count": 274,
   "metadata": {},
   "outputs": [],
   "source": [
    "car_prices_dmatrix = xgb.DMatrix(data=X, label=y)\n",
    "\n",
    "l1_params = np.arange(0.01, 0.2, 0.01)\n",
    "params = {\"objective\":\"reg:squarederror\",\"max_depth\":4}\n",
    "rmses_l1 = []\n",
    "for alpha in l1_params:\n",
    "    params[\"alpha\"] = alpha\n",
    "    cv_rmse = xgb.cv(dtrain=car_prices_dmatrix, params=params, nfold=4, num_boost_round=100, \n",
    "                             metrics=\"rmse\", as_pandas=True, early_stopping_rounds=10, seed=123)\n",
    "    rmses_l1.append(cv_rmse[\"test-rmse-mean\"].tail(1).values[0])"
   ]
  },
  {
   "cell_type": "code",
   "execution_count": 275,
   "metadata": {},
   "outputs": [
    {
     "name": "stdout",
     "output_type": "stream",
     "text": [
      "Best 11 values:\n"
     ]
    },
    {
     "data": {
      "text/html": [
       "<div>\n",
       "<style scoped>\n",
       "    .dataframe tbody tr th:only-of-type {\n",
       "        vertical-align: middle;\n",
       "    }\n",
       "\n",
       "    .dataframe tbody tr th {\n",
       "        vertical-align: top;\n",
       "    }\n",
       "\n",
       "    .dataframe thead th {\n",
       "        text-align: right;\n",
       "    }\n",
       "</style>\n",
       "<table border=\"1\" class=\"dataframe\">\n",
       "  <thead>\n",
       "    <tr style=\"text-align: right;\">\n",
       "      <th></th>\n",
       "      <th>l1</th>\n",
       "      <th>rmse</th>\n",
       "    </tr>\n",
       "  </thead>\n",
       "  <tbody>\n",
       "    <tr>\n",
       "      <th>17</th>\n",
       "      <td>0.180</td>\n",
       "      <td>1975.198</td>\n",
       "    </tr>\n",
       "    <tr>\n",
       "      <th>18</th>\n",
       "      <td>0.190</td>\n",
       "      <td>1975.198</td>\n",
       "    </tr>\n",
       "    <tr>\n",
       "      <th>15</th>\n",
       "      <td>0.160</td>\n",
       "      <td>1975.198</td>\n",
       "    </tr>\n",
       "    <tr>\n",
       "      <th>13</th>\n",
       "      <td>0.140</td>\n",
       "      <td>1975.198</td>\n",
       "    </tr>\n",
       "    <tr>\n",
       "      <th>14</th>\n",
       "      <td>0.150</td>\n",
       "      <td>1975.198</td>\n",
       "    </tr>\n",
       "  </tbody>\n",
       "</table>\n",
       "</div>"
      ],
      "text/plain": [
       "      l1     rmse\n",
       "17 0.180 1975.198\n",
       "18 0.190 1975.198\n",
       "15 0.160 1975.198\n",
       "13 0.140 1975.198\n",
       "14 0.150 1975.198"
      ]
     },
     "metadata": {},
     "output_type": "display_data"
    }
   ],
   "source": [
    "print(\"Best 11 values:\")\n",
    "best_values = pd.DataFrame(list(zip(l1_params, rmses_l1)), columns=[\"l1\", \"rmse\"])\n",
    "display(best_values.sort_values('rmse').head())"
   ]
  },
  {
   "cell_type": "markdown",
   "metadata": {},
   "source": [
    "# Hyperparameter Tuning in XGBoost"
   ]
  },
  {
   "cell_type": "code",
   "execution_count": 276,
   "metadata": {},
   "outputs": [
    {
     "data": {
      "image/png": "[encoded data removed]",
      "text/plain": [
       "<Figure size 1080x576 with 1 Axes>"
      ]
     },
     "metadata": {
      "needs_background": "light"
     },
     "output_type": "display_data"
    }
   ],
   "source": [
    "# Most important features wrt. to depth level 3\n",
    "best_parameters = {'objective':'reg:squarederror',\n",
    "                       'colsample_bytree': 0.7, \n",
    "                       'gamma': 0.1, \n",
    "                       'learning_rate': 0.3, \n",
    "                       'max_depth': 3, \n",
    "                       'min_child_weight': 3\n",
    "                      }\n",
    "\n",
    "car_prices_model = xgb.train(params=best_parameters, \n",
    "                             dtrain=car_prices_dmatrix,\n",
    "                             num_boost_round=10)\n",
    "\n",
    "ax = xgb.plot_importance(car_prices_model)\n",
    "ax.figure.set_size_inches(15,8)\n",
    "plt.show()"
   ]
  },
  {
   "cell_type": "code",
   "execution_count": 277,
   "metadata": {},
   "outputs": [
    {
     "data": {
      "image/png": "[encoded data removed]",
      "text/plain": [
       "<Figure size 864x576 with 1 Axes>"
      ]
     },
     "metadata": {
      "needs_background": "light"
     },
     "output_type": "display_data"
    }
   ],
   "source": [
    "# Most important features wrt. to depth level 4\n",
    "best_parameters = {'objective':'reg:squarederror',\n",
    "                       'colsample_bytree': 0.7, \n",
    "                       'gamma': 0.1, \n",
    "                       'learning_rate': 0.3, \n",
    "                       'max_depth': 4, \n",
    "                       'min_child_weight': 3\n",
    "                      }\n",
    "\n",
    "car_prices_model = xgb.train(params=best_parameters, \n",
    "                             dtrain=car_prices_dmatrix,\n",
    "                             num_boost_round=10)\n",
    "\n",
    "ax = xgb.plot_importance(car_prices_model)\n",
    "ax.figure.set_size_inches(12,8)\n",
    "plt.show()"
   ]
  },
  {
   "cell_type": "code",
   "execution_count": 278,
   "metadata": {},
   "outputs": [
    {
     "data": {
      "image/png": "[encoded data removed]",
      "text/plain": [
       "<Figure size 864x576 with 1 Axes>"
      ]
     },
     "metadata": {
      "needs_background": "light"
     },
     "output_type": "display_data"
    }
   ],
   "source": [
    "# Most important features wrt. to depth level 3\n",
    "best_parameters = {'objective':'reg:squarederror',\n",
    "                       'colsample_bytree': 0.7, \n",
    "                       'gamma': 0.1, \n",
    "                       'learning_rate': 0.3, \n",
    "                       'max_depth': 3, \n",
    "                       'min_child_weight': 5\n",
    "                      }\n",
    "\n",
    "car_prices_model = xgb.train(params=best_parameters, \n",
    "                             dtrain=car_prices_dmatrix,\n",
    "                             num_boost_round=10)\n",
    "\n",
    "ax = xgb.plot_importance(car_prices_model)\n",
    "ax.figure.set_size_inches(12,8)\n",
    "plt.show()"
   ]
  },
  {
   "cell_type": "markdown",
   "metadata": {},
   "source": [
    "Curbweight always gets a place in the first 3 features. It may be better to implement it in the upcoming models,\n",
    "if one wants to create another model."
   ]
  }
 ],
 "metadata": {
  "kernelspec": {
   "display_name": "Python 3",
   "language": "python",
   "name": "python3"
  },
  "language_info": {
   "codemirror_mode": {
    "name": "ipython",
    "version": 3
   },
   "file_extension": ".py",
   "mimetype": "text/x-python",
   "name": "python",
   "nbconvert_exporter": "python",
   "pygments_lexer": "ipython3",
   "version": "3.8.5"
  }
 },
 "nbformat": 4,
 "nbformat_minor": 4
}
